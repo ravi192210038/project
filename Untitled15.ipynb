{
  "nbformat": 4,
  "nbformat_minor": 0,
  "metadata": {
    "colab": {
      "provenance": [],
      "authorship_tag": "ABX9TyOa0wriQ89gFKOQelzcaJkG",
      "include_colab_link": true
    },
    "kernelspec": {
      "name": "python3",
      "display_name": "Python 3"
    },
    "language_info": {
      "name": "python"
    }
  },
  "cells": [
    {
      "cell_type": "markdown",
      "metadata": {
        "id": "view-in-github",
        "colab_type": "text"
      },
      "source": [
        "<a href=\"https://colab.research.google.com/github/ravi192210038/project/blob/main/Untitled15.ipynb\" target=\"_parent\"><img src=\"https://colab.research.google.com/assets/colab-badge.svg\" alt=\"Open In Colab\"/></a>"
      ]
    },
    {
      "cell_type": "markdown",
      "source": [
        "import libraries\n"
      ],
      "metadata": {
        "id": "zX5vc834-uQO"
      }
    },
    {
      "cell_type": "code",
      "source": [
        "import pandas as pd\n",
        "import numpy as np"
      ],
      "metadata": {
        "id": "B5HGgONj-xUt"
      },
      "execution_count": 1,
      "outputs": []
    },
    {
      "cell_type": "markdown",
      "source": [
        "import dataset\n"
      ],
      "metadata": {
        "id": "JrBckh46-_PK"
      }
    },
    {
      "cell_type": "code",
      "source": [
        "df=pd.read_csv(r'https://raw.githubusercontent.com/YBI-Foundation/Dataset/main/Movies%20Recommendation.csv')"
      ],
      "metadata": {
        "id": "ITmBWusF_ES2"
      },
      "execution_count": 2,
      "outputs": []
    },
    {
      "cell_type": "code",
      "source": [
        "df.head()"
      ],
      "metadata": {
        "colab": {
          "base_uri": "https://localhost:8080/",
          "height": 672
        },
        "id": "6kwbzyy8BEEb",
        "outputId": "93aaa73e-ce9c-4dd7-9869-3c38d77872a7"
      },
      "execution_count": 3,
      "outputs": [
        {
          "output_type": "execute_result",
          "data": {
            "text/plain": [
              "   Movie_ID      Movie_Title                       Movie_Genre Movie_Language  \\\n",
              "0         1       Four Rooms                      Crime Comedy             en   \n",
              "1         2        Star Wars  Adventure Action Science Fiction             en   \n",
              "2         3     Finding Nemo                  Animation Family             en   \n",
              "3         4     Forrest Gump              Comedy Drama Romance             en   \n",
              "4         5  American Beauty                             Drama             en   \n",
              "\n",
              "   Movie_Budget  Movie_Popularity Movie_Release_Date  Movie_Revenue  \\\n",
              "0       4000000         22.876230         09-12-1995        4300000   \n",
              "1      11000000        126.393695         25-05-1977      775398007   \n",
              "2      94000000         85.688789         30-05-2003      940335536   \n",
              "3      55000000        138.133331         06-07-1994      677945399   \n",
              "4      15000000         80.878605         15-09-1999      356296601   \n",
              "\n",
              "   Movie_Runtime  Movie_Vote  ...  \\\n",
              "0           98.0         6.5  ...   \n",
              "1          121.0         8.1  ...   \n",
              "2          100.0         7.6  ...   \n",
              "3          142.0         8.2  ...   \n",
              "4          122.0         7.9  ...   \n",
              "\n",
              "                                      Movie_Homepage  \\\n",
              "0                                                NaN   \n",
              "1  http://www.starwars.com/films/star-wars-episod...   \n",
              "2              http://movies.disney.com/finding-nemo   \n",
              "3                                                NaN   \n",
              "4                      http://www.dreamworks.com/ab/   \n",
              "\n",
              "                                      Movie_Keywords  \\\n",
              "0          hotel new year's eve witch bet hotel room   \n",
              "1        android galaxy hermit death star lightsaber   \n",
              "2  father son relationship harbor underwater fish...   \n",
              "3  vietnam veteran hippie mentally disabled runni...   \n",
              "4  male nudity female nudity adultery midlife cri...   \n",
              "\n",
              "                                      Movie_Overview  \\\n",
              "0  It's Ted the Bellhop's first night on the job....   \n",
              "1  Princess Leia is captured and held hostage by ...   \n",
              "2  Nemo, an adventurous young clownfish, is unexp...   \n",
              "3  A man with a low IQ has accomplished great thi...   \n",
              "4  Lester Burnham, a depressed suburban father in...   \n",
              "\n",
              "                              Movie_Production_House  \\\n",
              "0  [{\"name\": \"Miramax Films\", \"id\": 14}, {\"name\":...   \n",
              "1  [{\"name\": \"Lucasfilm\", \"id\": 1}, {\"name\": \"Twe...   \n",
              "2     [{\"name\": \"Pixar Animation Studios\", \"id\": 3}]   \n",
              "3          [{\"name\": \"Paramount Pictures\", \"id\": 4}]   \n",
              "4  [{\"name\": \"DreamWorks SKG\", \"id\": 27}, {\"name\"...   \n",
              "\n",
              "                            Movie_Production_Country  \\\n",
              "0  [{\"iso_3166_1\": \"US\", \"name\": \"United States o...   \n",
              "1  [{\"iso_3166_1\": \"US\", \"name\": \"United States o...   \n",
              "2  [{\"iso_3166_1\": \"US\", \"name\": \"United States o...   \n",
              "3  [{\"iso_3166_1\": \"US\", \"name\": \"United States o...   \n",
              "4  [{\"iso_3166_1\": \"US\", \"name\": \"United States o...   \n",
              "\n",
              "                      Movie_Spoken_Language  \\\n",
              "0  [{\"iso_639_1\": \"en\", \"name\": \"English\"}]   \n",
              "1  [{\"iso_639_1\": \"en\", \"name\": \"English\"}]   \n",
              "2  [{\"iso_639_1\": \"en\", \"name\": \"English\"}]   \n",
              "3  [{\"iso_639_1\": \"en\", \"name\": \"English\"}]   \n",
              "4  [{\"iso_639_1\": \"en\", \"name\": \"English\"}]   \n",
              "\n",
              "                                       Movie_Tagline  \\\n",
              "0  Twelve outrageous guests. Four scandalous requ...   \n",
              "1       A long time ago in a galaxy far, far away...   \n",
              "2  There are 3.7 trillion fish in the ocean, they...   \n",
              "3  The world will never be the same, once you've ...   \n",
              "4                                       Look closer.   \n",
              "\n",
              "                                          Movie_Cast  \\\n",
              "0  Tim Roth Antonio Banderas Jennifer Beals Madon...   \n",
              "1  Mark Hamill Harrison Ford Carrie Fisher Peter ...   \n",
              "2  Albert Brooks Ellen DeGeneres Alexander Gould ...   \n",
              "3  Tom Hanks Robin Wright Gary Sinise Mykelti Wil...   \n",
              "4  Kevin Spacey Annette Bening Thora Birch Wes Be...   \n",
              "\n",
              "                                          Movie_Crew   Movie_Director  \n",
              "0  [{'name': 'Allison Anders', 'gender': 1, 'depa...   Allison Anders  \n",
              "1  [{'name': 'George Lucas', 'gender': 2, 'depart...     George Lucas  \n",
              "2  [{'name': 'Andrew Stanton', 'gender': 2, 'depa...   Andrew Stanton  \n",
              "3  [{'name': 'Alan Silvestri', 'gender': 2, 'depa...  Robert Zemeckis  \n",
              "4  [{'name': 'Thomas Newman', 'gender': 2, 'depar...       Sam Mendes  \n",
              "\n",
              "[5 rows x 21 columns]"
            ],
            "text/html": [
              "\n",
              "  <div id=\"df-e152d8ee-b37e-4e65-a350-95e88666aae9\" class=\"colab-df-container\">\n",
              "    <div>\n",
              "<style scoped>\n",
              "    .dataframe tbody tr th:only-of-type {\n",
              "        vertical-align: middle;\n",
              "    }\n",
              "\n",
              "    .dataframe tbody tr th {\n",
              "        vertical-align: top;\n",
              "    }\n",
              "\n",
              "    .dataframe thead th {\n",
              "        text-align: right;\n",
              "    }\n",
              "</style>\n",
              "<table border=\"1\" class=\"dataframe\">\n",
              "  <thead>\n",
              "    <tr style=\"text-align: right;\">\n",
              "      <th></th>\n",
              "      <th>Movie_ID</th>\n",
              "      <th>Movie_Title</th>\n",
              "      <th>Movie_Genre</th>\n",
              "      <th>Movie_Language</th>\n",
              "      <th>Movie_Budget</th>\n",
              "      <th>Movie_Popularity</th>\n",
              "      <th>Movie_Release_Date</th>\n",
              "      <th>Movie_Revenue</th>\n",
              "      <th>Movie_Runtime</th>\n",
              "      <th>Movie_Vote</th>\n",
              "      <th>...</th>\n",
              "      <th>Movie_Homepage</th>\n",
              "      <th>Movie_Keywords</th>\n",
              "      <th>Movie_Overview</th>\n",
              "      <th>Movie_Production_House</th>\n",
              "      <th>Movie_Production_Country</th>\n",
              "      <th>Movie_Spoken_Language</th>\n",
              "      <th>Movie_Tagline</th>\n",
              "      <th>Movie_Cast</th>\n",
              "      <th>Movie_Crew</th>\n",
              "      <th>Movie_Director</th>\n",
              "    </tr>\n",
              "  </thead>\n",
              "  <tbody>\n",
              "    <tr>\n",
              "      <th>0</th>\n",
              "      <td>1</td>\n",
              "      <td>Four Rooms</td>\n",
              "      <td>Crime Comedy</td>\n",
              "      <td>en</td>\n",
              "      <td>4000000</td>\n",
              "      <td>22.876230</td>\n",
              "      <td>09-12-1995</td>\n",
              "      <td>4300000</td>\n",
              "      <td>98.0</td>\n",
              "      <td>6.5</td>\n",
              "      <td>...</td>\n",
              "      <td>NaN</td>\n",
              "      <td>hotel new year's eve witch bet hotel room</td>\n",
              "      <td>It's Ted the Bellhop's first night on the job....</td>\n",
              "      <td>[{\"name\": \"Miramax Films\", \"id\": 14}, {\"name\":...</td>\n",
              "      <td>[{\"iso_3166_1\": \"US\", \"name\": \"United States o...</td>\n",
              "      <td>[{\"iso_639_1\": \"en\", \"name\": \"English\"}]</td>\n",
              "      <td>Twelve outrageous guests. Four scandalous requ...</td>\n",
              "      <td>Tim Roth Antonio Banderas Jennifer Beals Madon...</td>\n",
              "      <td>[{'name': 'Allison Anders', 'gender': 1, 'depa...</td>\n",
              "      <td>Allison Anders</td>\n",
              "    </tr>\n",
              "    <tr>\n",
              "      <th>1</th>\n",
              "      <td>2</td>\n",
              "      <td>Star Wars</td>\n",
              "      <td>Adventure Action Science Fiction</td>\n",
              "      <td>en</td>\n",
              "      <td>11000000</td>\n",
              "      <td>126.393695</td>\n",
              "      <td>25-05-1977</td>\n",
              "      <td>775398007</td>\n",
              "      <td>121.0</td>\n",
              "      <td>8.1</td>\n",
              "      <td>...</td>\n",
              "      <td>http://www.starwars.com/films/star-wars-episod...</td>\n",
              "      <td>android galaxy hermit death star lightsaber</td>\n",
              "      <td>Princess Leia is captured and held hostage by ...</td>\n",
              "      <td>[{\"name\": \"Lucasfilm\", \"id\": 1}, {\"name\": \"Twe...</td>\n",
              "      <td>[{\"iso_3166_1\": \"US\", \"name\": \"United States o...</td>\n",
              "      <td>[{\"iso_639_1\": \"en\", \"name\": \"English\"}]</td>\n",
              "      <td>A long time ago in a galaxy far, far away...</td>\n",
              "      <td>Mark Hamill Harrison Ford Carrie Fisher Peter ...</td>\n",
              "      <td>[{'name': 'George Lucas', 'gender': 2, 'depart...</td>\n",
              "      <td>George Lucas</td>\n",
              "    </tr>\n",
              "    <tr>\n",
              "      <th>2</th>\n",
              "      <td>3</td>\n",
              "      <td>Finding Nemo</td>\n",
              "      <td>Animation Family</td>\n",
              "      <td>en</td>\n",
              "      <td>94000000</td>\n",
              "      <td>85.688789</td>\n",
              "      <td>30-05-2003</td>\n",
              "      <td>940335536</td>\n",
              "      <td>100.0</td>\n",
              "      <td>7.6</td>\n",
              "      <td>...</td>\n",
              "      <td>http://movies.disney.com/finding-nemo</td>\n",
              "      <td>father son relationship harbor underwater fish...</td>\n",
              "      <td>Nemo, an adventurous young clownfish, is unexp...</td>\n",
              "      <td>[{\"name\": \"Pixar Animation Studios\", \"id\": 3}]</td>\n",
              "      <td>[{\"iso_3166_1\": \"US\", \"name\": \"United States o...</td>\n",
              "      <td>[{\"iso_639_1\": \"en\", \"name\": \"English\"}]</td>\n",
              "      <td>There are 3.7 trillion fish in the ocean, they...</td>\n",
              "      <td>Albert Brooks Ellen DeGeneres Alexander Gould ...</td>\n",
              "      <td>[{'name': 'Andrew Stanton', 'gender': 2, 'depa...</td>\n",
              "      <td>Andrew Stanton</td>\n",
              "    </tr>\n",
              "    <tr>\n",
              "      <th>3</th>\n",
              "      <td>4</td>\n",
              "      <td>Forrest Gump</td>\n",
              "      <td>Comedy Drama Romance</td>\n",
              "      <td>en</td>\n",
              "      <td>55000000</td>\n",
              "      <td>138.133331</td>\n",
              "      <td>06-07-1994</td>\n",
              "      <td>677945399</td>\n",
              "      <td>142.0</td>\n",
              "      <td>8.2</td>\n",
              "      <td>...</td>\n",
              "      <td>NaN</td>\n",
              "      <td>vietnam veteran hippie mentally disabled runni...</td>\n",
              "      <td>A man with a low IQ has accomplished great thi...</td>\n",
              "      <td>[{\"name\": \"Paramount Pictures\", \"id\": 4}]</td>\n",
              "      <td>[{\"iso_3166_1\": \"US\", \"name\": \"United States o...</td>\n",
              "      <td>[{\"iso_639_1\": \"en\", \"name\": \"English\"}]</td>\n",
              "      <td>The world will never be the same, once you've ...</td>\n",
              "      <td>Tom Hanks Robin Wright Gary Sinise Mykelti Wil...</td>\n",
              "      <td>[{'name': 'Alan Silvestri', 'gender': 2, 'depa...</td>\n",
              "      <td>Robert Zemeckis</td>\n",
              "    </tr>\n",
              "    <tr>\n",
              "      <th>4</th>\n",
              "      <td>5</td>\n",
              "      <td>American Beauty</td>\n",
              "      <td>Drama</td>\n",
              "      <td>en</td>\n",
              "      <td>15000000</td>\n",
              "      <td>80.878605</td>\n",
              "      <td>15-09-1999</td>\n",
              "      <td>356296601</td>\n",
              "      <td>122.0</td>\n",
              "      <td>7.9</td>\n",
              "      <td>...</td>\n",
              "      <td>http://www.dreamworks.com/ab/</td>\n",
              "      <td>male nudity female nudity adultery midlife cri...</td>\n",
              "      <td>Lester Burnham, a depressed suburban father in...</td>\n",
              "      <td>[{\"name\": \"DreamWorks SKG\", \"id\": 27}, {\"name\"...</td>\n",
              "      <td>[{\"iso_3166_1\": \"US\", \"name\": \"United States o...</td>\n",
              "      <td>[{\"iso_639_1\": \"en\", \"name\": \"English\"}]</td>\n",
              "      <td>Look closer.</td>\n",
              "      <td>Kevin Spacey Annette Bening Thora Birch Wes Be...</td>\n",
              "      <td>[{'name': 'Thomas Newman', 'gender': 2, 'depar...</td>\n",
              "      <td>Sam Mendes</td>\n",
              "    </tr>\n",
              "  </tbody>\n",
              "</table>\n",
              "<p>5 rows × 21 columns</p>\n",
              "</div>\n",
              "    <div class=\"colab-df-buttons\">\n",
              "\n",
              "  <div class=\"colab-df-container\">\n",
              "    <button class=\"colab-df-convert\" onclick=\"convertToInteractive('df-e152d8ee-b37e-4e65-a350-95e88666aae9')\"\n",
              "            title=\"Convert this dataframe to an interactive table.\"\n",
              "            style=\"display:none;\">\n",
              "\n",
              "  <svg xmlns=\"http://www.w3.org/2000/svg\" height=\"24px\" viewBox=\"0 -960 960 960\">\n",
              "    <path d=\"M120-120v-720h720v720H120Zm60-500h600v-160H180v160Zm220 220h160v-160H400v160Zm0 220h160v-160H400v160ZM180-400h160v-160H180v160Zm440 0h160v-160H620v160ZM180-180h160v-160H180v160Zm440 0h160v-160H620v160Z\"/>\n",
              "  </svg>\n",
              "    </button>\n",
              "\n",
              "  <style>\n",
              "    .colab-df-container {\n",
              "      display:flex;\n",
              "      gap: 12px;\n",
              "    }\n",
              "\n",
              "    .colab-df-convert {\n",
              "      background-color: #E8F0FE;\n",
              "      border: none;\n",
              "      border-radius: 50%;\n",
              "      cursor: pointer;\n",
              "      display: none;\n",
              "      fill: #1967D2;\n",
              "      height: 32px;\n",
              "      padding: 0 0 0 0;\n",
              "      width: 32px;\n",
              "    }\n",
              "\n",
              "    .colab-df-convert:hover {\n",
              "      background-color: #E2EBFA;\n",
              "      box-shadow: 0px 1px 2px rgba(60, 64, 67, 0.3), 0px 1px 3px 1px rgba(60, 64, 67, 0.15);\n",
              "      fill: #174EA6;\n",
              "    }\n",
              "\n",
              "    .colab-df-buttons div {\n",
              "      margin-bottom: 4px;\n",
              "    }\n",
              "\n",
              "    [theme=dark] .colab-df-convert {\n",
              "      background-color: #3B4455;\n",
              "      fill: #D2E3FC;\n",
              "    }\n",
              "\n",
              "    [theme=dark] .colab-df-convert:hover {\n",
              "      background-color: #434B5C;\n",
              "      box-shadow: 0px 1px 3px 1px rgba(0, 0, 0, 0.15);\n",
              "      filter: drop-shadow(0px 1px 2px rgba(0, 0, 0, 0.3));\n",
              "      fill: #FFFFFF;\n",
              "    }\n",
              "  </style>\n",
              "\n",
              "    <script>\n",
              "      const buttonEl =\n",
              "        document.querySelector('#df-e152d8ee-b37e-4e65-a350-95e88666aae9 button.colab-df-convert');\n",
              "      buttonEl.style.display =\n",
              "        google.colab.kernel.accessAllowed ? 'block' : 'none';\n",
              "\n",
              "      async function convertToInteractive(key) {\n",
              "        const element = document.querySelector('#df-e152d8ee-b37e-4e65-a350-95e88666aae9');\n",
              "        const dataTable =\n",
              "          await google.colab.kernel.invokeFunction('convertToInteractive',\n",
              "                                                    [key], {});\n",
              "        if (!dataTable) return;\n",
              "\n",
              "        const docLinkHtml = 'Like what you see? Visit the ' +\n",
              "          '<a target=\"_blank\" href=https://colab.research.google.com/notebooks/data_table.ipynb>data table notebook</a>'\n",
              "          + ' to learn more about interactive tables.';\n",
              "        element.innerHTML = '';\n",
              "        dataTable['output_type'] = 'display_data';\n",
              "        await google.colab.output.renderOutput(dataTable, element);\n",
              "        const docLink = document.createElement('div');\n",
              "        docLink.innerHTML = docLinkHtml;\n",
              "        element.appendChild(docLink);\n",
              "      }\n",
              "    </script>\n",
              "  </div>\n",
              "\n",
              "\n",
              "<div id=\"df-2f9a3dcb-47d2-4b72-93bc-67b05592dde8\">\n",
              "  <button class=\"colab-df-quickchart\" onclick=\"quickchart('df-2f9a3dcb-47d2-4b72-93bc-67b05592dde8')\"\n",
              "            title=\"Suggest charts\"\n",
              "            style=\"display:none;\">\n",
              "\n",
              "<svg xmlns=\"http://www.w3.org/2000/svg\" height=\"24px\"viewBox=\"0 0 24 24\"\n",
              "     width=\"24px\">\n",
              "    <g>\n",
              "        <path d=\"M19 3H5c-1.1 0-2 .9-2 2v14c0 1.1.9 2 2 2h14c1.1 0 2-.9 2-2V5c0-1.1-.9-2-2-2zM9 17H7v-7h2v7zm4 0h-2V7h2v10zm4 0h-2v-4h2v4z\"/>\n",
              "    </g>\n",
              "</svg>\n",
              "  </button>\n",
              "\n",
              "<style>\n",
              "  .colab-df-quickchart {\n",
              "      --bg-color: #E8F0FE;\n",
              "      --fill-color: #1967D2;\n",
              "      --hover-bg-color: #E2EBFA;\n",
              "      --hover-fill-color: #174EA6;\n",
              "      --disabled-fill-color: #AAA;\n",
              "      --disabled-bg-color: #DDD;\n",
              "  }\n",
              "\n",
              "  [theme=dark] .colab-df-quickchart {\n",
              "      --bg-color: #3B4455;\n",
              "      --fill-color: #D2E3FC;\n",
              "      --hover-bg-color: #434B5C;\n",
              "      --hover-fill-color: #FFFFFF;\n",
              "      --disabled-bg-color: #3B4455;\n",
              "      --disabled-fill-color: #666;\n",
              "  }\n",
              "\n",
              "  .colab-df-quickchart {\n",
              "    background-color: var(--bg-color);\n",
              "    border: none;\n",
              "    border-radius: 50%;\n",
              "    cursor: pointer;\n",
              "    display: none;\n",
              "    fill: var(--fill-color);\n",
              "    height: 32px;\n",
              "    padding: 0;\n",
              "    width: 32px;\n",
              "  }\n",
              "\n",
              "  .colab-df-quickchart:hover {\n",
              "    background-color: var(--hover-bg-color);\n",
              "    box-shadow: 0 1px 2px rgba(60, 64, 67, 0.3), 0 1px 3px 1px rgba(60, 64, 67, 0.15);\n",
              "    fill: var(--button-hover-fill-color);\n",
              "  }\n",
              "\n",
              "  .colab-df-quickchart-complete:disabled,\n",
              "  .colab-df-quickchart-complete:disabled:hover {\n",
              "    background-color: var(--disabled-bg-color);\n",
              "    fill: var(--disabled-fill-color);\n",
              "    box-shadow: none;\n",
              "  }\n",
              "\n",
              "  .colab-df-spinner {\n",
              "    border: 2px solid var(--fill-color);\n",
              "    border-color: transparent;\n",
              "    border-bottom-color: var(--fill-color);\n",
              "    animation:\n",
              "      spin 1s steps(1) infinite;\n",
              "  }\n",
              "\n",
              "  @keyframes spin {\n",
              "    0% {\n",
              "      border-color: transparent;\n",
              "      border-bottom-color: var(--fill-color);\n",
              "      border-left-color: var(--fill-color);\n",
              "    }\n",
              "    20% {\n",
              "      border-color: transparent;\n",
              "      border-left-color: var(--fill-color);\n",
              "      border-top-color: var(--fill-color);\n",
              "    }\n",
              "    30% {\n",
              "      border-color: transparent;\n",
              "      border-left-color: var(--fill-color);\n",
              "      border-top-color: var(--fill-color);\n",
              "      border-right-color: var(--fill-color);\n",
              "    }\n",
              "    40% {\n",
              "      border-color: transparent;\n",
              "      border-right-color: var(--fill-color);\n",
              "      border-top-color: var(--fill-color);\n",
              "    }\n",
              "    60% {\n",
              "      border-color: transparent;\n",
              "      border-right-color: var(--fill-color);\n",
              "    }\n",
              "    80% {\n",
              "      border-color: transparent;\n",
              "      border-right-color: var(--fill-color);\n",
              "      border-bottom-color: var(--fill-color);\n",
              "    }\n",
              "    90% {\n",
              "      border-color: transparent;\n",
              "      border-bottom-color: var(--fill-color);\n",
              "    }\n",
              "  }\n",
              "</style>\n",
              "\n",
              "  <script>\n",
              "    async function quickchart(key) {\n",
              "      const quickchartButtonEl =\n",
              "        document.querySelector('#' + key + ' button');\n",
              "      quickchartButtonEl.disabled = true;  // To prevent multiple clicks.\n",
              "      quickchartButtonEl.classList.add('colab-df-spinner');\n",
              "      try {\n",
              "        const charts = await google.colab.kernel.invokeFunction(\n",
              "            'suggestCharts', [key], {});\n",
              "      } catch (error) {\n",
              "        console.error('Error during call to suggestCharts:', error);\n",
              "      }\n",
              "      quickchartButtonEl.classList.remove('colab-df-spinner');\n",
              "      quickchartButtonEl.classList.add('colab-df-quickchart-complete');\n",
              "    }\n",
              "    (() => {\n",
              "      let quickchartButtonEl =\n",
              "        document.querySelector('#df-2f9a3dcb-47d2-4b72-93bc-67b05592dde8 button');\n",
              "      quickchartButtonEl.style.display =\n",
              "        google.colab.kernel.accessAllowed ? 'block' : 'none';\n",
              "    })();\n",
              "  </script>\n",
              "</div>\n",
              "\n",
              "    </div>\n",
              "  </div>\n"
            ],
            "application/vnd.google.colaboratory.intrinsic+json": {
              "type": "dataframe",
              "variable_name": "df"
            }
          },
          "metadata": {},
          "execution_count": 3
        }
      ]
    },
    {
      "cell_type": "code",
      "source": [
        "df.info()"
      ],
      "metadata": {
        "colab": {
          "base_uri": "https://localhost:8080/"
        },
        "id": "0Lsu6sBHBmlM",
        "outputId": "1b387d8a-58f3-47af-a5ab-be6cb272e7b7"
      },
      "execution_count": 4,
      "outputs": [
        {
          "output_type": "stream",
          "name": "stdout",
          "text": [
            "<class 'pandas.core.frame.DataFrame'>\n",
            "RangeIndex: 4760 entries, 0 to 4759\n",
            "Data columns (total 21 columns):\n",
            " #   Column                    Non-Null Count  Dtype  \n",
            "---  ------                    --------------  -----  \n",
            " 0   Movie_ID                  4760 non-null   int64  \n",
            " 1   Movie_Title               4760 non-null   object \n",
            " 2   Movie_Genre               4760 non-null   object \n",
            " 3   Movie_Language            4760 non-null   object \n",
            " 4   Movie_Budget              4760 non-null   int64  \n",
            " 5   Movie_Popularity          4760 non-null   float64\n",
            " 6   Movie_Release_Date        4760 non-null   object \n",
            " 7   Movie_Revenue             4760 non-null   int64  \n",
            " 8   Movie_Runtime             4758 non-null   float64\n",
            " 9   Movie_Vote                4760 non-null   float64\n",
            " 10  Movie_Vote_Count          4760 non-null   int64  \n",
            " 11  Movie_Homepage            1699 non-null   object \n",
            " 12  Movie_Keywords            4373 non-null   object \n",
            " 13  Movie_Overview            4757 non-null   object \n",
            " 14  Movie_Production_House    4760 non-null   object \n",
            " 15  Movie_Production_Country  4760 non-null   object \n",
            " 16  Movie_Spoken_Language     4760 non-null   object \n",
            " 17  Movie_Tagline             3942 non-null   object \n",
            " 18  Movie_Cast                4733 non-null   object \n",
            " 19  Movie_Crew                4760 non-null   object \n",
            " 20  Movie_Director            4738 non-null   object \n",
            "dtypes: float64(3), int64(4), object(14)\n",
            "memory usage: 781.1+ KB\n"
          ]
        }
      ]
    },
    {
      "cell_type": "code",
      "source": [
        "df.shape"
      ],
      "metadata": {
        "colab": {
          "base_uri": "https://localhost:8080/"
        },
        "id": "AZiWfXzWBssZ",
        "outputId": "7aef26ed-79b2-4751-e44d-d3c51b315a50"
      },
      "execution_count": 5,
      "outputs": [
        {
          "output_type": "execute_result",
          "data": {
            "text/plain": [
              "(4760, 21)"
            ]
          },
          "metadata": {},
          "execution_count": 5
        }
      ]
    },
    {
      "cell_type": "code",
      "source": [
        "df.columns"
      ],
      "metadata": {
        "colab": {
          "base_uri": "https://localhost:8080/"
        },
        "id": "I7i4OqrQBwY7",
        "outputId": "d3ed4445-6063-45b8-907b-5413a6bd9f44"
      },
      "execution_count": 6,
      "outputs": [
        {
          "output_type": "execute_result",
          "data": {
            "text/plain": [
              "Index(['Movie_ID', 'Movie_Title', 'Movie_Genre', 'Movie_Language',\n",
              "       'Movie_Budget', 'Movie_Popularity', 'Movie_Release_Date',\n",
              "       'Movie_Revenue', 'Movie_Runtime', 'Movie_Vote', 'Movie_Vote_Count',\n",
              "       'Movie_Homepage', 'Movie_Keywords', 'Movie_Overview',\n",
              "       'Movie_Production_House', 'Movie_Production_Country',\n",
              "       'Movie_Spoken_Language', 'Movie_Tagline', 'Movie_Cast', 'Movie_Crew',\n",
              "       'Movie_Director'],\n",
              "      dtype='object')"
            ]
          },
          "metadata": {},
          "execution_count": 6
        }
      ]
    },
    {
      "cell_type": "code",
      "source": [
        "df_features = df[['Movie_Genre', 'Movie_Keywords','Movie_Tagline', 'Movie_Cast', 'Movie_Director']].fillna(' ')"
      ],
      "metadata": {
        "id": "OwUV8pcwB0iP"
      },
      "execution_count": 12,
      "outputs": []
    },
    {
      "cell_type": "code",
      "source": [
        "df_features.shape"
      ],
      "metadata": {
        "colab": {
          "base_uri": "https://localhost:8080/"
        },
        "id": "GohmFHa9Eiko",
        "outputId": "4135ada0-68a2-4c50-93fa-972ede960e6c"
      },
      "execution_count": 13,
      "outputs": [
        {
          "output_type": "execute_result",
          "data": {
            "text/plain": [
              "(4760, 5)"
            ]
          },
          "metadata": {},
          "execution_count": 13
        }
      ]
    },
    {
      "cell_type": "code",
      "source": [
        "df_features"
      ],
      "metadata": {
        "colab": {
          "base_uri": "https://localhost:8080/",
          "height": 580
        },
        "id": "Bbu-_pq4Erga",
        "outputId": "0a36eeaa-f12f-4323-f7ed-10304b5e15b8"
      },
      "execution_count": 14,
      "outputs": [
        {
          "output_type": "execute_result",
          "data": {
            "text/plain": [
              "                           Movie_Genre  \\\n",
              "0                         Crime Comedy   \n",
              "1     Adventure Action Science Fiction   \n",
              "2                     Animation Family   \n",
              "3                 Comedy Drama Romance   \n",
              "4                                Drama   \n",
              "...                                ...   \n",
              "4755                            Horror   \n",
              "4756               Comedy Family Drama   \n",
              "4757                    Thriller Drama   \n",
              "4758                            Family   \n",
              "4759                       Documentary   \n",
              "\n",
              "                                         Movie_Keywords  \\\n",
              "0             hotel new year's eve witch bet hotel room   \n",
              "1           android galaxy hermit death star lightsaber   \n",
              "2     father son relationship harbor underwater fish...   \n",
              "3     vietnam veteran hippie mentally disabled runni...   \n",
              "4     male nudity female nudity adultery midlife cri...   \n",
              "...                                                 ...   \n",
              "4755                                                      \n",
              "4756                                                      \n",
              "4757                     christian film sex trafficking   \n",
              "4758                                                      \n",
              "4759  music actors legendary perfomer classic hollyw...   \n",
              "\n",
              "                                          Movie_Tagline  \\\n",
              "0     Twelve outrageous guests. Four scandalous requ...   \n",
              "1          A long time ago in a galaxy far, far away...   \n",
              "2     There are 3.7 trillion fish in the ocean, they...   \n",
              "3     The world will never be the same, once you've ...   \n",
              "4                                          Look closer.   \n",
              "...                                                 ...   \n",
              "4755                The hot spot where Satan's waitin'.   \n",
              "4756           It’s better to stand out than to fit in.   \n",
              "4757           She never knew it could happen to her...   \n",
              "4758                                                      \n",
              "4759                                                      \n",
              "\n",
              "                                             Movie_Cast     Movie_Director  \n",
              "0     Tim Roth Antonio Banderas Jennifer Beals Madon...     Allison Anders  \n",
              "1     Mark Hamill Harrison Ford Carrie Fisher Peter ...       George Lucas  \n",
              "2     Albert Brooks Ellen DeGeneres Alexander Gould ...     Andrew Stanton  \n",
              "3     Tom Hanks Robin Wright Gary Sinise Mykelti Wil...    Robert Zemeckis  \n",
              "4     Kevin Spacey Annette Bening Thora Birch Wes Be...         Sam Mendes  \n",
              "...                                                 ...                ...  \n",
              "4755  Lisa Hart Carroll Michael Des Barres Paul Drak...         Pece Dingo  \n",
              "4756  Roni Akurati Brighton Sharbino Jason Lee Anjul...       Frank Lotito  \n",
              "4757  Nicole Smolen Kim Baldwin Ariana Stephens Brys...       Jaco Booyens  \n",
              "4758                                                                        \n",
              "4759                                    Tony Oppedisano  Simon Napier-Bell  \n",
              "\n",
              "[4760 rows x 5 columns]"
            ],
            "text/html": [
              "\n",
              "  <div id=\"df-9a0895ba-f858-4c6c-b1fa-ecd411e7b778\" class=\"colab-df-container\">\n",
              "    <div>\n",
              "<style scoped>\n",
              "    .dataframe tbody tr th:only-of-type {\n",
              "        vertical-align: middle;\n",
              "    }\n",
              "\n",
              "    .dataframe tbody tr th {\n",
              "        vertical-align: top;\n",
              "    }\n",
              "\n",
              "    .dataframe thead th {\n",
              "        text-align: right;\n",
              "    }\n",
              "</style>\n",
              "<table border=\"1\" class=\"dataframe\">\n",
              "  <thead>\n",
              "    <tr style=\"text-align: right;\">\n",
              "      <th></th>\n",
              "      <th>Movie_Genre</th>\n",
              "      <th>Movie_Keywords</th>\n",
              "      <th>Movie_Tagline</th>\n",
              "      <th>Movie_Cast</th>\n",
              "      <th>Movie_Director</th>\n",
              "    </tr>\n",
              "  </thead>\n",
              "  <tbody>\n",
              "    <tr>\n",
              "      <th>0</th>\n",
              "      <td>Crime Comedy</td>\n",
              "      <td>hotel new year's eve witch bet hotel room</td>\n",
              "      <td>Twelve outrageous guests. Four scandalous requ...</td>\n",
              "      <td>Tim Roth Antonio Banderas Jennifer Beals Madon...</td>\n",
              "      <td>Allison Anders</td>\n",
              "    </tr>\n",
              "    <tr>\n",
              "      <th>1</th>\n",
              "      <td>Adventure Action Science Fiction</td>\n",
              "      <td>android galaxy hermit death star lightsaber</td>\n",
              "      <td>A long time ago in a galaxy far, far away...</td>\n",
              "      <td>Mark Hamill Harrison Ford Carrie Fisher Peter ...</td>\n",
              "      <td>George Lucas</td>\n",
              "    </tr>\n",
              "    <tr>\n",
              "      <th>2</th>\n",
              "      <td>Animation Family</td>\n",
              "      <td>father son relationship harbor underwater fish...</td>\n",
              "      <td>There are 3.7 trillion fish in the ocean, they...</td>\n",
              "      <td>Albert Brooks Ellen DeGeneres Alexander Gould ...</td>\n",
              "      <td>Andrew Stanton</td>\n",
              "    </tr>\n",
              "    <tr>\n",
              "      <th>3</th>\n",
              "      <td>Comedy Drama Romance</td>\n",
              "      <td>vietnam veteran hippie mentally disabled runni...</td>\n",
              "      <td>The world will never be the same, once you've ...</td>\n",
              "      <td>Tom Hanks Robin Wright Gary Sinise Mykelti Wil...</td>\n",
              "      <td>Robert Zemeckis</td>\n",
              "    </tr>\n",
              "    <tr>\n",
              "      <th>4</th>\n",
              "      <td>Drama</td>\n",
              "      <td>male nudity female nudity adultery midlife cri...</td>\n",
              "      <td>Look closer.</td>\n",
              "      <td>Kevin Spacey Annette Bening Thora Birch Wes Be...</td>\n",
              "      <td>Sam Mendes</td>\n",
              "    </tr>\n",
              "    <tr>\n",
              "      <th>...</th>\n",
              "      <td>...</td>\n",
              "      <td>...</td>\n",
              "      <td>...</td>\n",
              "      <td>...</td>\n",
              "      <td>...</td>\n",
              "    </tr>\n",
              "    <tr>\n",
              "      <th>4755</th>\n",
              "      <td>Horror</td>\n",
              "      <td></td>\n",
              "      <td>The hot spot where Satan's waitin'.</td>\n",
              "      <td>Lisa Hart Carroll Michael Des Barres Paul Drak...</td>\n",
              "      <td>Pece Dingo</td>\n",
              "    </tr>\n",
              "    <tr>\n",
              "      <th>4756</th>\n",
              "      <td>Comedy Family Drama</td>\n",
              "      <td></td>\n",
              "      <td>It’s better to stand out than to fit in.</td>\n",
              "      <td>Roni Akurati Brighton Sharbino Jason Lee Anjul...</td>\n",
              "      <td>Frank Lotito</td>\n",
              "    </tr>\n",
              "    <tr>\n",
              "      <th>4757</th>\n",
              "      <td>Thriller Drama</td>\n",
              "      <td>christian film sex trafficking</td>\n",
              "      <td>She never knew it could happen to her...</td>\n",
              "      <td>Nicole Smolen Kim Baldwin Ariana Stephens Brys...</td>\n",
              "      <td>Jaco Booyens</td>\n",
              "    </tr>\n",
              "    <tr>\n",
              "      <th>4758</th>\n",
              "      <td>Family</td>\n",
              "      <td></td>\n",
              "      <td></td>\n",
              "      <td></td>\n",
              "      <td></td>\n",
              "    </tr>\n",
              "    <tr>\n",
              "      <th>4759</th>\n",
              "      <td>Documentary</td>\n",
              "      <td>music actors legendary perfomer classic hollyw...</td>\n",
              "      <td></td>\n",
              "      <td>Tony Oppedisano</td>\n",
              "      <td>Simon Napier-Bell</td>\n",
              "    </tr>\n",
              "  </tbody>\n",
              "</table>\n",
              "<p>4760 rows × 5 columns</p>\n",
              "</div>\n",
              "    <div class=\"colab-df-buttons\">\n",
              "\n",
              "  <div class=\"colab-df-container\">\n",
              "    <button class=\"colab-df-convert\" onclick=\"convertToInteractive('df-9a0895ba-f858-4c6c-b1fa-ecd411e7b778')\"\n",
              "            title=\"Convert this dataframe to an interactive table.\"\n",
              "            style=\"display:none;\">\n",
              "\n",
              "  <svg xmlns=\"http://www.w3.org/2000/svg\" height=\"24px\" viewBox=\"0 -960 960 960\">\n",
              "    <path d=\"M120-120v-720h720v720H120Zm60-500h600v-160H180v160Zm220 220h160v-160H400v160Zm0 220h160v-160H400v160ZM180-400h160v-160H180v160Zm440 0h160v-160H620v160ZM180-180h160v-160H180v160Zm440 0h160v-160H620v160Z\"/>\n",
              "  </svg>\n",
              "    </button>\n",
              "\n",
              "  <style>\n",
              "    .colab-df-container {\n",
              "      display:flex;\n",
              "      gap: 12px;\n",
              "    }\n",
              "\n",
              "    .colab-df-convert {\n",
              "      background-color: #E8F0FE;\n",
              "      border: none;\n",
              "      border-radius: 50%;\n",
              "      cursor: pointer;\n",
              "      display: none;\n",
              "      fill: #1967D2;\n",
              "      height: 32px;\n",
              "      padding: 0 0 0 0;\n",
              "      width: 32px;\n",
              "    }\n",
              "\n",
              "    .colab-df-convert:hover {\n",
              "      background-color: #E2EBFA;\n",
              "      box-shadow: 0px 1px 2px rgba(60, 64, 67, 0.3), 0px 1px 3px 1px rgba(60, 64, 67, 0.15);\n",
              "      fill: #174EA6;\n",
              "    }\n",
              "\n",
              "    .colab-df-buttons div {\n",
              "      margin-bottom: 4px;\n",
              "    }\n",
              "\n",
              "    [theme=dark] .colab-df-convert {\n",
              "      background-color: #3B4455;\n",
              "      fill: #D2E3FC;\n",
              "    }\n",
              "\n",
              "    [theme=dark] .colab-df-convert:hover {\n",
              "      background-color: #434B5C;\n",
              "      box-shadow: 0px 1px 3px 1px rgba(0, 0, 0, 0.15);\n",
              "      filter: drop-shadow(0px 1px 2px rgba(0, 0, 0, 0.3));\n",
              "      fill: #FFFFFF;\n",
              "    }\n",
              "  </style>\n",
              "\n",
              "    <script>\n",
              "      const buttonEl =\n",
              "        document.querySelector('#df-9a0895ba-f858-4c6c-b1fa-ecd411e7b778 button.colab-df-convert');\n",
              "      buttonEl.style.display =\n",
              "        google.colab.kernel.accessAllowed ? 'block' : 'none';\n",
              "\n",
              "      async function convertToInteractive(key) {\n",
              "        const element = document.querySelector('#df-9a0895ba-f858-4c6c-b1fa-ecd411e7b778');\n",
              "        const dataTable =\n",
              "          await google.colab.kernel.invokeFunction('convertToInteractive',\n",
              "                                                    [key], {});\n",
              "        if (!dataTable) return;\n",
              "\n",
              "        const docLinkHtml = 'Like what you see? Visit the ' +\n",
              "          '<a target=\"_blank\" href=https://colab.research.google.com/notebooks/data_table.ipynb>data table notebook</a>'\n",
              "          + ' to learn more about interactive tables.';\n",
              "        element.innerHTML = '';\n",
              "        dataTable['output_type'] = 'display_data';\n",
              "        await google.colab.output.renderOutput(dataTable, element);\n",
              "        const docLink = document.createElement('div');\n",
              "        docLink.innerHTML = docLinkHtml;\n",
              "        element.appendChild(docLink);\n",
              "      }\n",
              "    </script>\n",
              "  </div>\n",
              "\n",
              "\n",
              "<div id=\"df-844a9452-0501-4675-95f1-6dbe4e730322\">\n",
              "  <button class=\"colab-df-quickchart\" onclick=\"quickchart('df-844a9452-0501-4675-95f1-6dbe4e730322')\"\n",
              "            title=\"Suggest charts\"\n",
              "            style=\"display:none;\">\n",
              "\n",
              "<svg xmlns=\"http://www.w3.org/2000/svg\" height=\"24px\"viewBox=\"0 0 24 24\"\n",
              "     width=\"24px\">\n",
              "    <g>\n",
              "        <path d=\"M19 3H5c-1.1 0-2 .9-2 2v14c0 1.1.9 2 2 2h14c1.1 0 2-.9 2-2V5c0-1.1-.9-2-2-2zM9 17H7v-7h2v7zm4 0h-2V7h2v10zm4 0h-2v-4h2v4z\"/>\n",
              "    </g>\n",
              "</svg>\n",
              "  </button>\n",
              "\n",
              "<style>\n",
              "  .colab-df-quickchart {\n",
              "      --bg-color: #E8F0FE;\n",
              "      --fill-color: #1967D2;\n",
              "      --hover-bg-color: #E2EBFA;\n",
              "      --hover-fill-color: #174EA6;\n",
              "      --disabled-fill-color: #AAA;\n",
              "      --disabled-bg-color: #DDD;\n",
              "  }\n",
              "\n",
              "  [theme=dark] .colab-df-quickchart {\n",
              "      --bg-color: #3B4455;\n",
              "      --fill-color: #D2E3FC;\n",
              "      --hover-bg-color: #434B5C;\n",
              "      --hover-fill-color: #FFFFFF;\n",
              "      --disabled-bg-color: #3B4455;\n",
              "      --disabled-fill-color: #666;\n",
              "  }\n",
              "\n",
              "  .colab-df-quickchart {\n",
              "    background-color: var(--bg-color);\n",
              "    border: none;\n",
              "    border-radius: 50%;\n",
              "    cursor: pointer;\n",
              "    display: none;\n",
              "    fill: var(--fill-color);\n",
              "    height: 32px;\n",
              "    padding: 0;\n",
              "    width: 32px;\n",
              "  }\n",
              "\n",
              "  .colab-df-quickchart:hover {\n",
              "    background-color: var(--hover-bg-color);\n",
              "    box-shadow: 0 1px 2px rgba(60, 64, 67, 0.3), 0 1px 3px 1px rgba(60, 64, 67, 0.15);\n",
              "    fill: var(--button-hover-fill-color);\n",
              "  }\n",
              "\n",
              "  .colab-df-quickchart-complete:disabled,\n",
              "  .colab-df-quickchart-complete:disabled:hover {\n",
              "    background-color: var(--disabled-bg-color);\n",
              "    fill: var(--disabled-fill-color);\n",
              "    box-shadow: none;\n",
              "  }\n",
              "\n",
              "  .colab-df-spinner {\n",
              "    border: 2px solid var(--fill-color);\n",
              "    border-color: transparent;\n",
              "    border-bottom-color: var(--fill-color);\n",
              "    animation:\n",
              "      spin 1s steps(1) infinite;\n",
              "  }\n",
              "\n",
              "  @keyframes spin {\n",
              "    0% {\n",
              "      border-color: transparent;\n",
              "      border-bottom-color: var(--fill-color);\n",
              "      border-left-color: var(--fill-color);\n",
              "    }\n",
              "    20% {\n",
              "      border-color: transparent;\n",
              "      border-left-color: var(--fill-color);\n",
              "      border-top-color: var(--fill-color);\n",
              "    }\n",
              "    30% {\n",
              "      border-color: transparent;\n",
              "      border-left-color: var(--fill-color);\n",
              "      border-top-color: var(--fill-color);\n",
              "      border-right-color: var(--fill-color);\n",
              "    }\n",
              "    40% {\n",
              "      border-color: transparent;\n",
              "      border-right-color: var(--fill-color);\n",
              "      border-top-color: var(--fill-color);\n",
              "    }\n",
              "    60% {\n",
              "      border-color: transparent;\n",
              "      border-right-color: var(--fill-color);\n",
              "    }\n",
              "    80% {\n",
              "      border-color: transparent;\n",
              "      border-right-color: var(--fill-color);\n",
              "      border-bottom-color: var(--fill-color);\n",
              "    }\n",
              "    90% {\n",
              "      border-color: transparent;\n",
              "      border-bottom-color: var(--fill-color);\n",
              "    }\n",
              "  }\n",
              "</style>\n",
              "\n",
              "  <script>\n",
              "    async function quickchart(key) {\n",
              "      const quickchartButtonEl =\n",
              "        document.querySelector('#' + key + ' button');\n",
              "      quickchartButtonEl.disabled = true;  // To prevent multiple clicks.\n",
              "      quickchartButtonEl.classList.add('colab-df-spinner');\n",
              "      try {\n",
              "        const charts = await google.colab.kernel.invokeFunction(\n",
              "            'suggestCharts', [key], {});\n",
              "      } catch (error) {\n",
              "        console.error('Error during call to suggestCharts:', error);\n",
              "      }\n",
              "      quickchartButtonEl.classList.remove('colab-df-spinner');\n",
              "      quickchartButtonEl.classList.add('colab-df-quickchart-complete');\n",
              "    }\n",
              "    (() => {\n",
              "      let quickchartButtonEl =\n",
              "        document.querySelector('#df-844a9452-0501-4675-95f1-6dbe4e730322 button');\n",
              "      quickchartButtonEl.style.display =\n",
              "        google.colab.kernel.accessAllowed ? 'block' : 'none';\n",
              "    })();\n",
              "  </script>\n",
              "</div>\n",
              "\n",
              "  <div id=\"id_b59dd8ff-06b8-4753-be4e-259471de8a6e\">\n",
              "    <style>\n",
              "      .colab-df-generate {\n",
              "        background-color: #E8F0FE;\n",
              "        border: none;\n",
              "        border-radius: 50%;\n",
              "        cursor: pointer;\n",
              "        display: none;\n",
              "        fill: #1967D2;\n",
              "        height: 32px;\n",
              "        padding: 0 0 0 0;\n",
              "        width: 32px;\n",
              "      }\n",
              "\n",
              "      .colab-df-generate:hover {\n",
              "        background-color: #E2EBFA;\n",
              "        box-shadow: 0px 1px 2px rgba(60, 64, 67, 0.3), 0px 1px 3px 1px rgba(60, 64, 67, 0.15);\n",
              "        fill: #174EA6;\n",
              "      }\n",
              "\n",
              "      [theme=dark] .colab-df-generate {\n",
              "        background-color: #3B4455;\n",
              "        fill: #D2E3FC;\n",
              "      }\n",
              "\n",
              "      [theme=dark] .colab-df-generate:hover {\n",
              "        background-color: #434B5C;\n",
              "        box-shadow: 0px 1px 3px 1px rgba(0, 0, 0, 0.15);\n",
              "        filter: drop-shadow(0px 1px 2px rgba(0, 0, 0, 0.3));\n",
              "        fill: #FFFFFF;\n",
              "      }\n",
              "    </style>\n",
              "    <button class=\"colab-df-generate\" onclick=\"generateWithVariable('df_features')\"\n",
              "            title=\"Generate code using this dataframe.\"\n",
              "            style=\"display:none;\">\n",
              "\n",
              "  <svg xmlns=\"http://www.w3.org/2000/svg\" height=\"24px\"viewBox=\"0 0 24 24\"\n",
              "       width=\"24px\">\n",
              "    <path d=\"M7,19H8.4L18.45,9,17,7.55,7,17.6ZM5,21V16.75L18.45,3.32a2,2,0,0,1,2.83,0l1.4,1.43a1.91,1.91,0,0,1,.58,1.4,1.91,1.91,0,0,1-.58,1.4L9.25,21ZM18.45,9,17,7.55Zm-12,3A5.31,5.31,0,0,0,4.9,8.1,5.31,5.31,0,0,0,1,6.5,5.31,5.31,0,0,0,4.9,4.9,5.31,5.31,0,0,0,6.5,1,5.31,5.31,0,0,0,8.1,4.9,5.31,5.31,0,0,0,12,6.5,5.46,5.46,0,0,0,6.5,12Z\"/>\n",
              "  </svg>\n",
              "    </button>\n",
              "    <script>\n",
              "      (() => {\n",
              "      const buttonEl =\n",
              "        document.querySelector('#id_b59dd8ff-06b8-4753-be4e-259471de8a6e button.colab-df-generate');\n",
              "      buttonEl.style.display =\n",
              "        google.colab.kernel.accessAllowed ? 'block' : 'none';\n",
              "\n",
              "      buttonEl.onclick = () => {\n",
              "        google.colab.notebook.generateWithVariable('df_features');\n",
              "      }\n",
              "      })();\n",
              "    </script>\n",
              "  </div>\n",
              "\n",
              "    </div>\n",
              "  </div>\n"
            ],
            "application/vnd.google.colaboratory.intrinsic+json": {
              "type": "dataframe",
              "variable_name": "df_features",
              "summary": "{\n  \"name\": \"df_features\",\n  \"rows\": 4760,\n  \"fields\": [\n    {\n      \"column\": \"Movie_Genre\",\n      \"properties\": {\n        \"dtype\": \"category\",\n        \"num_unique_values\": 1164,\n        \"samples\": [\n          \"Family Animation Adventure\",\n          \"Adventure Science Fiction Action\",\n          \"Action Crime Drama Romance Thriller\"\n        ],\n        \"semantic_type\": \"\",\n        \"description\": \"\"\n      }\n    },\n    {\n      \"column\": \"Movie_Keywords\",\n      \"properties\": {\n        \"dtype\": \"string\",\n        \"num_unique_values\": 4203,\n        \"samples\": [\n          \"canada nazis sequel spin off ancient evil\",\n          \"sex professor wedding woman director columbia university\",\n          \"prophecy sea beach gold small town\"\n        ],\n        \"semantic_type\": \"\",\n        \"description\": \"\"\n      }\n    },\n    {\n      \"column\": \"Movie_Tagline\",\n      \"properties\": {\n        \"dtype\": \"string\",\n        \"num_unique_values\": 3928,\n        \"samples\": [\n          \"The messenger must be silenced.\",\n          \"It's not the house that's haunted.\",\n          \"The final hunt begins.\"\n        ],\n        \"semantic_type\": \"\",\n        \"description\": \"\"\n      }\n    },\n    {\n      \"column\": \"Movie_Cast\",\n      \"properties\": {\n        \"dtype\": \"string\",\n        \"num_unique_values\": 4715,\n        \"samples\": [\n          \"Robin Tunney Fairuza Balk Neve Campbell Rachel True Skeet Ulrich\",\n          \"Peter Sellers Christopher Plummer Herbert Lom Catherine Schell Peter Arne\",\n          \"John Wayne Laraine Day Cedric Hardwicke Judith Anderson Anthony Quinn\"\n        ],\n        \"semantic_type\": \"\",\n        \"description\": \"\"\n      }\n    },\n    {\n      \"column\": \"Movie_Director\",\n      \"properties\": {\n        \"dtype\": \"category\",\n        \"num_unique_values\": 2332,\n        \"samples\": [\n          \"Rob McKittrick\",\n          \"Terron R. Parsons\",\n          \"Cyrus Nowrasteh\"\n        ],\n        \"semantic_type\": \"\",\n        \"description\": \"\"\n      }\n    }\n  ]\n}"
            }
          },
          "metadata": {},
          "execution_count": 14
        }
      ]
    },
    {
      "cell_type": "code",
      "source": [
        "x=df_features['Movie_Genre']+' '+df_features['Movie_Keywords']+''+df_features['Movie_Tagline']+''+df_features['Movie_Cast']+''+df_features['Movie_Director']"
      ],
      "metadata": {
        "id": "CClexIvOEvuM"
      },
      "execution_count": 15,
      "outputs": []
    },
    {
      "cell_type": "code",
      "source": [
        "x"
      ],
      "metadata": {
        "colab": {
          "base_uri": "https://localhost:8080/"
        },
        "id": "lVag_2WIFaDC",
        "outputId": "67823b4b-699f-4b91-8c6b-46ae28be48da"
      },
      "execution_count": 16,
      "outputs": [
        {
          "output_type": "execute_result",
          "data": {
            "text/plain": [
              "0       Crime Comedy hotel new year's eve witch bet ho...\n",
              "1       Adventure Action Science Fiction android galax...\n",
              "2       Animation Family father son relationship harbo...\n",
              "3       Comedy Drama Romance vietnam veteran hippie me...\n",
              "4       Drama male nudity female nudity adultery midli...\n",
              "                              ...                        \n",
              "4755    Horror  The hot spot where Satan's waitin'.Lis...\n",
              "4756    Comedy Family Drama  It’s better to stand out ...\n",
              "4757    Thriller Drama christian film sex traffickingS...\n",
              "4758                                          Family     \n",
              "4759    Documentary music actors legendary perfomer cl...\n",
              "Length: 4760, dtype: object"
            ]
          },
          "metadata": {},
          "execution_count": 16
        }
      ]
    },
    {
      "cell_type": "code",
      "source": [
        "x.shape"
      ],
      "metadata": {
        "colab": {
          "base_uri": "https://localhost:8080/"
        },
        "id": "KoUDFJ7tFdrS",
        "outputId": "6850c9c0-97ee-4305-b22c-0fd92dd22779"
      },
      "execution_count": 17,
      "outputs": [
        {
          "output_type": "execute_result",
          "data": {
            "text/plain": [
              "(4760,)"
            ]
          },
          "metadata": {},
          "execution_count": 17
        }
      ]
    },
    {
      "cell_type": "code",
      "source": [
        "from sklearn.feature_extraction.text import TfidfVectorizer"
      ],
      "metadata": {
        "id": "47AXuFDwFjM8"
      },
      "execution_count": 18,
      "outputs": []
    },
    {
      "cell_type": "code",
      "source": [
        "tfidf=TfidfVectorizer()"
      ],
      "metadata": {
        "id": "0SBdtk2GF4sB"
      },
      "execution_count": 19,
      "outputs": []
    },
    {
      "cell_type": "code",
      "source": [
        "x=tfidf.fit_transform(x)"
      ],
      "metadata": {
        "id": "VsS1CvGEGHVe"
      },
      "execution_count": 20,
      "outputs": []
    },
    {
      "cell_type": "code",
      "source": [
        "x.shape"
      ],
      "metadata": {
        "colab": {
          "base_uri": "https://localhost:8080/"
        },
        "id": "sfVR6JX0GYxZ",
        "outputId": "70b6097b-4119-45f9-dc00-86dc4d617e71"
      },
      "execution_count": 21,
      "outputs": [
        {
          "output_type": "execute_result",
          "data": {
            "text/plain": [
              "(4760, 24274)"
            ]
          },
          "metadata": {},
          "execution_count": 21
        }
      ]
    },
    {
      "cell_type": "code",
      "source": [
        "print(x)"
      ],
      "metadata": {
        "colab": {
          "base_uri": "https://localhost:8080/"
        },
        "id": "Y1UGsx5ZGcIC",
        "outputId": "73a8af4b-ebb0-4cdc-db40-9aefce528e2f"
      },
      "execution_count": 22,
      "outputs": [
        {
          "output_type": "stream",
          "name": "stdout",
          "text": [
            "  (0, 828)\t0.16231566938228414\n",
            "  (0, 21705)\t0.1958923050417235\n",
            "  (0, 13746)\t0.14136998010268204\n",
            "  (0, 13459)\t0.17136716782029177\n",
            "  (0, 1905)\t0.1804186662582994\n",
            "  (0, 11232)\t0.09892231377818676\n",
            "  (0, 1660)\t0.14136998010268204\n",
            "  (0, 994)\t0.1377905321608524\n",
            "  (0, 18498)\t0.14236230977897382\n",
            "  (0, 21623)\t0.11272088643439994\n",
            "  (0, 12853)\t0.09065763658813165\n",
            "  (0, 15807)\t0.06214039666528491\n",
            "  (0, 23549)\t0.17543726720377648\n",
            "  (0, 7969)\t0.08731674818552523\n",
            "  (0, 23487)\t0.11116278385662996\n",
            "  (0, 11319)\t0.1361953006898044\n",
            "  (0, 21433)\t0.10696604489093434\n",
            "  (0, 15904)\t0.07294737714362834\n",
            "  (0, 5418)\t0.11996485241549656\n",
            "  (0, 7806)\t0.11750147086397054\n",
            "  (0, 10108)\t0.20178221024484339\n",
            "  (0, 10726)\t0.15273193580197994\n",
            "  (0, 2065)\t0.1958923050417235\n",
            "  (0, 13082)\t0.15410667628679667\n",
            "  (0, 15908)\t0.08581682836586546\n",
            "  :\t:\n",
            "  (4757, 15501)\t0.19177038979544778\n",
            "  (4757, 7702)\t0.13696845314596204\n",
            "  (4757, 4076)\t0.17467581039788543\n",
            "  (4757, 12087)\t0.239794931279705\n",
            "  (4757, 9911)\t0.17767464618535872\n",
            "  (4757, 11965)\t0.18155091251800662\n",
            "  (4757, 21558)\t0.07803042438676054\n",
            "  (4757, 21666)\t0.10020382325656958\n",
            "  (4757, 10996)\t0.12722528999069174\n",
            "  (4757, 15433)\t0.1529457491304261\n",
            "  (4757, 6290)\t0.057884565761673765\n",
            "  (4758, 7358)\t1.0\n",
            "  (4759, 15939)\t0.3375872548405947\n",
            "  (4759, 19775)\t0.3375872548405947\n",
            "  (4759, 16557)\t0.3375872548405947\n",
            "  (4759, 253)\t0.3219885282380868\n",
            "  (4759, 12652)\t0.3219885282380868\n",
            "  (4759, 10212)\t0.2756702576002961\n",
            "  (4759, 4208)\t0.2842548563252116\n",
            "  (4759, 15263)\t0.3109210555829031\n",
            "  (4759, 8109)\t0.2178066051375887\n",
            "  (4759, 6098)\t0.18204624747467824\n",
            "  (4759, 21725)\t0.2115115859246967\n",
            "  (4759, 2058)\t0.21613368098489816\n",
            "  (4759, 15133)\t0.15891199420249355\n"
          ]
        }
      ]
    },
    {
      "cell_type": "code",
      "source": [
        "from sklearn.metrics.pairwise import cosine_similarity"
      ],
      "metadata": {
        "id": "K5sP-hhxGjfK"
      },
      "execution_count": 23,
      "outputs": []
    },
    {
      "cell_type": "code",
      "source": [
        "Similarity_score=cosine_similarity(x)"
      ],
      "metadata": {
        "id": "WoxDf49gG5ja"
      },
      "execution_count": 24,
      "outputs": []
    },
    {
      "cell_type": "code",
      "source": [
        "Similarity_score"
      ],
      "metadata": {
        "colab": {
          "base_uri": "https://localhost:8080/"
        },
        "id": "6rrFXw16HEB6",
        "outputId": "09b3867f-68cb-4a5f-abf1-88d0ec9a2180"
      },
      "execution_count": 25,
      "outputs": [
        {
          "output_type": "execute_result",
          "data": {
            "text/plain": [
              "array([[1.        , 0.01432865, 0.03863175, ..., 0.        , 0.        ,\n",
              "        0.        ],\n",
              "       [0.01432865, 1.        , 0.00854938, ..., 0.        , 0.        ,\n",
              "        0.        ],\n",
              "       [0.03863175, 0.00854938, 1.        , ..., 0.        , 0.08077274,\n",
              "        0.        ],\n",
              "       ...,\n",
              "       [0.        , 0.        , 0.        , ..., 1.        , 0.        ,\n",
              "        0.        ],\n",
              "       [0.        , 0.        , 0.08077274, ..., 0.        , 1.        ,\n",
              "        0.        ],\n",
              "       [0.        , 0.        , 0.        , ..., 0.        , 0.        ,\n",
              "        1.        ]])"
            ]
          },
          "metadata": {},
          "execution_count": 25
        }
      ]
    },
    {
      "cell_type": "code",
      "source": [
        "Similarity_score.shape"
      ],
      "metadata": {
        "colab": {
          "base_uri": "https://localhost:8080/"
        },
        "id": "LuTSylUdHNz2",
        "outputId": "43e4779b-83e2-401e-d662-1ee949c62590"
      },
      "execution_count": 26,
      "outputs": [
        {
          "output_type": "execute_result",
          "data": {
            "text/plain": [
              "(4760, 4760)"
            ]
          },
          "metadata": {},
          "execution_count": 26
        }
      ]
    },
    {
      "cell_type": "code",
      "source": [
        "favourite_movie_name=input('enter your favourite movie name:')"
      ],
      "metadata": {
        "colab": {
          "base_uri": "https://localhost:8080/"
        },
        "id": "y-ZKH2xTHSpe",
        "outputId": "9e517c78-88ac-468f-816a-3f5322743c81"
      },
      "execution_count": 27,
      "outputs": [
        {
          "name": "stdout",
          "output_type": "stream",
          "text": [
            "enter your favourite movie name:avtaar\n"
          ]
        }
      ]
    },
    {
      "cell_type": "code",
      "source": [
        "All_Movies_title_list=df['Movie_Title'].tolist()"
      ],
      "metadata": {
        "id": "pZbI33UoHtXs"
      },
      "execution_count": 28,
      "outputs": []
    },
    {
      "cell_type": "code",
      "source": [
        "import difflib"
      ],
      "metadata": {
        "id": "m48O5NA8IBxZ"
      },
      "execution_count": 29,
      "outputs": []
    },
    {
      "cell_type": "code",
      "source": [
        "Movie_Recommendation=difflib.get_close_matches(favourite_movie_name,All_Movies_title_list)\n",
        "print(Movie_Recommendation)"
      ],
      "metadata": {
        "colab": {
          "base_uri": "https://localhost:8080/"
        },
        "id": "KvtZjLmuIIZP",
        "outputId": "6be9519b-456b-49f6-e9b0-7e9aebb8f4d5"
      },
      "execution_count": 31,
      "outputs": [
        {
          "output_type": "stream",
          "name": "stdout",
          "text": [
            "['Avatar', 'Gattaca']\n"
          ]
        }
      ]
    },
    {
      "cell_type": "code",
      "source": [
        "close_Match=Movie_Recommendation[0]\n",
        "print(close_Match)"
      ],
      "metadata": {
        "colab": {
          "base_uri": "https://localhost:8080/"
        },
        "id": "xPS81YyUIugJ",
        "outputId": "5ce8f017-5302-4a58-90af-49f9c959f4d3"
      },
      "execution_count": 32,
      "outputs": [
        {
          "output_type": "stream",
          "name": "stdout",
          "text": [
            "Avatar\n"
          ]
        }
      ]
    },
    {
      "cell_type": "code",
      "source": [
        "index_of_close_Match_movie=df[df.Movie_Title==close_Match]['Movie_ID'].values[0]\n",
        "print(index_of_close_Match_movie)"
      ],
      "metadata": {
        "colab": {
          "base_uri": "https://localhost:8080/"
        },
        "id": "qLgdYvMwJIEW",
        "outputId": "22e7bed6-bc99-4d7f-f2e6-f8fdc7747734"
      },
      "execution_count": 33,
      "outputs": [
        {
          "output_type": "stream",
          "name": "stdout",
          "text": [
            "2692\n"
          ]
        }
      ]
    },
    {
      "cell_type": "code",
      "source": [
        "Recommendation_score=list(enumerate(Similarity_score[index_of_close_Match_movie]))\n",
        "print(Recommendation_score)"
      ],
      "metadata": {
        "colab": {
          "base_uri": "https://localhost:8080/"
        },
        "id": "40l_3EEOJmQH",
        "outputId": "6f62e4d2-087d-4636-9a55-e8fe2f374429"
      },
      "execution_count": 35,
      "outputs": [
        {
          "output_type": "stream",
          "name": "stdout",
          "text": [
            "[(0, 0.009685118552504299), (1, 0.0), (2, 0.0), (3, 0.007670272634909097), (4, 0.0025970828323022906), (5, 0.009513202811339534), (6, 0.004973378099534145), (7, 0.013472957302182793), (8, 0.002726507207392384), (9, 0.006082209556582112), (10, 0.007529141246749657), (11, 0.00256621394092231), (12, 0.0027187713712405128), (13, 0.013553123548772212), (14, 0.0), (15, 0.022048460811046076), (16, 0.0060833267363911495), (17, 0.0), (18, 0.013130844540995976), (19, 0.008932821174632174), (20, 0.00260696570741931), (21, 0.015850080091854183), (22, 0.006293500525743161), (23, 0.0026158386466628284), (24, 0.001711630486993492), (25, 0.02731659916468413), (26, 0.0024229738827267993), (27, 0.004587308988574309), (28, 0.0), (29, 0.008638305937052757), (30, 0.004508927189037362), (31, 0.0066569021687998406), (32, 0.008202379021599805), (33, 0.018491753062069377), (34, 0.007370195205825132), (35, 0.006021577821165703), (36, 0.0), (37, 0.0), (38, 0.007824579074047714), (39, 0.004487282372211756), (40, 0.015133114712349837), (41, 0.0026993325293615984), (42, 0.006931157563091087), (43, 0.014156538283057137), (44, 0.040091588900028126), (45, 0.0894333484344668), (46, 0.018456837231475638), (47, 0.010390515617480361), (48, 0.015460830719988067), (49, 0.0), (50, 0.0068856027940172905), (51, 0.014910154931794956), (52, 0.013291169109668814), (53, 0.0), (54, 0.0), (55, 0.0), (56, 0.006516374689009895), (57, 0.01087822033935686), (58, 0.0), (59, 0.0), (60, 0.007773353984352142), (61, 0.017267095698541176), (62, 0.06758881039794745), (63, 0.007537688511082084), (64, 0.0), (65, 0.030564157244762743), (66, 0.0025803228555922233), (67, 0.04391220548585186), (68, 0.022391835284926092), (69, 0.005288039953863797), (70, 0.012129337820517288), (71, 0.002541920432558263), (72, 0.011229507485794071), (73, 0.0), (74, 0.002663665293856188), (75, 0.013413711565518321), (76, 0.0038471943377540365), (77, 0.0034177425975633825), (78, 0.009210872428483629), (79, 0.008804126458511577), (80, 0.00403915799362928), (81, 0.006922400731788677), (82, 0.011705477794905817), (83, 0.018292054401778238), (84, 0.060417957275282284), (85, 0.015426487459346832), (86, 0.011478138421653562), (87, 0.014298636030493833), (88, 0.022388764603869266), (89, 0.04102333102784439), (90, 0.004537779237234977), (91, 0.0), (92, 0.0023087737421295675), (93, 0.004508312926251565), (94, 0.004231235070494862), (95, 0.0046793293671237865), (96, 0.008820216603756321), (97, 0.00215590449727805), (98, 0.0024207803659473436), (99, 0.010121743120890165), (100, 0.0), (101, 0.0), (102, 0.004893191142024071), (103, 0.002270407245881734), (104, 0.008718029806351555), (105, 0.009321863764725104), (106, 0.017596945747077344), (107, 0.007972490550685156), (108, 0.03779805315888909), (109, 0.030729280184882565), (110, 0.08277552055286828), (111, 0.008807782356296943), (112, 0.02907223942193072), (113, 0.007296389853274008), (114, 0.002466242326071613), (115, 0.002523643038001454), (116, 0.024253383916713812), (117, 0.0), (118, 0.0047118825352340495), (119, 0.008556769569195516), (120, 0.009854589730389569), (121, 0.002332852576652466), (122, 0.0063737519592866766), (123, 0.017520752942896223), (124, 0.024612481641688916), (125, 0.013110666277742697), (126, 0.03832811486483792), (127, 0.0023983688315152903), (128, 0.004986212116111351), (129, 0.00173958622052031), (130, 0.01157467506353748), (131, 0.006553236919362198), (132, 0.0023837666766901404), (133, 0.0), (134, 0.0), (135, 0.004450716422394488), (136, 0.0023081996095727464), (137, 0.052843166734000406), (138, 0.034600070309277246), (139, 0.007816572151723987), (140, 0.0023859126919594503), (141, 0.0), (142, 0.013589946323626943), (143, 0.007839841410188416), (144, 0.01709560564243726), (145, 0.018348208761238022), (146, 0.0), (147, 0.017978572542317182), (148, 0.010301903662792175), (149, 0.012392149443463497), (150, 0.0), (151, 0.0), (152, 0.004406365062267375), (153, 0.0), (154, 0.002287127079206242), (155, 0.004818690608101118), (156, 0.007248914991978616), (157, 0.0024615475026026606), (158, 0.0022962403182993788), (159, 0.007197934096631945), (160, 0.01804924780153312), (161, 0.04300182351480505), (162, 0.007608962643590931), (163, 0.0), (164, 0.008631297307353883), (165, 0.0021907469925805272), (166, 0.03225629608855914), (167, 0.002361343111176686), (168, 0.005134093243258287), (169, 0.0025166097039342338), (170, 0.010547388332606872), (171, 0.0), (172, 0.04091049405476816), (173, 0.016494922093982758), (174, 0.03387122007435982), (175, 0.023056305142418666), (176, 0.02937909384831056), (177, 0.0054887355214647176), (178, 0.002549770205523924), (179, 0.030004827954331032), (180, 0.007482860329618681), (181, 0.013940145180356805), (182, 0.009011067638287488), (183, 0.008016664825829254), (184, 0.002228654963988118), (185, 0.040716981466383174), (186, 0.0), (187, 0.004046481972442361), (188, 0.0), (189, 0.00468468930147372), (190, 0.012109683533857576), (191, 0.0040509303281978494), (192, 0.002628532513246422), (193, 0.027800556332136673), (194, 0.0021018186691446816), (195, 0.0021265200436143246), (196, 0.002061963485675877), (197, 0.008686284660234713), (198, 0.002506007056764043), (199, 0.018572371312778956), (200, 0.0064891377152117465), (201, 0.011950010462628818), (202, 0.0016387769345018427), (203, 0.0169827266904853), (204, 0.01893359608047298), (205, 0.0), (206, 0.010287102663008271), (207, 0.012910645803324034), (208, 0.015111256805305555), (209, 0.016433370939887827), (210, 0.041210207819818566), (211, 0.0025334883815589476), (212, 0.0023244695914917163), (213, 0.04915848327772146), (214, 0.0), (215, 0.0023833666799439124), (216, 0.009734174302062727), (217, 0.006754509629133636), (218, 0.016482759319217406), (219, 0.0), (220, 0.004753681704397244), (221, 0.0023843168162503234), (222, 0.017541373027989787), (223, 0.0), (224, 0.0074096255408381845), (225, 0.0), (226, 0.002526850392476424), (227, 0.05155948305711804), (228, 0.0018608918440025943), (229, 0.0023473430786140055), (230, 0.006283147537727249), (231, 0.013134253397849637), (232, 0.006808425394902936), (233, 0.004524274762791096), (234, 0.003855934876744684), (235, 0.0027652845376401575), (236, 0.013101350712836145), (237, 0.0), (238, 0.007203660445642068), (239, 0.0047316725021226405), (240, 0.028499185899430027), (241, 0.004411296527174166), (242, 0.007783114532743824), (243, 0.009621131882552321), (244, 0.011713909835168611), (245, 0.0), (246, 0.0025976109815613315), (247, 0.002445839649422243), (248, 0.0061122657589808855), (249, 0.0022003058737122), (250, 0.03201840232409845), (251, 0.014020160787473514), (252, 0.014034793967868985), (253, 0.0027297366166527796), (254, 0.06413001851575605), (255, 0.007353529786575379), (256, 0.007516508484252592), (257, 0.0), (258, 0.0), (259, 0.0), (260, 0.004444203720986237), (261, 0.02212356616554494), (262, 0.00266529902761948), (263, 0.006197676758385619), (264, 0.0), (265, 0.0), (266, 0.010353673139592973), (267, 0.002230856689229146), (268, 0.002259054557033496), (269, 0.02419831674139249), (270, 0.009618945912797416), (271, 0.01053920625094525), (272, 0.0), (273, 0.010872145560393079), (274, 0.010869878844771478), (275, 0.0), (276, 0.013370638058274686), (277, 0.0056341056215985594), (278, 0.0022570256821961305), (279, 0.002308849340066101), (280, 0.01599166827478355), (281, 0.010730385732286303), (282, 0.03321227496761213), (283, 0.006379230879774319), (284, 0.028636306576785897), (285, 0.008424423330011543), (286, 0.0022155053738516757), (287, 0.015357468867770816), (288, 0.009307574283896515), (289, 0.003653852869363775), (290, 0.0040045910782950745), (291, 0.01060651070207971), (292, 0.052775333665030275), (293, 0.0018086991655757066), (294, 0.003614783294919244), (295, 0.003882020044835017), (296, 0.01543215425062538), (297, 0.0), (298, 0.0), (299, 0.0), (300, 0.006165551377464617), (301, 0.006735473455273486), (302, 0.0), (303, 0.004855487491565106), (304, 0.010736585207040534), (305, 0.004397944052289228), (306, 0.004177889329213263), (307, 0.008298616842809987), (308, 0.0027541305605716902), (309, 0.007214883942559068), (310, 0.004368727168693522), (311, 0.0065117925346508876), (312, 0.0), (313, 0.011231439463958697), (314, 0.0038508233097255084), (315, 0.004403178988184737), (316, 0.004196590965688012), (317, 0.013650074733745797), (318, 0.002696532318884487), (319, 0.0), (320, 0.004677002958876556), (321, 0.010792516829477409), (322, 0.010726723268225418), (323, 0.004151162144654795), (324, 0.0022753486210311587), (325, 0.002360954595726365), (326, 0.0030193512472260083), (327, 0.009984849762466157), (328, 0.0442329863461182), (329, 0.018827031392534076), (330, 0.01992721733605442), (331, 0.0), (332, 0.013201181853958108), (333, 0.010126036360939441), (334, 0.03161758221165767), (335, 0.0), (336, 0.004769486120663316), (337, 0.0), (338, 0.0), (339, 0.0), (340, 0.0069694102265291874), (341, 0.011902654046867031), (342, 0.017040508781736477), (343, 0.015253508390333168), (344, 0.0), (345, 0.02378054180980122), (346, 0.008883434681573942), (347, 0.004543123771260581), (348, 0.0024254153416712735), (349, 0.0024326776322007053), (350, 0.007698559111363228), (351, 0.0019767817347186075), (352, 0.0), (353, 0.008948481358615262), (354, 0.010094628041801706), (355, 0.0023362776187076315), (356, 0.012877484929448292), (357, 0.0021457123185024893), (358, 0.014964947652467721), (359, 0.002318004778099004), (360, 0.04325687346658426), (361, 0.0), (362, 0.0), (363, 0.0068476027059861735), (364, 0.01803714902331189), (365, 0.0), (366, 0.0), (367, 0.006490644546172246), (368, 0.008031220123105243), (369, 0.005358919605469194), (370, 0.01397545801170606), (371, 0.027106368856177974), (372, 0.0023312939421590317), (373, 0.002422371127475624), (374, 0.014882704644474914), (375, 0.00458159343443318), (376, 0.0), (377, 0.002495047558172399), (378, 0.0025354804382351276), (379, 0.0), (380, 0.005086743185639192), (381, 0.025523829547181232), (382, 0.0), (383, 0.022015920185945666), (384, 0.027587830292467218), (385, 0.007666385170551959), (386, 0.006926116496824812), (387, 0.03132915133207459), (388, 0.002347850604763308), (389, 0.004464718648678341), (390, 0.0), (391, 0.0), (392, 0.0), (393, 0.0), (394, 0.0), (395, 0.002635310757610157), (396, 0.009119643433031288), (397, 0.004176339066947837), (398, 0.02409926990869377), (399, 0.0023302459722614765), (400, 0.002473817374229217), (401, 0.0), (402, 0.010824161939212314), (403, 0.007768016112767902), (404, 0.0), (405, 0.0), (406, 0.013702768817195985), (407, 0.012278224756626639), (408, 0.042910862539640895), (409, 0.017044939673269817), (410, 0.0022744519220120056), (411, 0.0), (412, 0.04466712459473409), (413, 0.006697036585171722), (414, 0.004828649450710747), (415, 0.0), (416, 0.0022400308764750254), (417, 0.010411839624771057), (418, 0.0120292354745721), (419, 0.002780247439172328), (420, 0.004686615473545591), (421, 0.029340718536074718), (422, 0.006689401044114671), (423, 0.0), (424, 0.03244599500011237), (425, 0.005117713138278122), (426, 0.0041028211201025126), (427, 0.0), (428, 0.008091820850540443), (429, 0.014821052510383645), (430, 0.02972169676730771), (431, 0.0028972459201676436), (432, 0.0020662604083846116), (433, 0.016128527532567542), (434, 0.008925814583541209), (435, 0.009253289965337665), (436, 0.008311575691881136), (437, 0.015057287026248279), (438, 0.044479271423757044), (439, 0.0), (440, 0.0), (441, 0.0075157416852848465), (442, 0.021349475913136927), (443, 0.007900149457003264), (444, 0.0026833195007801), (445, 0.007871636287204086), (446, 0.008815932753151842), (447, 0.014290486823450374), (448, 0.002923740744738381), (449, 0.008397329928883595), (450, 0.015029925669593255), (451, 0.004407749657605924), (452, 0.01170843076894533), (453, 0.0020167127119537914), (454, 0.0), (455, 0.020842971538654675), (456, 0.0026519393785533873), (457, 0.002245604247263432), (458, 0.015874813261223617), (459, 0.026921342341023387), (460, 0.004490014118452053), (461, 0.008216368633033173), (462, 0.0), (463, 0.018541756836973698), (464, 0.008951303831217436), (465, 0.02845439693276298), (466, 0.002418346075131612), (467, 0.0044929771018108015), (468, 0.01024567842178347), (469, 0.0037328264746000735), (470, 0.01427827338679314), (471, 0.0023719080935472345), (472, 0.009462544962398445), (473, 0.0023659265310962295), (474, 0.007341739696467582), (475, 0.0031836097770697727), (476, 0.0027489827419268625), (477, 0.005213948259066861), (478, 0.002851438977185432), (479, 0.05066206685260863), (480, 0.0021893737620109093), (481, 0.015221026398788213), (482, 0.01413453146316913), (483, 0.00969106477659238), (484, 0.0), (485, 0.01008375752483449), (486, 0.0), (487, 0.0024473079189168377), (488, 0.0023565526499132465), (489, 0.002977792470381249), (490, 0.00245086983933322), (491, 0.0), (492, 0.0), (493, 0.007554529730682772), (494, 0.006906459576482478), (495, 0.0022568539654663935), (496, 0.01325715947884128), (497, 0.0062192551459895485), (498, 0.0), (499, 0.002718374936823285), (500, 0.010947538552388718), (501, 0.010539478862104039), (502, 0.014375426878112437), (503, 0.006790541219415916), (504, 0.00253672390264748), (505, 0.002360506581660963), (506, 0.0), (507, 0.002436143824666543), (508, 0.0027587339915060233), (509, 0.007165973122181871), (510, 0.01422571160569555), (511, 0.016181169720828135), (512, 0.005162856324979899), (513, 0.004816573197868288), (514, 0.00499924835767759), (515, 0.022821695074041908), (516, 0.0), (517, 0.0), (518, 0.002940012101797779), (519, 0.04970489046047756), (520, 0.0), (521, 0.006168048282635245), (522, 0.002440509117145426), (523, 0.011257501239935536), (524, 0.0022556343927686265), (525, 0.0), (526, 0.003295722606619713), (527, 0.012483704468160266), (528, 0.0), (529, 0.0), (530, 0.028826964033720422), (531, 0.0), (532, 0.011024531336312218), (533, 0.01564788739734601), (534, 0.014937861867137147), (535, 0.0), (536, 0.0), (537, 0.012250255390004407), (538, 0.01124582848361661), (539, 0.006907805127517611), (540, 0.03591526860547968), (541, 0.0024081473056545444), (542, 0.010194592683103281), (543, 0.01455164433335116), (544, 0.009954306695597152), (545, 0.013400725410393128), (546, 0.0), (547, 0.013449734467616487), (548, 0.0), (549, 0.0), (550, 0.004864795353160317), (551, 0.01582440553444184), (552, 0.0), (553, 0.018547690175395152), (554, 0.0), (555, 0.010610086123107102), (556, 0.0), (557, 0.0), (558, 0.00863590335912273), (559, 0.004182006870114259), (560, 0.011725701934982822), (561, 0.004788195720962108), (562, 0.005284628200244935), (563, 0.006399591920427427), (564, 0.002633556983756854), (565, 0.0), (566, 0.019091769024995958), (567, 0.0), (568, 0.006064151132565288), (569, 0.0), (570, 0.0), (571, 0.005380517774091739), (572, 0.0), (573, 0.0), (574, 0.0), (575, 0.0), (576, 0.002819922678949342), (577, 0.0), (578, 0.03503023699270231), (579, 0.0025611454821303065), (580, 0.007331612532329539), (581, 0.0064907092582585126), (582, 0.007595685771140521), (583, 0.005815349575066464), (584, 0.014748545409940037), (585, 0.0), (586, 0.015448859804369807), (587, 0.002753648067957513), (588, 0.0025655299392094676), (589, 0.0023527818434843292), (590, 0.06342678736919788), (591, 0.0), (592, 0.0), (593, 0.029466514037571844), (594, 0.0022972347346501025), (595, 0.004849346576183486), (596, 0.002813180549116321), (597, 0.007880730029003935), (598, 0.002377825990790981), (599, 0.0), (600, 0.006573882033612544), (601, 0.0), (602, 0.0), (603, 0.0), (604, 0.012692988534175208), (605, 0.0023054775756161856), (606, 0.007361157552333785), (607, 0.0019379529548129494), (608, 0.006534791886495525), (609, 0.012389458139453238), (610, 0.0), (611, 0.00422423369990471), (612, 0.00267807325958485), (613, 0.021773823870669423), (614, 0.0029093792794910476), (615, 0.043168400844538164), (616, 0.007424471538547464), (617, 0.006152930704525973), (618, 0.031224996562528237), (619, 0.004444199015959099), (620, 0.014741730201058742), (621, 0.009652651578274612), (622, 0.01445803323099361), (623, 0.002731298547646892), (624, 0.0023314820531016283), (625, 0.004048799989955261), (626, 0.00210071189363187), (627, 0.003364866450384506), (628, 0.08023464923548537), (629, 0.029326291947302657), (630, 0.0), (631, 0.009112698667010644), (632, 0.04050494506718688), (633, 0.004543317388101146), (634, 0.004513804401290006), (635, 0.012115135573492124), (636, 0.007152638609064682), (637, 0.0440978538995266), (638, 0.016416893289085032), (639, 0.0038342251608908294), (640, 0.003938904745253898), (641, 0.006618946525355684), (642, 0.006145807769752808), (643, 0.019464577979471317), (644, 0.007124653505428459), (645, 0.0020768132587283107), (646, 0.0024424969600128615), (647, 0.0022437756850429186), (648, 0.011854809737522266), (649, 0.0), (650, 0.0), (651, 0.00872026994829405), (652, 0.014573557445713158), (653, 0.012246816885193195), (654, 0.011950522319139043), (655, 0.002340394557036126), (656, 0.0), (657, 0.018211831006120123), (658, 0.0), (659, 0.0023312929484670323), (660, 0.0071840084907768414), (661, 0.004274748527280239), (662, 0.0), (663, 0.0), (664, 0.012040694569411384), (665, 0.0), (666, 0.005062459725270418), (667, 0.012303510858314924), (668, 0.009076608143101407), (669, 0.018382279871906597), (670, 0.026660403949339384), (671, 0.006537451875108336), (672, 0.02348439549664771), (673, 0.015015783808193892), (674, 0.0), (675, 0.0627740228967499), (676, 0.013395150890194836), (677, 0.016504368344638833), (678, 0.01249557046279845), (679, 0.0), (680, 0.0026538025624584247), (681, 0.0), (682, 0.04298502447305148), (683, 0.01046393949486613), (684, 0.011687148224632963), (685, 0.004596473648160172), (686, 0.0), (687, 0.005045519451527477), (688, 0.0076400634740236804), (689, 0.012992941692449966), (690, 0.004284957975396247), (691, 0.022205809661197923), (692, 0.015243786433603551), (693, 0.0024674989699216073), (694, 0.03560868049992388), (695, 0.010335115462329274), (696, 0.007120072698640451), (697, 0.009007652835501229), (698, 0.0024238441818282552), (699, 0.0), (700, 0.0), (701, 0.01570512456996922), (702, 0.0), (703, 0.0022563118625894317), (704, 0.0), (705, 0.0079331496302902), (706, 0.022980864175220297), (707, 0.0020927763322914367), (708, 0.0), (709, 0.0), (710, 0.035619938592377345), (711, 0.0), (712, 0.002175579698501654), (713, 0.0), (714, 0.0), (715, 0.009713533291248059), (716, 0.007750387477314179), (717, 0.002602136493470619), (718, 0.0), (719, 0.01127737799610053), (720, 0.0), (721, 0.033975147279024814), (722, 0.002219364537253935), (723, 0.0038005937802053935), (724, 0.0), (725, 0.0), (726, 0.0), (727, 0.006864348487441703), (728, 0.007414732134465713), (729, 0.0076530414354056015), (730, 0.0), (731, 0.002377776117025015), (732, 0.011822903645656732), (733, 0.012041541575916687), (734, 0.008297846343862353), (735, 0.0035358122695626553), (736, 0.0), (737, 0.009751973795519456), (738, 0.0036907002368606772), (739, 0.00280120099292799), (740, 0.0017049968237564798), (741, 0.0), (742, 0.01252081905046631), (743, 0.007337799098715158), (744, 0.006404744762856515), (745, 0.006367640678727135), (746, 0.0), (747, 0.0), (748, 0.006705775161042627), (749, 0.002507898955782101), (750, 0.006867738349160076), (751, 0.0), (752, 0.006699943460878323), (753, 0.013138301779303344), (754, 0.0), (755, 0.0025087015254814707), (756, 0.004002849824576708), (757, 0.017733985108397052), (758, 0.006329398949597737), (759, 0.002396055201682398), (760, 0.013605903129662101), (761, 0.03199927475786667), (762, 0.015121605107075591), (763, 0.020364228521900538), (764, 0.0), (765, 0.004684104428481416), (766, 0.008231221955220396), (767, 0.002327592241553886), (768, 0.018100475697552944), (769, 0.007022316179016875), (770, 0.0), (771, 0.0), (772, 0.0), (773, 0.0), (774, 0.03741030597224273), (775, 0.013631331249548018), (776, 0.016897689987854375), (777, 0.002998527559889828), (778, 0.00669153655498803), (779, 0.019970577361004667), (780, 0.0), (781, 0.0), (782, 0.009245373001248775), (783, 0.0026042774657560486), (784, 0.0), (785, 0.0), (786, 0.0), (787, 0.015078128761111951), (788, 0.03866009418099919), (789, 0.0), (790, 0.011086673653766798), (791, 0.002759230419085739), (792, 0.010060159908178545), (793, 0.004637273804200751), (794, 0.015736012130693693), (795, 0.01589633175441997), (796, 0.01748565353450838), (797, 0.0), (798, 0.002330317741883671), (799, 0.013689346656944011), (800, 0.011836294547910903), (801, 0.010378593961823307), (802, 0.0049178415136553275), (803, 0.004018414380681527), (804, 0.006259665732712309), (805, 0.0022745980489767754), (806, 0.00943259094313872), (807, 0.0), (808, 0.017577936853901407), (809, 0.011272031483328348), (810, 0.004135838123175828), (811, 0.004557581179270039), (812, 0.031444758065796455), (813, 0.0028501607534573876), (814, 0.013036856170434397), (815, 0.0022377581377111427), (816, 0.008270121640143388), (817, 0.009065704434028144), (818, 0.03418838899640982), (819, 0.0), (820, 0.0), (821, 0.006483496919909946), (822, 0.0), (823, 0.0029181471607806504), (824, 0.025383862054803433), (825, 0.011583068320359591), (826, 0.0026616103583191105), (827, 0.010904459337929254), (828, 0.009030393865093748), (829, 0.01294548984621857), (830, 0.034572799758238563), (831, 0.005239627446394638), (832, 0.025328292006128864), (833, 0.012750453615310858), (834, 0.006408021775217458), (835, 0.006115584335418649), (836, 0.027636698723623062), (837, 0.0), (838, 0.008511867056712655), (839, 0.0), (840, 0.0), (841, 0.0), (842, 0.013667300080387232), (843, 0.00740675480184505), (844, 0.009177271884837378), (845, 0.007282558059569307), (846, 0.0), (847, 0.010128487359933677), (848, 0.0026176876894213907), (849, 0.00459638997465277), (850, 0.008915854294240693), (851, 0.008556462614475983), (852, 0.0023509750168420286), (853, 0.01574246868047874), (854, 0.0023974570538517434), (855, 0.005139279245944283), (856, 0.0022190953044771695), (857, 0.0028254285597321227), (858, 0.019721175035781816), (859, 0.0), (860, 0.016061815829463328), (861, 0.006020988485025068), (862, 0.005926355905827645), (863, 0.0064389982781220155), (864, 0.0311078315278092), (865, 0.00264087595618072), (866, 0.013247254890140121), (867, 0.015385143320413124), (868, 0.006680561167045828), (869, 0.007028166485931589), (870, 0.019943980397245417), (871, 0.0025699754375641272), (872, 0.002655398186414058), (873, 0.05106370652384551), (874, 0.014337694006144874), (875, 0.012213752997734218), (876, 0.01570850672357599), (877, 0.051261183454739755), (878, 0.01331277053232241), (879, 0.01453204151394945), (880, 0.0067504752474204215), (881, 0.0), (882, 0.0), (883, 0.0024233923549150625), (884, 0.0026179113618545655), (885, 0.025651599276238325), (886, 0.002303792812329841), (887, 0.002724431612874216), (888, 0.014926220453168439), (889, 0.003185846235798388), (890, 0.0026427075087408973), (891, 0.004796943987898999), (892, 0.0), (893, 0.004157001351858446), (894, 0.009397942185155866), (895, 0.01412366622536615), (896, 0.015029740331728726), (897, 0.008974238916108074), (898, 0.00409734898579614), (899, 0.014181384198671477), (900, 0.012713428670828905), (901, 0.00207327205707483), (902, 0.004650775513224243), (903, 0.030851447467931236), (904, 0.04612818794004458), (905, 0.01290439009298779), (906, 0.012674482060902301), (907, 0.002363331356996263), (908, 0.007098501427935786), (909, 0.0), (910, 0.0063989931804519645), (911, 0.03571995009314801), (912, 0.0), (913, 0.0), (914, 0.0), (915, 0.010913237327761323), (916, 0.01650771386349597), (917, 0.0243838268935285), (918, 0.011882081414854001), (919, 0.004921916013640612), (920, 0.0), (921, 0.009031681692618447), (922, 0.0028514012817142977), (923, 0.0068484969427190815), (924, 0.007653505202374988), (925, 0.002834462647318659), (926, 0.0), (927, 0.004487933359190545), (928, 0.011860805012584477), (929, 0.01583664433214313), (930, 0.007403080156892753), (931, 0.01178569821793981), (932, 0.004071550936257597), (933, 0.0026119656795363664), (934, 0.013725792608770439), (935, 0.0328746428046643), (936, 0.012162987766684046), (937, 0.01628975129601639), (938, 0.0), (939, 0.008923213613380677), (940, 0.006238491932163438), (941, 0.0023884534966936793), (942, 0.024154373188531593), (943, 0.0), (944, 0.002291891311704212), (945, 0.0), (946, 0.0), (947, 0.019739837854487033), (948, 0.008650513676023704), (949, 0.010594404183395686), (950, 0.0), (951, 0.002125982431442053), (952, 0.027785401551169382), (953, 0.005613229690795181), (954, 0.0), (955, 0.0), (956, 0.0), (957, 0.013988315936489096), (958, 0.00618217048086798), (959, 0.002438694527866548), (960, 0.0), (961, 0.0), (962, 0.008571150981690583), (963, 0.012458067241012269), (964, 0.0), (965, 0.0), (966, 0.008594687545946042), (967, 0.024495773891943493), (968, 0.018023537578034918), (969, 0.0025125286338374235), (970, 0.009712044162784077), (971, 0.0), (972, 0.0), (973, 0.0024455187918948165), (974, 0.004247556469495457), (975, 0.0023327753983105087), (976, 0.027828010702185237), (977, 0.0), (978, 0.0), (979, 0.009638786628319327), (980, 0.007146293529189078), (981, 0.006309038831722883), (982, 0.0), (983, 0.0), (984, 0.0023442604717108665), (985, 0.002903200404750827), (986, 0.014573645101277368), (987, 0.0025790484748486756), (988, 0.013701689719652367), (989, 0.013574995669251747), (990, 0.0), (991, 0.007485212422867845), (992, 0.004876122487944489), (993, 0.0024922096879103637), (994, 0.00967223549474335), (995, 0.0), (996, 0.006454327597645272), (997, 0.004088730145521397), (998, 0.002774083179184153), (999, 0.002810439886557082), (1000, 0.01279951309460646), (1001, 0.006596444763894912), (1002, 0.00238296620691876), (1003, 0.022022769963476324), (1004, 0.0022651861010819364), (1005, 0.0125196762698737), (1006, 0.009331874030017829), (1007, 0.002660224854414057), (1008, 0.0), (1009, 0.012065715963396346), (1010, 0.0), (1011, 0.0), (1012, 0.01085803454527766), (1013, 0.0), (1014, 0.007491854359903702), (1015, 0.02143333553013641), (1016, 0.0), (1017, 0.020494946804567902), (1018, 0.015487257033605234), (1019, 0.011184670446226043), (1020, 0.00892998707845), (1021, 0.05922789190644089), (1022, 0.0), (1023, 0.04509262705503412), (1024, 0.03877726552023314), (1025, 0.0), (1026, 0.002428777363435763), (1027, 0.0024288355824767668), (1028, 0.0), (1029, 0.0), (1030, 0.04994603264716896), (1031, 0.0), (1032, 0.002396476228561683), (1033, 0.02044406823323115), (1034, 0.002340716734902028), (1035, 0.013852208230398046), (1036, 0.0023049467979874083), (1037, 0.007531499842148348), (1038, 0.0), (1039, 0.0), (1040, 0.0021171138228474064), (1041, 0.006585840588015047), (1042, 0.00212158610863344), (1043, 0.028817197322040675), (1044, 0.00674253774659044), (1045, 0.015851720304289524), (1046, 0.029013790404374594), (1047, 0.011702015968862113), (1048, 0.009160392873244036), (1049, 0.002974268936449576), (1050, 0.008249404185915948), (1051, 0.0), (1052, 0.019184706339674014), (1053, 0.011445294966758463), (1054, 0.010671556358679482), (1055, 0.0), (1056, 0.0), (1057, 0.0), (1058, 0.013846088112583161), (1059, 0.027767744111551286), (1060, 0.002407892593314438), (1061, 0.010738381536871327), (1062, 0.0), (1063, 0.03463861861477573), (1064, 0.016763451329366907), (1065, 0.006539587019569739), (1066, 0.0), (1067, 0.0), (1068, 0.030872072140590855), (1069, 0.007365741078520182), (1070, 0.08787372554949129), (1071, 0.007336340700424831), (1072, 0.0024919995293289712), (1073, 0.0), (1074, 0.017689131325180223), (1075, 0.009012548369474044), (1076, 0.006400653060738916), (1077, 0.008967446656915255), (1078, 0.007941318544626845), (1079, 0.0022903212259016504), (1080, 0.0022548123366580436), (1081, 0.0), (1082, 0.004317574998089769), (1083, 0.007314454347682587), (1084, 0.0023847455745701603), (1085, 0.037118184817255886), (1086, 0.0), (1087, 0.008826400634071488), (1088, 0.0021193157973628625), (1089, 0.0), (1090, 0.011229847228218291), (1091, 0.0), (1092, 0.010365479817599726), (1093, 0.0), (1094, 0.006531414601826677), (1095, 0.0289166333528517), (1096, 0.008546426966760492), (1097, 0.0), (1098, 0.00226334279408574), (1099, 0.011833121171337438), (1100, 0.0024574515890349183), (1101, 0.0), (1102, 0.002489365506919136), (1103, 0.0), (1104, 0.012127129601924195), (1105, 0.0), (1106, 0.0), (1107, 0.012933594222337697), (1108, 0.0), (1109, 0.0027817480388762305), (1110, 0.0025242602696550907), (1111, 0.006378756241618323), (1112, 0.017611557484133636), (1113, 0.0), (1114, 0.014107574161157727), (1115, 0.01571105217139423), (1116, 0.013820889827975181), (1117, 0.0024011522567157894), (1118, 0.0608773794722163), (1119, 0.015358994687324583), (1120, 0.003911338865324226), (1121, 0.003092815191839007), (1122, 0.0025674517257062946), (1123, 0.006816052146563613), (1124, 0.009413227877578072), (1125, 0.007273308641639247), (1126, 0.0), (1127, 0.004526106255479), (1128, 0.013235723294655841), (1129, 0.016962271940812818), (1130, 0.0), (1131, 0.0024739490242837317), (1132, 0.019724227398980713), (1133, 0.0), (1134, 0.05998491310645999), (1135, 0.0), (1136, 0.00792137088683443), (1137, 0.028907260657866436), (1138, 0.006953093450961041), (1139, 0.0), (1140, 0.007308835964032215), (1141, 0.02242451201197409), (1142, 0.0), (1143, 0.0), (1144, 0.007185523880142215), (1145, 0.003396817382166695), (1146, 0.0353176594463662), (1147, 0.0), (1148, 0.05100680740316369), (1149, 0.0), (1150, 0.004777602768882242), (1151, 0.0), (1152, 0.014188091852509932), (1153, 0.0033218464531827537), (1154, 0.004280705717111755), (1155, 0.0), (1156, 0.0), (1157, 0.011726497776177324), (1158, 0.00511217272870794), (1159, 0.0), (1160, 0.009290547803678526), (1161, 0.002382159411434351), (1162, 0.026942563311426585), (1163, 0.002505735230575074), (1164, 0.0037167134706912425), (1165, 0.0), (1166, 0.0), (1167, 0.004919974885322631), (1168, 0.0028270890956098365), (1169, 0.002951967965127161), (1170, 0.0024659860922609258), (1171, 0.0), (1172, 0.0066745154365611195), (1173, 0.02981484784584914), (1174, 0.007535900088119334), (1175, 0.01768865291787822), (1176, 0.002527667024667149), (1177, 0.006683135460365074), (1178, 0.0), (1179, 0.007074937077975504), (1180, 0.0), (1181, 0.004375803151354041), (1182, 0.009264795220804208), (1183, 0.013179994108933547), (1184, 0.01583538655449071), (1185, 0.011818583188194311), (1186, 0.024926937345975966), (1187, 0.0029039874738993336), (1188, 0.00753469660667633), (1189, 0.0), (1190, 0.0), (1191, 0.007000141489534331), (1192, 0.013681041313308015), (1193, 0.0), (1194, 0.011525031823177614), (1195, 0.03313325941270816), (1196, 0.0), (1197, 0.004162757785302337), (1198, 0.0), (1199, 0.0022201174666231344), (1200, 0.0), (1201, 0.0), (1202, 0.01863727790275546), (1203, 0.0023217736760835685), (1204, 0.0024406340807422108), (1205, 0.0), (1206, 0.008307636372469148), (1207, 0.00435154471370812), (1208, 0.0030686966009692766), (1209, 0.002279272200893443), (1210, 0.003346782026366456), (1211, 0.00439576281176006), (1212, 0.0), (1213, 0.006208854814224914), (1214, 0.005877920830396246), (1215, 0.011614837581760924), (1216, 0.0161933842375999), (1217, 0.002315221501215098), (1218, 0.0), (1219, 0.002241068946432543), (1220, 0.012683769457105282), (1221, 0.0), (1222, 0.0), (1223, 0.007218854461511045), (1224, 0.01505171631525606), (1225, 0.00746777713576478), (1226, 0.017610292702567636), (1227, 0.0), (1228, 0.0), (1229, 0.007412335694025587), (1230, 0.01115549015644618), (1231, 0.006720258357602899), (1232, 0.014179641611168456), (1233, 0.0), (1234, 0.00998419675194789), (1235, 0.0), (1236, 0.010516599451032348), (1237, 0.012417706091636033), (1238, 0.006447773065103326), (1239, 0.012760437766368028), (1240, 0.0), (1241, 0.03779376406606479), (1242, 0.0), (1243, 0.05681665865101783), (1244, 0.0), (1245, 0.017381787111684782), (1246, 0.0), (1247, 0.0024122596501514296), (1248, 0.04281278990040787), (1249, 0.011382442427368505), (1250, 0.006586294418654617), (1251, 0.002226345432152265), (1252, 0.013955013212686593), (1253, 0.0), (1254, 0.016072432886395403), (1255, 0.012758660845054923), (1256, 0.0), (1257, 0.01971472123199832), (1258, 0.0), (1259, 0.010671064098610284), (1260, 0.007613953899213837), (1261, 0.019842013053659326), (1262, 0.011109689560635924), (1263, 0.0), (1264, 0.011694726567109282), (1265, 0.0), (1266, 0.011401486317684261), (1267, 0.0060661785362292045), (1268, 0.0), (1269, 0.0), (1270, 0.020923889394795673), (1271, 0.0), (1272, 0.03420992494075838), (1273, 0.002303892406540215), (1274, 0.01739414990423778), (1275, 0.015637719894047664), (1276, 0.008532924868810961), (1277, 0.001974789565251029), (1278, 0.014764921489052325), (1279, 0.009159316721713395), (1280, 0.004928641049621426), (1281, 0.004070323571115689), (1282, 0.007327394349322455), (1283, 0.02399881652917551), (1284, 0.0024156746695523745), (1285, 0.0), (1286, 0.0025773584543275444), (1287, 0.0), (1288, 0.0), (1289, 0.0), (1290, 0.014511558165073062), (1291, 0.0), (1292, 0.04337067146353868), (1293, 0.012425030702296813), (1294, 0.0026707956632841413), (1295, 0.0), (1296, 0.0), (1297, 0.0), (1298, 0.002452587164632196), (1299, 0.0), (1300, 0.009585681081700942), (1301, 0.0021376216432395212), (1302, 0.011070163304127615), (1303, 0.011307152943114136), (1304, 0.0024641540025710446), (1305, 0.0020562189510316274), (1306, 0.006520949604535209), (1307, 0.006094463190887664), (1308, 0.008225809429432955), (1309, 0.0038692931611696087), (1310, 0.011866112415810022), (1311, 0.0359181475611303), (1312, 0.007997913063833897), (1313, 0.002476018084068738), (1314, 0.025273830824501374), (1315, 0.0), (1316, 0.005748725179865351), (1317, 0.013351787956274622), (1318, 0.0021903265309619387), (1319, 0.002485054178733576), (1320, 0.0406224850785363), (1321, 0.0), (1322, 0.0), (1323, 0.0), (1324, 0.0026252375530291276), (1325, 0.015573468969043509), (1326, 0.0), (1327, 0.006079589189525798), (1328, 0.0), (1329, 0.0063126478093589655), (1330, 0.006923319384383544), (1331, 0.014052746949093982), (1332, 0.005140270206060174), (1333, 0.0), (1334, 0.009488010754242084), (1335, 0.014337162678189398), (1336, 0.0), (1337, 0.01377143614903701), (1338, 0.009467924890395458), (1339, 0.009802159248805838), (1340, 0.002290993947810608), (1341, 0.07840715943762944), (1342, 0.012727256084547339), (1343, 0.013556694617246942), (1344, 0.005703955634799966), (1345, 0.006486334794093093), (1346, 0.0), (1347, 0.004248569265748642), (1348, 0.010070727243858262), (1349, 0.002758070406089513), (1350, 0.002599591064936617), (1351, 0.024666895140275667), (1352, 0.002204991836573249), (1353, 0.0), (1354, 0.0), (1355, 0.0025217254310177266), (1356, 0.005923883324103868), (1357, 0.0023438026494723633), (1358, 0.04271250977183866), (1359, 0.00944741820494088), (1360, 0.013164085758439095), (1361, 0.015894281425605453), (1362, 0.022744944116333897), (1363, 0.029569994190920008), (1364, 0.0026035007857067136), (1365, 0.0176626915183616), (1366, 0.0022422630207619425), (1367, 0.03278267949215216), (1368, 0.0), (1369, 0.04246558360291883), (1370, 0.0021333972159694034), (1371, 0.007702109430421628), (1372, 0.0023278375164766016), (1373, 0.0), (1374, 0.006341788686023758), (1375, 0.006567155225939524), (1376, 0.012462521278460249), (1377, 0.016531033223450307), (1378, 0.0024859435419385275), (1379, 0.034751178462085794), (1380, 0.004697626949069538), (1381, 0.005270235548959356), (1382, 0.009204590579001224), (1383, 0.08491514985743707), (1384, 0.01800804572747054), (1385, 0.019466518826036363), (1386, 0.01815961245706075), (1387, 0.008331887525504723), (1388, 0.007356658250389522), (1389, 0.03547754768086437), (1390, 0.0), (1391, 0.004911396540206313), (1392, 0.0022617770493232664), (1393, 0.04377204406829433), (1394, 0.002158110342194703), (1395, 0.0036659328996290156), (1396, 0.011156293625279323), (1397, 0.023624986444321615), (1398, 0.031310881453229106), (1399, 0.0), (1400, 0.007341075545186211), (1401, 0.013534877319540652), (1402, 0.002576776450524832), (1403, 0.016731584770746988), (1404, 0.002367407828444657), (1405, 0.030054141184120267), (1406, 0.011196381382153538), (1407, 0.011370055376834503), (1408, 0.0024030325019482545), (1409, 0.002691128095543891), (1410, 0.002514671069453625), (1411, 0.0025056607820476457), (1412, 0.022907233835541437), (1413, 0.014092431007137755), (1414, 0.006133025222547682), (1415, 0.0020962939405388442), (1416, 0.0023881403900025775), (1417, 0.015959903279082654), (1418, 0.009791907104002535), (1419, 0.011621407242875843), (1420, 0.010981321903736626), (1421, 0.0067583203094702515), (1422, 0.0024218593715013897), (1423, 0.0022014833223323784), (1424, 0.0), (1425, 0.006216750668423885), (1426, 0.004620772001177405), (1427, 0.002263017403415094), (1428, 0.004242474254178376), (1429, 0.008657847120755416), (1430, 0.004219881497695586), (1431, 0.004442474690904882), (1432, 0.012241785453970732), (1433, 0.006479459518305321), (1434, 0.002288871959380833), (1435, 0.004622093118592685), (1436, 0.011653053471820073), (1437, 0.0), (1438, 0.00923657874189179), (1439, 0.0026021410719628815), (1440, 0.009526585897905355), (1441, 0.0), (1442, 0.009387612755313444), (1443, 0.01784658931215335), (1444, 0.0), (1445, 0.01582727872809558), (1446, 0.008619805935052047), (1447, 0.0), (1448, 0.006292737256699172), (1449, 0.004808628212148173), (1450, 0.0021820728412279364), (1451, 0.004281531444798603), (1452, 0.00487806417717373), (1453, 0.005406090093842752), (1454, 0.0074167715572462795), (1455, 0.01151000431659591), (1456, 0.0022682231975384094), (1457, 0.0), (1458, 0.004025360225690853), (1459, 0.0), (1460, 0.0), (1461, 0.013698950245196918), (1462, 0.006451459737097074), (1463, 0.0026085838087145), (1464, 0.0321009960230716), (1465, 0.013305524973519282), (1466, 0.0), (1467, 0.0), (1468, 0.0), (1469, 0.004630625452128152), (1470, 0.0), (1471, 0.020427849703090584), (1472, 0.0069608344391832964), (1473, 0.0), (1474, 0.0027116195516705514), (1475, 0.009352664208176282), (1476, 0.0025014093374631), (1477, 0.008113096101484508), (1478, 0.013371998828029062), (1479, 0.0026779329723887815), (1480, 0.004100069135898336), (1481, 0.013384267729020793), (1482, 0.029879348497847333), (1483, 0.013693880002855232), (1484, 0.007207229864966545), (1485, 0.0), (1486, 0.0070086034391257605), (1487, 0.0), (1488, 0.006928808591476396), (1489, 0.008087328571685771), (1490, 0.0), (1491, 0.0), (1492, 0.021476095045147962), (1493, 0.016601461428644285), (1494, 0.009147137352193864), (1495, 0.0), (1496, 0.0), (1497, 0.002885093044436917), (1498, 0.008164693112431818), (1499, 0.0027958971425489387), (1500, 0.026479550498934502), (1501, 0.006450759738679647), (1502, 0.004630680101686587), (1503, 0.0022912136206350814), (1504, 0.007049276652574296), (1505, 0.022312369183991605), (1506, 0.04160152304578062), (1507, 0.007958718304850345), (1508, 0.0), (1509, 0.014211375981495581), (1510, 0.019370315798860133), (1511, 0.0), (1512, 0.015611456519023695), (1513, 0.010067053277131142), (1514, 0.008311693184509503), (1515, 0.021832183997133624), (1516, 0.00262335700565013), (1517, 0.0), (1518, 0.002690227235666137), (1519, 0.012771884726440027), (1520, 0.0), (1521, 0.0), (1522, 0.0), (1523, 0.01543113105439085), (1524, 0.0), (1525, 0.0), (1526, 0.00644405136092138), (1527, 0.03975668326707688), (1528, 0.002276828489011127), (1529, 0.0), (1530, 0.003825707446969215), (1531, 0.004799866005510317), (1532, 0.0), (1533, 0.002526897011373619), (1534, 0.0), (1535, 0.0), (1536, 0.007067595760065198), (1537, 0.00741444602130212), (1538, 0.00817831675677181), (1539, 0.008013225954175222), (1540, 0.008147876261398353), (1541, 0.0), (1542, 0.011691118272044687), (1543, 0.0022566633478612614), (1544, 0.02431988133966221), (1545, 0.0), (1546, 0.004059785527483774), (1547, 0.002937902985598741), (1548, 0.0), (1549, 0.0), (1550, 0.0023914968423510144), (1551, 0.010874552635300266), (1552, 0.006277463396290437), (1553, 0.007798950346938914), (1554, 0.004901339023285959), (1555, 0.006483882700579587), (1556, 0.0), (1557, 0.0), (1558, 0.002360885570461829), (1559, 0.003916142423093152), (1560, 0.0), (1561, 0.0), (1562, 0.004223748864263591), (1563, 0.0), (1564, 0.0), (1565, 0.002230990852746242), (1566, 0.00449197907829215), (1567, 0.012232711851079527), (1568, 0.03529362549434248), (1569, 0.0), (1570, 0.0025839050698100974), (1571, 0.007417442308401455), (1572, 0.016743077910180978), (1573, 0.004584921474065399), (1574, 0.0024726484864093937), (1575, 0.004798088629325843), (1576, 0.0037100549104328905), (1577, 0.0), (1578, 0.0), (1579, 0.01668702705806687), (1580, 0.002759486277208791), (1581, 0.0), (1582, 0.008919718497826107), (1583, 0.006965117260763737), (1584, 0.0), (1585, 0.023281151848655687), (1586, 0.0), (1587, 0.004666218225555381), (1588, 0.004633597252009685), (1589, 0.0), (1590, 0.004078205078282286), (1591, 0.0129782696712025), (1592, 0.0), (1593, 0.003086312316015781), (1594, 0.002750457998547632), (1595, 0.012765503084420102), (1596, 0.0), (1597, 0.0024040945929799384), (1598, 0.0024595236137767785), (1599, 0.0), (1600, 0.0), (1601, 0.0), (1602, 0.0), (1603, 0.0), (1604, 0.0), (1605, 0.0023093108504446728), (1606, 0.0), (1607, 0.0), (1608, 0.006591388765489524), (1609, 0.016763236307368024), (1610, 0.0), (1611, 0.0), (1612, 0.008830678424599038), (1613, 0.0), (1614, 0.004952474574658026), (1615, 0.0), (1616, 0.0021827250735221163), (1617, 0.0023993994989448112), (1618, 0.0), (1619, 0.009371076565403796), (1620, 0.008951135921813251), (1621, 0.01359327252453507), (1622, 0.004610644643227725), (1623, 0.004357608562432266), (1624, 0.0020706551934262735), (1625, 0.0022607910491901887), (1626, 0.0), (1627, 0.0064074895912551305), (1628, 0.0023823599983356547), (1629, 0.020426488296884347), (1630, 0.010737920073235128), (1631, 0.00422599252346238), (1632, 0.004282718669239176), (1633, 0.004438499723653861), (1634, 0.0024417475078074673), (1635, 0.0044426019994112005), (1636, 0.0), (1637, 0.0029470426285150703), (1638, 0.0), (1639, 0.0), (1640, 0.0), (1641, 0.002382648842572427), (1642, 0.0023313765280274777), (1643, 0.007263633192749525), (1644, 0.006450752519909307), (1645, 0.0025326195804644914), (1646, 0.0), (1647, 0.04248018567092994), (1648, 0.029864613938053702), (1649, 0.0), (1650, 0.0081537698922212), (1651, 0.0), (1652, 0.021354105761407022), (1653, 0.007022575024962027), (1654, 0.012196522768255402), (1655, 0.010945762993983187), (1656, 0.0028546659081524067), (1657, 0.0), (1658, 0.010015317631787368), (1659, 0.004813075732790179), (1660, 0.0025838749571534874), (1661, 0.0049369395649154655), (1662, 0.01031242051973737), (1663, 0.002410111872101144), (1664, 0.006063068817918512), (1665, 0.013109869329788689), (1666, 0.0024228457276725263), (1667, 0.013328164988545124), (1668, 0.0), (1669, 0.0), (1670, 0.002641426145526825), (1671, 0.020888334399889154), (1672, 0.002258643074972398), (1673, 0.0), (1674, 0.00768657335969711), (1675, 0.042410256265901336), (1676, 0.03736575030634083), (1677, 0.002002566216158224), (1678, 0.02021152935839816), (1679, 0.0), (1680, 0.013071659818679273), (1681, 0.012488959825086968), (1682, 0.01438981281301741), (1683, 0.002610856439233531), (1684, 0.005789074668683081), (1685, 0.009501497929527335), (1686, 0.0), (1687, 0.014917662101164969), (1688, 0.00920326088263327), (1689, 0.0), (1690, 0.008053657530220271), (1691, 0.0020994879203472283), (1692, 0.006316163351816513), (1693, 0.0024676692145342645), (1694, 0.01013122149317076), (1695, 0.005247052033090054), (1696, 0.010557500882673224), (1697, 0.0), (1698, 0.0), (1699, 0.004095423890946754), (1700, 0.0), (1701, 0.008602536371999673), (1702, 0.033744042277050315), (1703, 0.002606690562656305), (1704, 0.0), (1705, 0.007545386365800411), (1706, 0.0024547138274004835), (1707, 0.018913580284437275), (1708, 0.009689811396506045), (1709, 0.0), (1710, 0.008687295182524368), (1711, 0.003155006212920666), (1712, 0.009971347466461456), (1713, 0.012912076247318615), (1714, 0.011519201062302696), (1715, 0.005821255205920279), (1716, 0.015446327533073668), (1717, 0.0025305720939944763), (1718, 0.006870455719541511), (1719, 0.002243394580045167), (1720, 0.02650363790714341), (1721, 0.01888793405371441), (1722, 0.002536390604582343), (1723, 0.010230228901779045), (1724, 0.00505910897079247), (1725, 0.0), (1726, 0.0), (1727, 0.009918901689764299), (1728, 0.0), (1729, 0.0), (1730, 0.008678750456215663), (1731, 0.0), (1732, 0.0048220562808423155), (1733, 0.0027311702768579873), (1734, 0.0), (1735, 0.007391013495094501), (1736, 0.010162265673375914), (1737, 0.006822395948331611), (1738, 0.006632224981233828), (1739, 0.012766741768988874), (1740, 0.014153278659577292), (1741, 0.014899349932550874), (1742, 0.002393063474544143), (1743, 0.007528624749633644), (1744, 0.0023802481232810158), (1745, 0.0), (1746, 0.0059641901973814665), (1747, 0.007033209628928373), (1748, 0.0029245512447202983), (1749, 0.02762621413382487), (1750, 0.03048947388306349), (1751, 0.0), (1752, 0.012472470707352992), (1753, 0.004079426297399061), (1754, 0.01051635194626771), (1755, 0.0), (1756, 0.0), (1757, 0.023415529595977726), (1758, 0.0), (1759, 0.01790263103609993), (1760, 0.0063422042514525954), (1761, 0.011214289505356375), (1762, 0.007959971163184476), (1763, 0.025546410849723443), (1764, 0.007944130762765619), (1765, 0.002656371108003545), (1766, 0.0), (1767, 0.0), (1768, 0.0024942847572323452), (1769, 0.0), (1770, 0.007261727919650254), (1771, 0.0), (1772, 0.004055148604654991), (1773, 0.010993051373312118), (1774, 0.015732198970319317), (1775, 0.0), (1776, 0.008775468550353896), (1777, 0.0), (1778, 0.0), (1779, 0.013877661200740094), (1780, 0.001640194033946867), (1781, 0.009611223150670568), (1782, 0.0023909998969307168), (1783, 0.0), (1784, 0.004149661844722802), (1785, 0.0), (1786, 0.0), (1787, 0.011983063864034733), (1788, 0.028488137216498836), (1789, 0.010977613812756916), (1790, 0.007622307839581804), (1791, 0.004823717450807524), (1792, 0.002880385581160234), (1793, 0.00856657910947647), (1794, 0.0), (1795, 0.030466240675850825), (1796, 0.013395766062108379), (1797, 0.006179500658012454), (1798, 0.009793539996570256), (1799, 0.012143201040140415), (1800, 0.0), (1801, 0.002153805426158385), (1802, 0.013125812420455964), (1803, 0.0), (1804, 0.0), (1805, 0.002721918045971117), (1806, 0.007856974969278953), (1807, 0.008807678772862001), (1808, 0.002274914642451251), (1809, 0.0531802027957356), (1810, 0.0), (1811, 0.006759268053233623), (1812, 0.011935292281505788), (1813, 0.0023989139789597942), (1814, 0.002310786964823557), (1815, 0.01308717720247338), (1816, 0.006303027774185254), (1817, 0.020841268128456655), (1818, 0.005993590305054311), (1819, 0.006639324286257388), (1820, 0.0), (1821, 0.04298267315758403), (1822, 0.002641079083907621), (1823, 0.0), (1824, 0.0), (1825, 0.0), (1826, 0.0022941983256548797), (1827, 0.0022677535651538087), (1828, 0.0021023381902480886), (1829, 0.004919032041803479), (1830, 0.0022384870897567627), (1831, 0.0025198035660535982), (1832, 0.01202856020498405), (1833, 0.007992915705950005), (1834, 0.0), (1835, 0.0), (1836, 0.0), (1837, 0.03302997905738842), (1838, 0.019745917892875307), (1839, 0.0), (1840, 0.004171663567888985), (1841, 0.00693012444857574), (1842, 0.0), (1843, 0.017751088780747704), (1844, 0.0), (1845, 0.026638222415192245), (1846, 0.004422550529872596), (1847, 0.02570179383705807), (1848, 0.0027467287057392786), (1849, 0.006386438464792689), (1850, 0.04320958935028725), (1851, 0.0026478416729082033), (1852, 0.010872447966831993), (1853, 0.014611965249164003), (1854, 0.008918034579248649), (1855, 0.0), (1856, 0.0), (1857, 0.004511797789796792), (1858, 0.01030334073550313), (1859, 0.004654977307393646), (1860, 0.008994235584542156), (1861, 0.02108227469807379), (1862, 0.0027682138230461567), (1863, 0.005613369663688148), (1864, 0.01283682104286829), (1865, 0.022805767782277383), (1866, 0.007690666088233062), (1867, 0.006336169632439574), (1868, 0.031201324954451562), (1869, 0.002244715837549936), (1870, 0.011619459304224507), (1871, 0.04111632601204665), (1872, 0.018735433561569724), (1873, 0.011113521433801506), (1874, 0.010246918746079723), (1875, 0.008131918177099302), (1876, 0.01390606502092267), (1877, 0.0023618801207745117), (1878, 0.04743121851555925), (1879, 0.0), (1880, 0.015364476607557237), (1881, 0.004595495551195479), (1882, 0.002442053081902171), (1883, 0.0), (1884, 0.0023330421928954687), (1885, 0.03255960311475041), (1886, 0.06654789532636615), (1887, 0.002817208629889942), (1888, 0.0), (1889, 0.0), (1890, 0.002766975417239835), (1891, 0.0024091749159744834), (1892, 0.006618069478414527), (1893, 0.0026506490798831905), (1894, 0.0), (1895, 0.014378696344791907), (1896, 0.0026506484521481074), (1897, 0.01493840825133367), (1898, 0.0), (1899, 0.0), (1900, 0.00866176159317368), (1901, 0.004706972211461613), (1902, 0.007275636214145871), (1903, 0.005921663212740096), (1904, 0.004848685053565851), (1905, 0.0027458059382866463), (1906, 0.0150627732520359), (1907, 0.002694601237881532), (1908, 0.006520401538506131), (1909, 0.00281715358132053), (1910, 0.0038868715037521434), (1911, 0.0066282881754698994), (1912, 0.0), (1913, 0.006302976908288042), (1914, 0.004166688270317727), (1915, 0.0), (1916, 0.0026419996761719994), (1917, 0.0), (1918, 0.0073954301929947865), (1919, 0.014269654029936766), (1920, 0.008066426880886659), (1921, 0.0023944937913142083), (1922, 0.00964826342118052), (1923, 0.010189634167994099), (1924, 0.00784717297009295), (1925, 0.0038902379760711253), (1926, 0.0), (1927, 0.019723198314732827), (1928, 0.0), (1929, 0.002354425894441108), (1930, 0.004702599021510764), (1931, 0.00716663091960624), (1932, 0.0), (1933, 0.004505504179429761), (1934, 0.012143494751602837), (1935, 0.02257492399449046), (1936, 0.00902746350030886), (1937, 0.011104994926246118), (1938, 0.0), (1939, 0.005882502351465804), (1940, 0.005206223405785286), (1941, 0.005318065321754522), (1942, 0.02101528322770845), (1943, 0.0021281893463722225), (1944, 0.0), (1945, 0.013523051367452844), (1946, 0.0025813638665906804), (1947, 0.0029198377904883395), (1948, 0.009057800776110795), (1949, 0.011867931568284192), (1950, 0.007429457531692538), (1951, 0.009524701701891106), (1952, 0.0049612731151849965), (1953, 0.004395530258619798), (1954, 0.002167494025342101), (1955, 0.0), (1956, 0.0), (1957, 0.010879111428293595), (1958, 0.011487795261031808), (1959, 0.00273448855713614), (1960, 0.007669740716852124), (1961, 0.0), (1962, 0.005116333367021341), (1963, 0.0), (1964, 0.006280296070038024), (1965, 0.0), (1966, 0.0), (1967, 0.01418044968837651), (1968, 0.007883324924294447), (1969, 0.0024600182350046932), (1970, 0.02702501779205404), (1971, 0.008343056758535732), (1972, 0.0), (1973, 0.006516327267198215), (1974, 0.0), (1975, 0.004731276152809949), (1976, 0.03115185847276146), (1977, 0.07380796841677682), (1978, 0.0), (1979, 0.0), (1980, 0.002220128337978646), (1981, 0.005827812219594651), (1982, 0.07296326103267076), (1983, 0.014327289004385454), (1984, 0.0), (1985, 0.020876193800126397), (1986, 0.012920973132828356), (1987, 0.00637267217293613), (1988, 0.012161650848918286), (1989, 0.011218530067061687), (1990, 0.028473539385406022), (1991, 0.03513232959466426), (1992, 0.010730877026190171), (1993, 0.004537314131361234), (1994, 0.08236531892956404), (1995, 0.002696284888591167), (1996, 0.02093039210564325), (1997, 0.022802701679034827), (1998, 0.004628274999328725), (1999, 0.026856041949025456), (2000, 0.012518171127970337), (2001, 0.0), (2002, 0.0), (2003, 0.0), (2004, 0.002357777018726202), (2005, 0.011828559522751065), (2006, 0.0), (2007, 0.0), (2008, 0.013268887209018402), (2009, 0.0), (2010, 0.0019899790663906246), (2011, 0.024723081518256224), (2012, 0.04156114958620627), (2013, 0.027959275933571302), (2014, 0.02974042211627168), (2015, 0.004768535480462129), (2016, 0.010205636505798952), (2017, 0.0), (2018, 0.020066208283497543), (2019, 0.0), (2020, 0.026827914437007837), (2021, 0.0), (2022, 0.005186877449424449), (2023, 0.029966456358390445), (2024, 0.013808203367748198), (2025, 0.0), (2026, 0.051994785038800354), (2027, 0.014459298798744457), (2028, 0.0), (2029, 0.00913211926674436), (2030, 0.0), (2031, 0.0063415387530488965), (2032, 0.0), (2033, 0.0), (2034, 0.0021206335668950064), (2035, 0.017433338520421712), (2036, 0.0), (2037, 0.028137214331044616), (2038, 0.0), (2039, 0.002072549620996782), (2040, 0.02208317360156796), (2041, 0.0), (2042, 0.0), (2043, 0.0), (2044, 0.0047444298292027235), (2045, 0.013368219809771138), (2046, 0.0), (2047, 0.00215167932931589), (2048, 0.002563272530176042), (2049, 0.010127741630863545), (2050, 0.0), (2051, 0.01013151933513302), (2052, 0.012259669000912316), (2053, 0.014755505537412172), (2054, 0.0), (2055, 0.02020348418771134), (2056, 0.006418630587503517), (2057, 0.0111859019537174), (2058, 0.005827619944746909), (2059, 0.0), (2060, 0.002457131779693421), (2061, 0.007015768630825693), (2062, 0.010481810332280964), (2063, 0.0), (2064, 0.004716651324268866), (2065, 0.008440579944981492), (2066, 0.012717324693802148), (2067, 0.002607000093626872), (2068, 0.0024118796475470247), (2069, 0.006804424117293876), (2070, 0.017268028274342557), (2071, 0.0), (2072, 0.0025630168655279154), (2073, 0.0025113428988668956), (2074, 0.009738312148758681), (2075, 0.009033296606763129), (2076, 0.008002768715427131), (2077, 0.008572698088492156), (2078, 0.0036039496899812175), (2079, 0.0), (2080, 0.009435812662681727), (2081, 0.0), (2082, 0.035173718434275573), (2083, 0.0025459740071798504), (2084, 0.00484761232029309), (2085, 0.0), (2086, 0.0), (2087, 0.008744179552702387), (2088, 0.007403940119543231), (2089, 0.00826175011803318), (2090, 0.0), (2091, 0.007377510254930964), (2092, 0.0), (2093, 0.01083898500978429), (2094, 0.01029813445486896), (2095, 0.006137154591681011), (2096, 0.022065162247636896), (2097, 0.01056048946435537), (2098, 0.005498069138169692), (2099, 0.002334775083466574), (2100, 0.031215924305604822), (2101, 0.0071357291194854905), (2102, 0.028480303571778293), (2103, 0.008694313402037891), (2104, 0.007419334654628252), (2105, 0.0026153583837936023), (2106, 0.0), (2107, 0.0), (2108, 0.002845932205170825), (2109, 0.008938809611967065), (2110, 0.016729908929230562), (2111, 0.0024518371978854924), (2112, 0.06173427838941106), (2113, 0.005476295171163432), (2114, 0.029251934922269636), (2115, 0.0), (2116, 0.010059729632626276), (2117, 0.0023971401135879566), (2118, 0.0), (2119, 0.016557181787847538), (2120, 0.0), (2121, 0.01300352393892307), (2122, 0.03267103293550485), (2123, 0.03376595758737519), (2124, 0.0), (2125, 0.0), (2126, 0.0099244728864772), (2127, 0.00208372048490567), (2128, 0.0), (2129, 0.0022748951458635646), (2130, 0.004631893579238595), (2131, 0.002420385382149203), (2132, 0.002097903886321135), (2133, 0.05079738094192621), (2134, 0.0028354591799016203), (2135, 0.0), (2136, 0.004810428407580439), (2137, 0.003501869573736058), (2138, 0.0), (2139, 0.0042716443380786855), (2140, 0.0), (2141, 0.002327307642944322), (2142, 0.002917754784090053), (2143, 0.008430353951214522), (2144, 0.009117888872229935), (2145, 0.011608777497697802), (2146, 0.0021712528906399874), (2147, 0.03277183856011216), (2148, 0.0025854911292660125), (2149, 0.016649755507225843), (2150, 0.0), (2151, 0.0026603607095346273), (2152, 0.0), (2153, 0.0), (2154, 0.025928640115921445), (2155, 0.03971230201066897), (2156, 0.005734951633317339), (2157, 0.024032585626130958), (2158, 0.007868518920143324), (2159, 0.002699487846510707), (2160, 0.006397378594190101), (2161, 0.016038989206415378), (2162, 0.010852768305249278), (2163, 0.00225861323166934), (2164, 0.0), (2165, 0.0), (2166, 0.0023878228674525078), (2167, 0.017742861018785534), (2168, 0.0), (2169, 0.0025084529854716062), (2170, 0.0), (2171, 0.0), (2172, 0.0), (2173, 0.002458129742722075), (2174, 0.019910252579318322), (2175, 0.006068305980591025), (2176, 0.0027070322276886954), (2177, 0.013002059501412954), (2178, 0.011166799831392137), (2179, 0.0), (2180, 0.0), (2181, 0.004998203876355528), (2182, 0.0), (2183, 0.0), (2184, 0.0066823688128646395), (2185, 0.00581669850417153), (2186, 0.0), (2187, 0.03812007606001266), (2188, 0.008350542265740701), (2189, 0.003530347662625693), (2190, 0.00266503185912143), (2191, 0.050507005982343166), (2192, 0.0024934543461189815), (2193, 0.008890490556513078), (2194, 0.0), (2195, 0.002442250642625977), (2196, 0.014764147855945074), (2197, 0.009277044159025936), (2198, 0.0302591164940334), (2199, 0.0032310840047781956), (2200, 0.0), (2201, 0.0022976850358296026), (2202, 0.006232378605243948), (2203, 0.005871973967310322), (2204, 0.0), (2205, 0.005989086393703199), (2206, 0.01107947182919047), (2207, 0.0), (2208, 0.004718012014338683), (2209, 0.009998356749006692), (2210, 0.02055489907061698), (2211, 0.007575389309714333), (2212, 0.03665017360106909), (2213, 0.0022689372254793504), (2214, 0.0489598151155597), (2215, 0.0), (2216, 0.013559388995104843), (2217, 0.0), (2218, 0.0), (2219, 0.0), (2220, 0.0), (2221, 0.02782309137722574), (2222, 0.0), (2223, 0.002790197261157394), (2224, 0.012980862659370849), (2225, 0.0), (2226, 0.002455290467860898), (2227, 0.0), (2228, 0.008830613025236817), (2229, 0.016332461529556433), (2230, 0.002687973475475104), (2231, 0.005080507530514871), (2232, 0.004428375570032442), (2233, 0.0), (2234, 0.0), (2235, 0.012223351340823193), (2236, 0.008172546440923623), (2237, 0.018092638113223227), (2238, 0.0), (2239, 0.006270564938940496), (2240, 0.002207594243276768), (2241, 0.0), (2242, 0.002594182116179942), (2243, 0.0), (2244, 0.006850950252363942), (2245, 0.004329220850184756), (2246, 0.004586909434349628), (2247, 0.0), (2248, 0.04521392531497389), (2249, 0.0), (2250, 0.009296181326525158), (2251, 0.0034890460198772188), (2252, 0.0049253597712364885), (2253, 0.0), (2254, 0.014679429612266152), (2255, 0.009223708132206845), (2256, 0.0), (2257, 0.003262228433772516), (2258, 0.01634729254866808), (2259, 0.0), (2260, 0.002730698839881936), (2261, 0.0), (2262, 0.0), (2263, 0.0), (2264, 0.008407448049985897), (2265, 0.00825958262457534), (2266, 0.0030469401615933426), (2267, 0.0), (2268, 0.0025010777537632137), (2269, 0.002897373163552609), (2270, 0.002179901955356421), (2271, 0.0), (2272, 0.0), (2273, 0.005269920054572103), (2274, 0.0), (2275, 0.015758355675369096), (2276, 0.017832823044041157), (2277, 0.00930182158329754), (2278, 0.004603830117718809), (2279, 0.009107766709229905), (2280, 0.011229024787747299), (2281, 0.0), (2282, 0.0), (2283, 0.004732594234961588), (2284, 0.011654854107803512), (2285, 0.008064486914916073), (2286, 0.0032024045693369754), (2287, 0.0022416304030794553), (2288, 0.002756335270251483), (2289, 0.0026007661874671746), (2290, 0.015360377188342824), (2291, 0.00598256912464729), (2292, 0.0025924593383220905), (2293, 0.0026941718128700234), (2294, 0.048791151118870835), (2295, 0.014039657510554589), (2296, 0.0), (2297, 0.0), (2298, 0.015002778688456246), (2299, 0.003668017351964852), (2300, 0.0), (2301, 0.020166001502517107), (2302, 0.0028260064186277824), (2303, 0.00940763130831223), (2304, 0.007697878626996585), (2305, 0.0), (2306, 0.011283260659297772), (2307, 0.0), (2308, 0.036993470962715734), (2309, 0.008805482158244015), (2310, 0.0033508654680252546), (2311, 0.0), (2312, 0.0), (2313, 0.0024915402343257823), (2314, 0.004982879177166601), (2315, 0.0), (2316, 0.03583278521610861), (2317, 0.0024262507158462794), (2318, 0.06085493979599863), (2319, 0.0025890529955561858), (2320, 0.0028885114094830498), (2321, 0.04071687472621634), (2322, 0.0), (2323, 0.002172401061480732), (2324, 0.006548677190068766), (2325, 0.0), (2326, 0.00376638523961244), (2327, 0.0), (2328, 0.005791350878991577), (2329, 0.0), (2330, 0.0046985555481786935), (2331, 0.0), (2332, 0.0), (2333, 0.0), (2334, 0.014660931556220514), (2335, 0.006418149492291962), (2336, 0.011512425523687834), (2337, 0.0), (2338, 0.0022333432691785675), (2339, 0.0072994060545230645), (2340, 0.002498497975762898), (2341, 0.0), (2342, 0.0), (2343, 0.0), (2344, 0.00725692868952312), (2345, 0.0), (2346, 0.010654306544891957), (2347, 0.016601892072343048), (2348, 0.007631845251122664), (2349, 0.0034624276453660394), (2350, 0.003269619727856108), (2351, 0.0), (2352, 0.0), (2353, 0.01589369892876549), (2354, 0.0024631647151954874), (2355, 0.005991622407849431), (2356, 0.00279109340442308), (2357, 0.0), (2358, 0.057527251071370716), (2359, 0.0021184256523409297), (2360, 0.0), (2361, 0.0026705705944307144), (2362, 0.02039149888501519), (2363, 0.008857285972937971), (2364, 0.0), (2365, 0.03504624908772676), (2366, 0.013800068255044193), (2367, 0.0023218155477704697), (2368, 0.018567588120697878), (2369, 0.0), (2370, 0.002538810618051804), (2371, 0.0362887782630649), (2372, 0.0), (2373, 0.0), (2374, 0.046576131135465576), (2375, 0.03572751990711922), (2376, 0.014971799733329178), (2377, 0.0), (2378, 0.0029304258907106645), (2379, 0.0035360115237304335), (2380, 0.0), (2381, 0.0), (2382, 0.0021286754444430804), (2383, 0.01264901500492812), (2384, 0.0), (2385, 0.0025178054138147604), (2386, 0.002570678040336535), (2387, 0.0025560699850471873), (2388, 0.0062371695997816765), (2389, 0.0), (2390, 0.002730592496960497), (2391, 0.002689419879750236), (2392, 0.003396807415268301), (2393, 0.002569158251263325), (2394, 0.002648188275197931), (2395, 0.0), (2396, 0.0025229891318450832), (2397, 0.0024542900143923376), (2398, 0.0), (2399, 0.0022878566572179185), (2400, 0.0028030826937032755), (2401, 0.002508497416687939), (2402, 0.0023904681810502917), (2403, 0.010250933625520129), (2404, 0.0034650039455253355), (2405, 0.002547328969895781), (2406, 0.01644465705704544), (2407, 0.00333708697531013), (2408, 0.0), (2409, 0.0), (2410, 0.002766485784333984), (2411, 0.0028594794147834357), (2412, 0.012046293772556099), (2413, 0.03203216816939647), (2414, 0.0), (2415, 0.0032689888793907946), (2416, 0.0025092248373865386), (2417, 0.048304006468957925), (2418, 0.009709910918883492), (2419, 0.002595214479456186), (2420, 0.0), (2421, 0.011232964818630998), (2422, 0.002489576530245997), (2423, 0.003202443741132569), (2424, 0.006482595373489489), (2425, 0.003201570735492452), (2426, 0.005757895871082971), (2427, 0.00808877900260511), (2428, 0.008230931685233688), (2429, 0.011085775368938289), (2430, 0.0024440716006480048), (2431, 0.0), (2432, 0.0043448878743617666), (2433, 0.0), (2434, 0.0029440578677144024), (2435, 0.0), (2436, 0.009884063373143206), (2437, 0.0029162225696917005), (2438, 0.0030716584283066537), (2439, 0.005768120800716462), (2440, 0.020960660549909943), (2441, 0.0020420225125790032), (2442, 0.004288682871266363), (2443, 0.03000222887657618), (2444, 0.007061805602821888), (2445, 0.0), (2446, 0.002377936998232751), (2447, 0.011988933644563481), (2448, 0.0031350723176980008), (2449, 0.02429592751914058), (2450, 0.0), (2451, 0.0), (2452, 0.0), (2453, 0.002302434938889602), (2454, 0.0030858396455987498), (2455, 0.0), (2456, 0.0), (2457, 0.0022934250158455714), (2458, 0.0), (2459, 0.008227544250949109), (2460, 0.013229309401286636), (2461, 0.0024029723386565244), (2462, 0.0), (2463, 0.008920631348165486), (2464, 0.011009976755287703), (2465, 0.0), (2466, 0.0025318009301039633), (2467, 0.026958869623581124), (2468, 0.013543921046530245), (2469, 0.019081370124374965), (2470, 0.0), (2471, 0.0), (2472, 0.0), (2473, 0.00855369263435176), (2474, 0.011877197169726104), (2475, 0.002818188052496172), (2476, 0.005167713852939884), (2477, 0.007494564743252328), (2478, 0.0028906164065950635), (2479, 0.0), (2480, 0.010679125244327115), (2481, 0.02842957782430929), (2482, 0.0023392673820175564), (2483, 0.0), (2484, 0.023829744355940506), (2485, 0.0), (2486, 0.012841541024391645), (2487, 0.028222338247372802), (2488, 0.003022386896491768), (2489, 0.009627700905719848), (2490, 0.0035889430097797116), (2491, 0.0), (2492, 0.0025443564996224855), (2493, 0.0), (2494, 0.009206648464086297), (2495, 0.002607441203996808), (2496, 0.006732695023762452), (2497, 0.0), (2498, 0.0), (2499, 0.0), (2500, 0.0), (2501, 0.004573282253464841), (2502, 0.0022501513568797425), (2503, 0.0063809501455077055), (2504, 0.0), (2505, 0.010293709888652643), (2506, 0.004761954051865486), (2507, 0.002654830422747274), (2508, 0.0), (2509, 0.0021460973865313863), (2510, 0.007311425164949184), (2511, 0.0), (2512, 0.009151086946821345), (2513, 0.017954771739401406), (2514, 0.0), (2515, 0.0), (2516, 0.0), (2517, 0.031379602158481124), (2518, 0.0), (2519, 0.00737990870073218), (2520, 0.0021569027962701744), (2521, 0.0), (2522, 0.014823597144395302), (2523, 0.0), (2524, 0.019575024586540736), (2525, 0.0022743556038786077), (2526, 0.002091759751314332), (2527, 0.0023525737487982484), (2528, 0.0023895804000572825), (2529, 0.003664765993408894), (2530, 0.04362988055522482), (2531, 0.002663972090977491), (2532, 0.0), (2533, 0.0025086318089628298), (2534, 0.0011362396802212483), (2535, 0.0028971152957560165), (2536, 0.0), (2537, 0.0033720236133870235), (2538, 0.06930078133828171), (2539, 0.0), (2540, 0.037368553543220155), (2541, 0.0038709313094083373), (2542, 0.0), (2543, 0.0), (2544, 0.003043676472866456), (2545, 0.009417595475268839), (2546, 0.01020513490968418), (2547, 0.0), (2548, 0.0), (2549, 0.0), (2550, 0.0472128569129471), (2551, 0.0), (2552, 0.0023412997655893222), (2553, 0.017138398861595544), (2554, 0.002597546466233854), (2555, 0.007730509716660722), (2556, 0.0023363641096344014), (2557, 0.003053538574456087), (2558, 0.07931432904760063), (2559, 0.003296583395427228), (2560, 0.023356320095134372), (2561, 0.0027310330323859476), (2562, 0.0), (2563, 0.007439105534577915), (2564, 0.0), (2565, 0.009360743540149355), (2566, 0.0), (2567, 0.005379744524924312), (2568, 0.012197381021958628), (2569, 0.002441755842821012), (2570, 0.0029339507097757333), (2571, 0.0024493092374602977), (2572, 0.008757894836553605), (2573, 0.003730830211689006), (2574, 0.0), (2575, 0.0), (2576, 0.005109398751136128), (2577, 0.0), (2578, 0.0), (2579, 0.04792194347198584), (2580, 0.006262392880016121), (2581, 0.008406699744379815), (2582, 0.01981081145373607), (2583, 0.0), (2584, 0.0), (2585, 0.002800146639604098), (2586, 0.0), (2587, 0.007941765219790044), (2588, 0.0), (2589, 0.0), (2590, 0.0), (2591, 0.0022304711286269545), (2592, 0.002713427077963012), (2593, 0.0024141850933641408), (2594, 0.0), (2595, 0.002703065325661762), (2596, 0.0), (2597, 0.0), (2598, 0.02081498704020872), (2599, 0.004957569633009878), (2600, 0.008921893209694035), (2601, 0.00930745636340146), (2602, 0.012362212791017919), (2603, 0.007625505961829673), (2604, 0.0), (2605, 0.0), (2606, 0.007095039326276737), (2607, 0.018929409920304334), (2608, 0.0), (2609, 0.002624376336210105), (2610, 0.002606990752650879), (2611, 0.0022388190166474824), (2612, 0.0023986532309804094), (2613, 0.0029401310087227572), (2614, 0.005275715993213551), (2615, 0.0), (2616, 0.0), (2617, 0.011813568398776987), (2618, 0.019165724252153623), (2619, 0.00291047652818312), (2620, 0.0), (2621, 0.030693285684413974), (2622, 0.03725774138679285), (2623, 0.0028488552196697116), (2624, 0.002699339073846318), (2625, 0.010845953075614858), (2626, 0.004860611409464634), (2627, 0.0), (2628, 0.0033805115537749388), (2629, 0.0027720090158234044), (2630, 0.048920749406561236), (2631, 0.0), (2632, 0.01360068351263444), (2633, 0.009445186314603424), (2634, 0.002363485549565458), (2635, 0.008082265004369723), (2636, 0.0018459308661318617), (2637, 0.0), (2638, 0.023480103922779272), (2639, 0.014947613149244079), (2640, 0.00906089835842945), (2641, 0.0), (2642, 0.002413658211110072), (2643, 0.003454673297067522), (2644, 0.014589695108427217), (2645, 0.018416637140125574), (2646, 0.021567133698835474), (2647, 0.022353001736469893), (2648, 0.0), (2649, 0.023128290776985857), (2650, 0.01858457219239629), (2651, 0.002466292728819306), (2652, 0.002531429976333882), (2653, 0.04620706324311604), (2654, 0.016256386526790182), (2655, 0.009487827773236927), (2656, 0.0), (2657, 0.0), (2658, 0.0), (2659, 0.0), (2660, 0.004258019049130699), (2661, 0.0026320967649198124), (2662, 0.0), (2663, 0.0), (2664, 0.0027392798566919807), (2665, 0.005351428332067511), (2666, 0.0), (2667, 0.0), (2668, 0.020979583388588515), (2669, 0.0), (2670, 0.0), (2671, 0.0), (2672, 0.0), (2673, 0.003192236941250349), (2674, 0.0023377361053256835), (2675, 0.0), (2676, 0.0), (2677, 0.0), (2678, 0.0037138612939976363), (2679, 0.0023697573799393843), (2680, 0.010295657609026884), (2681, 0.0), (2682, 0.004141997105689122), (2683, 0.005205944146242559), (2684, 0.0), (2685, 0.0), (2686, 0.0), (2687, 0.02819080894415279), (2688, 0.011175525536451573), (2689, 0.02366980851901353), (2690, 0.0), (2691, 0.006636331901611017), (2692, 1.0), (2693, 0.0), (2694, 0.04382164501808528), (2695, 0.01402861644700552), (2696, 0.0029095468465851074), (2697, 0.011598196058275157), (2698, 0.008776074209290673), (2699, 0.0), (2700, 0.005261624560216462), (2701, 0.0), (2702, 0.002829203157172843), (2703, 0.0), (2704, 0.0), (2705, 0.002794889771860521), (2706, 0.03288079468358266), (2707, 0.0029552553027870506), (2708, 0.006794066331657432), (2709, 0.0), (2710, 0.030169946409065826), (2711, 0.004300783132201707), (2712, 0.016407414406430083), (2713, 0.0), (2714, 0.0075441897408553725), (2715, 0.0), (2716, 0.03692704410852274), (2717, 0.0), (2718, 0.024683205711498138), (2719, 0.0), (2720, 0.0027994117276225654), (2721, 0.002208870766490068), (2722, 0.0034600662764237102), (2723, 0.03252845063026029), (2724, 0.0062996593897103464), (2725, 0.002581584602199033), (2726, 0.00666340307192269), (2727, 0.01359317033322395), (2728, 0.002358088979295633), (2729, 0.0), (2730, 0.0), (2731, 0.0033871818677737977), (2732, 0.006591051104865938), (2733, 0.005042414524178204), (2734, 0.0), (2735, 0.0023325363085191396), (2736, 0.004254282900410734), (2737, 0.0), (2738, 0.0029760590860170174), (2739, 0.009980947360803518), (2740, 0.010075048650420911), (2741, 0.0022946278960590837), (2742, 0.01637735347511858), (2743, 0.002198251145404021), (2744, 0.009033313895654451), (2745, 0.017980074027070064), (2746, 0.002576112233774329), (2747, 0.002250186744904954), (2748, 0.0027936652300577514), (2749, 0.0), (2750, 0.0), (2751, 0.03186323787529347), (2752, 0.009225567096932391), (2753, 0.0021926724643857452), (2754, 0.0), (2755, 0.0027266332403278826), (2756, 0.0), (2757, 0.003877541138887153), (2758, 0.0020787171777758512), (2759, 0.011929501251675786), (2760, 0.020368847690290057), (2761, 0.002092002222334943), (2762, 0.026434022643288015), (2763, 0.0), (2764, 0.003582071642336573), (2765, 0.002390965255411299), (2766, 0.001979682743071721), (2767, 0.021049123458752143), (2768, 0.01952997303854368), (2769, 0.010333813914554959), (2770, 0.0), (2771, 0.012537922730171373), (2772, 0.0029558120073150495), (2773, 0.0), (2774, 0.005109681107479492), (2775, 0.0034465712527843957), (2776, 0.0027059247043826388), (2777, 0.014930306238971406), (2778, 0.008682902577223414), (2779, 0.002439056712214059), (2780, 0.012263399970825116), (2781, 0.0), (2782, 0.030608426844402688), (2783, 0.002571953795572987), (2784, 0.013949294739144033), (2785, 0.0), (2786, 0.0030179430144930204), (2787, 0.004418147202288187), (2788, 0.011657715539130338), (2789, 0.00924139850071617), (2790, 0.00473483534445076), (2791, 0.02839957557586463), (2792, 0.002536070152289833), (2793, 0.0), (2794, 0.0), (2795, 0.017778837541321847), (2796, 0.002776404502080621), (2797, 0.0030647831588327882), (2798, 0.009260007120092615), (2799, 0.0), (2800, 0.002322801831208815), (2801, 0.003805875781964463), (2802, 0.00246457327340028), (2803, 0.012472393587280958), (2804, 0.0), (2805, 0.013288761458092272), (2806, 0.0), (2807, 0.03173636996825454), (2808, 0.020223301583729425), (2809, 0.005195391710086715), (2810, 0.0), (2811, 0.0), (2812, 0.009012050878991958), (2813, 0.0), (2814, 0.0), (2815, 0.013855224935426812), (2816, 0.006720075374017966), (2817, 0.0), (2818, 0.0), (2819, 0.004884237255713573), (2820, 0.009592219102833062), (2821, 0.0026548108582434456), (2822, 0.0), (2823, 0.01765126560830412), (2824, 0.0), (2825, 0.006822839886384959), (2826, 0.0024401968917704335), (2827, 0.0), (2828, 0.0), (2829, 0.0), (2830, 0.002715555731232037), (2831, 0.00897372198889106), (2832, 0.0033646022360825137), (2833, 0.006162284993408052), (2834, 0.0030518348921884284), (2835, 0.0), (2836, 0.0), (2837, 0.0), (2838, 0.003176687340496581), (2839, 0.0), (2840, 0.007881430456005699), (2841, 0.020489782624711524), (2842, 0.0), (2843, 0.007176624071080199), (2844, 0.0072913203457045245), (2845, 0.002256990226715168), (2846, 0.04050189206954291), (2847, 0.0044133918956768365), (2848, 0.0030177551821065998), (2849, 0.010489373283052899), (2850, 0.0), (2851, 0.0), (2852, 0.0), (2853, 0.002508972120392871), (2854, 0.0077762587996804584), (2855, 0.0), (2856, 0.0), (2857, 0.0029141522802423685), (2858, 0.0035561108544923414), (2859, 0.03813846496048515), (2860, 0.0), (2861, 0.0033823152914800054), (2862, 0.0023146548398164987), (2863, 0.002658114907089307), (2864, 0.0), (2865, 0.0), (2866, 0.0), (2867, 0.019724174238394638), (2868, 0.036260784991717476), (2869, 0.03962526119083493), (2870, 0.0035046960795211825), (2871, 0.01076569743771116), (2872, 0.002957270342679467), (2873, 0.007232981371724691), (2874, 0.012100957091210026), (2875, 0.0), (2876, 0.02843940320654868), (2877, 0.0), (2878, 0.002592612025859269), (2879, 0.008914188686087093), (2880, 0.0), (2881, 0.008060167577794425), (2882, 0.002665190366914531), (2883, 0.0034424567717868133), (2884, 0.0027698644003657596), (2885, 0.01723431477808862), (2886, 0.009215045674634081), (2887, 0.028991748925115923), (2888, 0.002741707770653662), (2889, 0.00334447696517923), (2890, 0.003007466684219933), (2891, 0.0), (2892, 0.0023647631168643487), (2893, 0.04421402756232944), (2894, 0.002603321940324614), (2895, 0.002988382660680712), (2896, 0.0), (2897, 0.006732843031326671), (2898, 0.0), (2899, 0.006562878921743771), (2900, 0.002586675989707233), (2901, 0.0032968306468491673), (2902, 0.0018819477857388177), (2903, 0.09891288955160887), (2904, 0.002517355299878539), (2905, 0.0), (2906, 0.0), (2907, 0.0023700752868678365), (2908, 0.028351801392454454), (2909, 0.0024329364893382307), (2910, 0.01445921744841255), (2911, 0.0026254419782530563), (2912, 0.0024532744573365064), (2913, 0.011951850691844708), (2914, 0.002905450905485822), (2915, 0.009830425584627238), (2916, 0.0028220681695240012), (2917, 0.015869764987352805), (2918, 0.01127068786325347), (2919, 0.014702448291706045), (2920, 0.02748806577227754), (2921, 0.0), (2922, 0.0), (2923, 0.0033855052691256606), (2924, 0.0028214307849170196), (2925, 0.011335279867932486), (2926, 0.0026463703327227043), (2927, 0.0), (2928, 0.0), (2929, 0.009827941708933401), (2930, 0.0), (2931, 0.014568695039023437), (2932, 0.019166712769034155), (2933, 0.007799962339041384), (2934, 0.00952405618095137), (2935, 0.005908771297394665), (2936, 0.010081951640288384), (2937, 0.0035246380750820717), (2938, 0.0), (2939, 0.01407475153720835), (2940, 0.0025966122275591984), (2941, 0.0), (2942, 0.007909519997482444), (2943, 0.0025754601640484488), (2944, 0.052426107334838844), (2945, 0.0024569981217899576), (2946, 0.002564569135609555), (2947, 0.00485493851525974), (2948, 0.00898677802482884), (2949, 0.004769450051106672), (2950, 0.0), (2951, 0.0), (2952, 0.0), (2953, 0.0026360715327515207), (2954, 0.002317803211632331), (2955, 0.0), (2956, 0.0), (2957, 0.0030713772670646704), (2958, 0.0), (2959, 0.004816895176291577), (2960, 0.004950562588842827), (2961, 0.014001572353548049), (2962, 0.006492380676387276), (2963, 0.012221802360131047), (2964, 0.009388746759937793), (2965, 0.0024332731716818923), (2966, 0.003087655572256383), (2967, 0.0), (2968, 0.0), (2969, 0.012935257440110589), (2970, 0.0026867182085866933), (2971, 0.028951962394088947), (2972, 0.0025049414865856924), (2973, 0.0), (2974, 0.002825347802067924), (2975, 0.0078035077898112835), (2976, 0.0022128771791246754), (2977, 0.009177066089786589), (2978, 0.01240748285224831), (2979, 0.0), (2980, 0.008794076330386261), (2981, 0.03485991794165003), (2982, 0.0), (2983, 0.0), (2984, 0.00413425665763355), (2985, 0.007439754478716591), (2986, 0.00291081097231334), (2987, 0.002939974927920968), (2988, 0.014148821178001056), (2989, 0.0035531739189500916), (2990, 0.0), (2991, 0.0045859519672226835), (2992, 0.010323888915205349), (2993, 0.0031869851969376574), (2994, 0.007575443759842066), (2995, 0.019235252679316722), (2996, 0.014708579393553418), (2997, 0.0024033282447765993), (2998, 0.0036561010139095464), (2999, 0.0024874477718382767), (3000, 0.018095052952174125), (3001, 0.0), (3002, 0.0), (3003, 0.0028249386796800452), (3004, 0.03454353503705758), (3005, 0.004600997990997084), (3006, 0.0), (3007, 0.0027875139050302705), (3008, 0.007151291422075825), (3009, 0.0), (3010, 0.025366792118734254), (3011, 0.0043768251525178915), (3012, 0.015961635094996738), (3013, 0.0027011986420318146), (3014, 0.002366850883045034), (3015, 0.0031830049502666502), (3016, 0.0025887181962632334), (3017, 0.029161888705026583), (3018, 0.007120695241996818), (3019, 0.016853930262077002), (3020, 0.003081909974575289), (3021, 0.0), (3022, 0.005120852537362076), (3023, 0.04403627944518356), (3024, 0.002074189009754417), (3025, 0.0), (3026, 0.0028120073246344947), (3027, 0.0022809398395244704), (3028, 0.0023415053334664335), (3029, 0.0), (3030, 0.003453820031631574), (3031, 0.0030487004526119285), (3032, 0.007959506648950804), (3033, 0.006476933965616197), (3034, 0.0), (3035, 0.007354239537362109), (3036, 0.018117113099821437), (3037, 0.002756215985286734), (3038, 0.0), (3039, 0.007134172393081776), (3040, 0.003537352518363322), (3041, 0.0), (3042, 0.0034377664336558366), (3043, 0.015439097313502041), (3044, 0.0028171779727254763), (3045, 0.034957685424309604), (3046, 0.008710535046444971), (3047, 0.0), (3048, 0.0), (3049, 0.005755811765388554), (3050, 0.0023713988436342426), (3051, 0.0035877680777245116), (3052, 0.003303745963718412), (3053, 0.0785863823174711), (3054, 0.0), (3055, 0.003462551152391302), (3056, 0.002119529710348221), (3057, 0.0023429699688971065), (3058, 0.0), (3059, 0.0), (3060, 0.0), (3061, 0.0), (3062, 0.0028277379403328523), (3063, 0.0), (3064, 0.002808255146581124), (3065, 0.011806629588723274), (3066, 0.006401333716941786), (3067, 0.008852181698049308), (3068, 0.0), (3069, 0.0023951651104255523), (3070, 0.01059818228301343), (3071, 0.0023151872644377584), (3072, 0.002998982691923138), (3073, 0.0), (3074, 0.003088030952561245), (3075, 0.002620793045211378), (3076, 0.01211049090558483), (3077, 0.0), (3078, 0.0), (3079, 0.0042477167159250245), (3080, 0.0), (3081, 0.003128544937962571), (3082, 0.0), (3083, 0.022544482234742085), (3084, 0.002634484052962842), (3085, 0.01692585909403319), (3086, 0.014663757959999812), (3087, 0.0), (3088, 0.0), (3089, 0.0), (3090, 0.0), (3091, 0.044500503756739036), (3092, 0.0), (3093, 0.0025440246920165723), (3094, 0.010499600418105244), (3095, 0.021767468624689642), (3096, 0.007713880939245946), (3097, 0.017483827585344777), (3098, 0.01639644103244675), (3099, 0.010493453596210598), (3100, 0.004438119094062016), (3101, 0.002661318522498808), (3102, 0.03367797294260362), (3103, 0.0), (3104, 0.0), (3105, 0.0), (3106, 0.0), (3107, 0.0), (3108, 0.011901629496401531), (3109, 0.0), (3110, 0.012498938689400697), (3111, 0.01828006405038354), (3112, 0.007419005957767368), (3113, 0.0025619730804178295), (3114, 0.006021471791184233), (3115, 0.0), (3116, 0.0027822875856723384), (3117, 0.005083138855829187), (3118, 0.011245808946829462), (3119, 0.012899244936630841), (3120, 0.008674646185250465), (3121, 0.0), (3122, 0.006911806629846852), (3123, 0.008603357207161412), (3124, 0.004665671634453006), (3125, 0.007154604626853149), (3126, 0.004415879860422608), (3127, 0.035023722863292125), (3128, 0.0032788503342034724), (3129, 0.01708438876026026), (3130, 0.0), (3131, 0.004665378551548551), (3132, 0.0), (3133, 0.004250519909667687), (3134, 0.004728952707499729), (3135, 0.004170375454148407), (3136, 0.004431716497771959), (3137, 0.029783161128459336), (3138, 0.0), (3139, 0.003453823566770669), (3140, 0.0031516593960353033), (3141, 0.0), (3142, 0.009787396038453933), (3143, 0.004107742112159696), (3144, 0.019268595957204496), (3145, 0.0), (3146, 0.031420766472313184), (3147, 0.00231350136736452), (3148, 0.002825087697694047), (3149, 0.006673187317026032), (3150, 0.002511949504218747), (3151, 0.008684896093359162), (3152, 0.007138315580433783), (3153, 0.023267995349843393), (3154, 0.025496743327332573), (3155, 0.00957687561978946), (3156, 0.028753518419766554), (3157, 0.030580155809667747), (3158, 0.004857030141081344), (3159, 0.003344326319237093), (3160, 0.004027068830529639), (3161, 0.004398585433162329), (3162, 0.0), (3163, 0.004918604370283686), (3164, 0.005395773834209918), (3165, 0.0029065896307322973), (3166, 0.0034134988400311354), (3167, 0.02622427512172517), (3168, 0.0053982412585716335), (3169, 0.0), (3170, 0.0024280443589876095), (3171, 0.009085994249224828), (3172, 0.0), (3173, 0.002466472206616082), (3174, 0.0024966477463032343), (3175, 0.0), (3176, 0.0), (3177, 0.0), (3178, 0.003894349384129648), (3179, 0.004599599530866304), (3180, 0.004954725789353405), (3181, 0.0), (3182, 0.002564151174651316), (3183, 0.0027111059960724456), (3184, 0.0026013636901752527), (3185, 0.0066751515597002565), (3186, 0.0028028163646990887), (3187, 0.002733841567748517), (3188, 0.0), (3189, 0.0), (3190, 0.0), (3191, 0.004816692506817753), (3192, 0.007660725695195336), (3193, 0.0), (3194, 0.0023855724787583644), (3195, 0.006854652504112395), (3196, 0.00778766804097078), (3197, 0.0), (3198, 0.0027080109573840144), (3199, 0.0019727359857717665), (3200, 0.0021207755471044044), (3201, 0.0), (3202, 0.0), (3203, 0.04850087857465479), (3204, 0.0), (3205, 0.004939512044645289), (3206, 0.002947649658734263), (3207, 0.0), (3208, 0.0), (3209, 0.040586885864976795), (3210, 0.014777339578987048), (3211, 0.0021901171057960352), (3212, 0.0), (3213, 0.01656046372619785), (3214, 0.0025267533696353116), (3215, 0.009379752208115027), (3216, 0.0025302146014680818), (3217, 0.0), (3218, 0.009510008791908409), (3219, 0.003202709149063242), (3220, 0.0023844162703270033), (3221, 0.0), (3222, 0.02086374689727494), (3223, 0.0), (3224, 0.0026262887250087744), (3225, 0.0025826120580119717), (3226, 0.016307697208589704), (3227, 0.007131737760446056), (3228, 0.016058933398104772), (3229, 0.0), (3230, 0.0027464078810288763), (3231, 0.0), (3232, 0.010805151773726065), (3233, 0.007210871160092136), (3234, 0.0027688683062116457), (3235, 0.0026957678193407024), (3236, 0.0), (3237, 0.008775153653407064), (3238, 0.0021855642911044718), (3239, 0.0030482685513461417), (3240, 0.010811219930312331), (3241, 0.0025875267977228263), (3242, 0.0025756534970552505), (3243, 0.0023254447885566543), (3244, 0.0058911639658833035), (3245, 0.0072721996018070174), (3246, 0.008482411527114415), (3247, 0.00406813213505085), (3248, 0.0725705975464518), (3249, 0.04161107775077587), (3250, 0.0), (3251, 0.0), (3252, 0.0021547703352964654), (3253, 0.01470435461825789), (3254, 0.0021415802181011176), (3255, 0.03382152266727488), (3256, 0.007648680208026298), (3257, 0.0035677651504987273), (3258, 0.0028655043113118583), (3259, 0.007479368434864328), (3260, 0.027578487432825736), (3261, 0.0), (3262, 0.0033239103806965292), (3263, 0.0051734306121425854), (3264, 0.009470403148223169), (3265, 0.006540432881223299), (3266, 0.0), (3267, 0.008632152135225668), (3268, 0.002445719437140387), (3269, 0.0026868851358107545), (3270, 0.0), (3271, 0.0026882202273308974), (3272, 0.0), (3273, 0.0027188989920455564), (3274, 0.002895035915516905), (3275, 0.017111475060042052), (3276, 0.042579813281461376), (3277, 0.0), (3278, 0.002292605392494688), (3279, 0.01704956631545712), (3280, 0.03589999300733301), (3281, 0.0), (3282, 0.0030820492585914685), (3283, 0.002587558805879405), (3284, 0.018372629413262013), (3285, 0.025663020021232812), (3286, 0.0), (3287, 0.0), (3288, 0.0064352257356179035), (3289, 0.002545861038717455), (3290, 0.0025987345226402923), (3291, 0.0035515132980061094), (3292, 0.0032270533595094362), (3293, 0.009084518894958557), (3294, 0.04630257375278785), (3295, 0.014798923326566658), (3296, 0.002950756310644515), (3297, 0.009616998709510107), (3298, 0.002390559243256213), (3299, 0.015236627325921057), (3300, 0.0023479356383700302), (3301, 0.0019621879949022376), (3302, 0.002999269229365532), (3303, 0.007249494362684774), (3304, 0.002261199236257559), (3305, 0.0), (3306, 0.015079414846775038), (3307, 0.0028995878874737407), (3308, 0.002872338974232725), (3309, 0.006214270158344321), (3310, 0.0), (3311, 0.0022709884238846286), (3312, 0.013087314792934863), (3313, 0.031327631124572715), (3314, 0.0026069158433189186), (3315, 0.03429148514819828), (3316, 0.006855762791116204), (3317, 0.01159070904737363), (3318, 0.012621247803171434), (3319, 0.021752600360333104), (3320, 0.0), (3321, 0.0), (3322, 0.0032520033862404596), (3323, 0.0), (3324, 0.0), (3325, 0.011853834609963256), (3326, 0.002633279034027616), (3327, 0.0022300002789694667), (3328, 0.013439807485552534), (3329, 0.008083434743388322), (3330, 0.007085746086318056), (3331, 0.006040603676850649), (3332, 0.0), (3333, 0.0), (3334, 0.05617404996238095), (3335, 0.0024853444840675478), (3336, 0.002202821262058412), (3337, 0.002889780448110164), (3338, 0.0042613487382564055), (3339, 0.0038802138646243465), (3340, 0.0), (3341, 0.002509504771972715), (3342, 0.006516409192271698), (3343, 0.0), (3344, 0.026660975831696215), (3345, 0.021915803625770062), (3346, 0.00908186852806803), (3347, 0.00209974410806696), (3348, 0.0025198396112343447), (3349, 0.007438417913487543), (3350, 0.0), (3351, 0.03389828121300946), (3352, 0.019654312072857442), (3353, 0.002568861930946085), (3354, 0.003211134205825832), (3355, 0.0029171663806680593), (3356, 0.013925584448670456), (3357, 0.0030363258348034415), (3358, 0.003025673266329466), (3359, 0.002974988243375915), (3360, 0.05200208887346555), (3361, 0.004205721790350612), (3362, 0.03849660243019226), (3363, 0.0030526486469020925), (3364, 0.0028968591625311577), (3365, 0.0017658019114221535), (3366, 0.0), (3367, 0.00440736941562802), (3368, 0.0), (3369, 0.0023045517216776093), (3370, 0.013135703533403854), (3371, 0.0), (3372, 0.00263211460232624), (3373, 0.010479738721864685), (3374, 0.014401372757021417), (3375, 0.015339998011270454), (3376, 0.03090714750629374), (3377, 0.03163332300948634), (3378, 0.0), (3379, 0.0023861583065305485), (3380, 0.002228713590220245), (3381, 0.00243804276312531), (3382, 0.009686282929088292), (3383, 0.0), (3384, 0.02038999506971359), (3385, 0.06131891295630673), (3386, 0.009188115046240751), (3387, 0.011818560572585433), (3388, 0.002590926190414286), (3389, 0.008081984024527731), (3390, 0.0023698726777624593), (3391, 0.005542707498149626), (3392, 0.001650509788306395), (3393, 0.002168557873463701), (3394, 0.0), (3395, 0.04792314623734547), (3396, 0.003135598315282181), (3397, 0.0), (3398, 0.0047258550441731835), (3399, 0.00849065296680624), (3400, 0.0), (3401, 0.0), (3402, 0.0024566705932916265), (3403, 0.018336855551139772), (3404, 0.0049226630795239845), (3405, 0.0038210985436983457), (3406, 0.0027030442381398077), (3407, 0.015265363037541294), (3408, 0.04381665928408011), (3409, 0.0077724543745745535), (3410, 0.00721339239255823), (3411, 0.0), (3412, 0.0023604772659031187), (3413, 0.002917994844640712), (3414, 0.0027798532956241177), (3415, 0.0), (3416, 0.017679949888687266), (3417, 0.0027611323729187175), (3418, 0.008450942230814053), (3419, 0.0030330754757724814), (3420, 0.028731226390514383), (3421, 0.014740622925645923), (3422, 0.0), (3423, 0.010461385042635522), (3424, 0.0), (3425, 0.002802405896067016), (3426, 0.01041374738609047), (3427, 0.04142748846004893), (3428, 0.026336988684576925), (3429, 0.0032390053952991893), (3430, 0.03506815341440636), (3431, 0.0021581625745761015), (3432, 0.004516138954116411), (3433, 0.021550126453495813), (3434, 0.002759110039713041), (3435, 0.007029769896503521), (3436, 0.007084961781641201), (3437, 0.014833234681835727), (3438, 0.004829650653019284), (3439, 0.0), (3440, 0.005165583482008496), (3441, 0.00243241720952548), (3442, 0.0), (3443, 0.004617569460259768), (3444, 0.0), (3445, 0.0025143216317844567), (3446, 0.02284334622237851), (3447, 0.025572343323225343), (3448, 0.0055517642670282275), (3449, 0.002624721289922993), (3450, 0.06079797210285015), (3451, 0.004775471998695122), (3452, 0.00684876292421714), (3453, 0.008119841040151706), (3454, 0.0), (3455, 0.0022935027557745786), (3456, 0.007487798300427071), (3457, 0.006778689079093274), (3458, 0.006505261459712), (3459, 0.0), (3460, 0.006578759959628384), (3461, 0.0), (3462, 0.01626264340478009), (3463, 0.03475172118012758), (3464, 0.0071585320137962935), (3465, 0.010851822622632764), (3466, 0.02490035246755913), (3467, 0.0), (3468, 0.005081192057166512), (3469, 0.020153206951368473), (3470, 0.0348187752482587), (3471, 0.020868072137770532), (3472, 0.0), (3473, 0.0), (3474, 0.006290098842347588), (3475, 0.0), (3476, 0.0), (3477, 0.002440733964337127), (3478, 0.002535828343777064), (3479, 0.003343478594407414), (3480, 0.07174701175717337), (3481, 0.0), (3482, 0.0), (3483, 0.02110972469268387), (3484, 0.0038611305105945375), (3485, 0.0), (3486, 0.03740664068683328), (3487, 0.0068245325098860166), (3488, 0.029711844237535808), (3489, 0.0), (3490, 0.0), (3491, 0.002536534648616148), (3492, 0.02057279459958986), (3493, 0.002591240975890268), (3494, 0.0), (3495, 0.004113861672086802), (3496, 0.0026271458021652214), (3497, 0.002821485934187904), (3498, 0.03643713454977883), (3499, 0.006761752006600084), (3500, 0.002475589897744809), (3501, 0.007479375589297033), (3502, 0.005555774490875396), (3503, 0.00234731644739177), (3504, 0.01948509986446477), (3505, 0.0), (3506, 0.0028020001504307605), (3507, 0.011904984833508114), (3508, 0.019776403508108414), (3509, 0.005650848564290345), (3510, 0.0), (3511, 0.03729520787569445), (3512, 0.003928541519770293), (3513, 0.004719123588188925), (3514, 0.007273480984910907), (3515, 0.007021666240488452), (3516, 0.007320182816623325), (3517, 0.0025055484524429033), (3518, 0.043878326880784906), (3519, 0.0), (3520, 0.004518350752110436), (3521, 0.008595155376217809), (3522, 0.0), (3523, 0.0035902285607288874), (3524, 0.010285679284137669), (3525, 0.0), (3526, 0.002565124685267597), (3527, 0.0026680366883144314), (3528, 0.017091238619140886), (3529, 0.0), (3530, 0.0), (3531, 0.006836685543344326), (3532, 0.0), (3533, 0.0), (3534, 0.004167733094178784), (3535, 0.013746613009594403), (3536, 0.00912449805976048), (3537, 0.003088223421068476), (3538, 0.0020364445938134794), (3539, 0.0), (3540, 0.0029145603137562953), (3541, 0.015463397933713739), (3542, 0.0025393995575196185), (3543, 0.0), (3544, 0.0030938367483217726), (3545, 0.0), (3546, 0.0018472253323173838), (3547, 0.0), (3548, 0.0021284323364470902), (3549, 0.0), (3550, 0.0), (3551, 0.002555238382297161), (3552, 0.04604561756567805), (3553, 0.020735852656591246), (3554, 0.0), (3555, 0.004533591264963676), (3556, 0.0331519099584447), (3557, 0.0024270515379498665), (3558, 0.01478956259319773), (3559, 0.025905255912031237), (3560, 0.0028476642174706727), (3561, 0.0032398252358608053), (3562, 0.0), (3563, 0.0023151820727332867), (3564, 0.002527045544013104), (3565, 0.0025537987127672904), (3566, 0.0063025531972383374), (3567, 0.0), (3568, 0.0), (3569, 0.0021726916978908302), (3570, 0.006987834189771826), (3571, 0.007106778560499889), (3572, 0.029527625434161583), (3573, 0.0), (3574, 0.028252492563340937), (3575, 0.0021471117540122343), (3576, 0.004746697054349306), (3577, 0.003045987165986822), (3578, 0.0), (3579, 0.007896312870020574), (3580, 0.014985411660481349), (3581, 0.0), (3582, 0.011157790913621821), (3583, 0.004507884295662938), (3584, 0.005018740594725926), (3585, 0.0), (3586, 0.007424382882474422), (3587, 0.002727860902362269), (3588, 0.005461246569765427), (3589, 0.0), (3590, 0.0028145080499206126), (3591, 0.0), (3592, 0.0), (3593, 0.0027110981531749735), (3594, 0.006592054467977794), (3595, 0.0), (3596, 0.009325544710058916), (3597, 0.029132335457960956), (3598, 0.00576861765725053), (3599, 0.009355850499425371), (3600, 0.0), (3601, 0.0027428815193805637), (3602, 0.004572992079522903), (3603, 0.0), (3604, 0.004788656595227303), (3605, 0.004433884320931387), (3606, 0.002452970928901976), (3607, 0.0), (3608, 0.0016702497479707643), (3609, 0.0), (3610, 0.0), (3611, 0.002774941889557649), (3612, 0.009458001044268066), (3613, 0.0030707792281627175), (3614, 0.0022901921295183734), (3615, 0.002433303820554095), (3616, 0.0029734347813254306), (3617, 0.0), (3618, 0.007735035076802601), (3619, 0.0038874947375103883), (3620, 0.003062202066618028), (3621, 0.0029555279149353817), (3622, 0.0), (3623, 0.007398671876235309), (3624, 0.0069776954443082325), (3625, 0.0), (3626, 0.0019246226387087924), (3627, 0.0023322561146412028), (3628, 0.0), (3629, 0.002139957752828448), (3630, 0.013252676791000279), (3631, 0.0), (3632, 0.006508922363505478), (3633, 0.0), (3634, 0.007814586472387102), (3635, 0.009612549996278379), (3636, 0.002696791812690796), (3637, 0.012356362695575324), (3638, 0.008608537928868789), (3639, 0.002771213189591417), (3640, 0.015810482625040416), (3641, 0.002452551000450671), (3642, 0.014661468316051229), (3643, 0.009215197634850774), (3644, 0.0), (3645, 0.007673623047981511), (3646, 0.0023939348556545202), (3647, 0.0025022990258463385), (3648, 0.006683840835484952), (3649, 0.0), (3650, 0.0), (3651, 0.0028618462193274953), (3652, 0.04014186185174227), (3653, 0.007268047530873154), (3654, 0.002589773443320511), (3655, 0.05203976145802257), (3656, 0.0322115306994248), (3657, 0.00217246716712428), (3658, 0.005904993808574682), (3659, 0.012228265384400444), (3660, 0.013245576626910496), (3661, 0.015370949162388601), (3662, 0.0), (3663, 0.0), (3664, 0.0043391414550157095), (3665, 0.02020672439842171), (3666, 0.007231217600813745), (3667, 0.008703386578091043), (3668, 0.002112050062576127), (3669, 0.0023426021202060366), (3670, 0.014310733495453584), (3671, 0.0), (3672, 0.0038366509696771793), (3673, 0.0025212438276541937), (3674, 0.009798132369106103), (3675, 0.01688061014455798), (3676, 0.0), (3677, 0.0027041859790694713), (3678, 0.0026442570958467183), (3679, 0.009568018374863187), (3680, 0.007963123559849374), (3681, 0.0), (3682, 0.0), (3683, 0.0), (3684, 0.025489026435211178), (3685, 0.0), (3686, 0.0), (3687, 0.003137149660421339), (3688, 0.0), (3689, 0.009081215906590487), (3690, 0.0), (3691, 0.0024266986937305163), (3692, 0.024279171430735713), (3693, 0.0), (3694, 0.01531524491810815), (3695, 0.0), (3696, 0.006753765483359537), (3697, 0.0), (3698, 0.0), (3699, 0.014869434440460547), (3700, 0.0), (3701, 0.0025085014547302628), (3702, 0.0), (3703, 0.0), (3704, 0.00761063586941089), (3705, 0.006324301965582319), (3706, 0.00243503918666372), (3707, 0.002551388579639256), (3708, 0.013575980350369141), (3709, 0.0), (3710, 0.004740760813401627), (3711, 0.02420196968680796), (3712, 0.0), (3713, 0.015149652351999153), (3714, 0.002789665559380174), (3715, 0.00613899145272873), (3716, 0.0), (3717, 0.0), (3718, 0.0), (3719, 0.002869604170023845), (3720, 0.03073939954299408), (3721, 0.006066441230629011), (3722, 0.0), (3723, 0.004267101215092368), (3724, 0.0), (3725, 0.0023633218483889587), (3726, 0.0), (3727, 0.007086632033649792), (3728, 0.056404902514065346), (3729, 0.002976897360023097), (3730, 0.0), (3731, 0.03421676672589122), (3732, 0.0), (3733, 0.009052018268448227), (3734, 0.006780206784278057), (3735, 0.0), (3736, 0.0), (3737, 0.0027955572959839094), (3738, 0.0), (3739, 0.00242824373109966), (3740, 0.0), (3741, 0.013745194022805246), (3742, 0.0022513640841677032), (3743, 0.0), (3744, 0.005425897061264153), (3745, 0.0028802589309821986), (3746, 0.0), (3747, 0.011477660119893594), (3748, 0.005755545382787161), (3749, 0.002701208306556276), (3750, 0.013180167790190662), (3751, 0.028647950768483768), (3752, 0.005787851720844302), (3753, 0.04689499578354946), (3754, 0.002905082471347042), (3755, 0.0022601128122483466), (3756, 0.011235812682278256), (3757, 0.002667988433137551), (3758, 0.0), (3759, 0.0), (3760, 0.0), (3761, 0.0), (3762, 0.0032424862191449437), (3763, 0.0030216415886118587), (3764, 0.0), (3765, 0.0025776771622297847), (3766, 0.01739968836487783), (3767, 0.007998280848020706), (3768, 0.012235158899005397), (3769, 0.00459086434787733), (3770, 0.002719158283278852), (3771, 0.007496976796480583), (3772, 0.0029335850138595557), (3773, 0.0), (3774, 0.004884348053110267), (3775, 0.010591260725466853), (3776, 0.003942095281100705), (3777, 0.014726184547116947), (3778, 0.021210900730943172), (3779, 0.1004189043672533), (3780, 0.007616839029986895), (3781, 0.002680497010808861), (3782, 0.004820129157220631), (3783, 0.0), (3784, 0.008654446135790252), (3785, 0.0), (3786, 0.0), (3787, 0.004959705548472119), (3788, 0.004242196316693492), (3789, 0.0), (3790, 0.0), (3791, 0.0), (3792, 0.0025298994982082706), (3793, 0.043743583775322725), (3794, 0.01081468130896792), (3795, 0.002223573027541079), (3796, 0.0), (3797, 0.014698895757308105), (3798, 0.0), (3799, 0.0024887983317784805), (3800, 0.0), (3801, 0.024413915693881075), (3802, 0.00507284730332561), (3803, 0.0), (3804, 0.002793414190466611), (3805, 0.0), (3806, 0.0038751789447396524), (3807, 0.01418754433403293), (3808, 0.0), (3809, 0.002526003361303217), (3810, 0.02361397589106186), (3811, 0.002483944412690285), (3812, 0.0), (3813, 0.002709913853766461), (3814, 0.00454624223261328), (3815, 0.004653596935343215), (3816, 0.0), (3817, 0.0), (3818, 0.0), (3819, 0.013362239844852382), (3820, 0.0), (3821, 0.007553720853050279), (3822, 0.009631563446125717), (3823, 0.004354575047819055), (3824, 0.004239597129965523), (3825, 0.005876807967773565), (3826, 0.008484533723569259), (3827, 0.00252652232247773), (3828, 0.017529124527311823), (3829, 0.008050688582338615), (3830, 0.0), (3831, 0.0), (3832, 0.0030662027095533497), (3833, 0.004695191994726697), (3834, 0.0), (3835, 0.025487641217613773), (3836, 0.0), (3837, 0.0), (3838, 0.0), (3839, 0.022253890611369728), (3840, 0.0), (3841, 0.0065081651978984596), (3842, 0.006393796650940349), (3843, 0.0), (3844, 0.005601362084218443), (3845, 0.0026712903741789944), (3846, 0.0), (3847, 0.0), (3848, 0.0032400739360117416), (3849, 0.01198945508298905), (3850, 0.032049382782716816), (3851, 0.0), (3852, 0.027362263569449635), (3853, 0.018419142360181214), (3854, 0.01293709997609402), (3855, 0.002105007987255442), (3856, 0.0), (3857, 0.0192041394617584), (3858, 0.0), (3859, 0.0), (3860, 0.010437259264815998), (3861, 0.013621436748170443), (3862, 0.015167801885212554), (3863, 0.002299592797057369), (3864, 0.00607035297351089), (3865, 0.0058471679161856025), (3866, 0.002918539449217299), (3867, 0.03866797061318592), (3868, 0.02547218493076191), (3869, 0.0), (3870, 0.0), (3871, 0.02748609983657474), (3872, 0.0), (3873, 0.0026850120693060055), (3874, 0.003108241488601644), (3875, 0.01772943602986879), (3876, 0.006391506937273023), (3877, 0.0027598211328861283), (3878, 0.003231750995812691), (3879, 0.0), (3880, 0.007952732839225762), (3881, 0.0044607204187192195), (3882, 0.002547508284138503), (3883, 0.016118918187671874), (3884, 0.0028986045149774035), (3885, 0.0), (3886, 0.004383192408840991), (3887, 0.0), (3888, 0.009613482823580693), (3889, 0.0027116985340909926), (3890, 0.0024259012987385776), (3891, 0.0), (3892, 0.0032561579654353905), (3893, 0.002751797653432556), (3894, 0.0022558974337471838), (3895, 0.015523139375670701), (3896, 0.0), (3897, 0.004913648502211168), (3898, 0.0024350724406707867), (3899, 0.007992955904342552), (3900, 0.00247391905880592), (3901, 0.0083490515530839), (3902, 0.0026065846007997185), (3903, 0.010220885353458036), (3904, 0.02835520760576539), (3905, 0.0073438632344283265), (3906, 0.0024100641202036495), (3907, 0.004797641013217696), (3908, 0.004684108817176564), (3909, 0.006014408941192319), (3910, 0.006501743999516769), (3911, 0.0028786566347151635), (3912, 0.0), (3913, 0.02394404951315303), (3914, 0.0), (3915, 0.0026922747178909174), (3916, 0.0), (3917, 0.002516770740343716), (3918, 0.0), (3919, 0.009513801747397561), (3920, 0.002648236360634975), (3921, 0.0), (3922, 0.003251324795153612), (3923, 0.021818110104990737), (3924, 0.010254251826149115), (3925, 0.003630384138301821), (3926, 0.006400805863842068), (3927, 0.02066256083412266), (3928, 0.002107105268113096), (3929, 0.0), (3930, 0.0), (3931, 0.0), (3932, 0.004628021938125874), (3933, 0.0), (3934, 0.01918713335809672), (3935, 0.0029076508382330584), (3936, 0.0), (3937, 0.0), (3938, 0.004814875789451849), (3939, 0.00322474474713366), (3940, 0.005283408012569511), (3941, 0.008702283910827363), (3942, 0.005617710356570203), (3943, 0.0), (3944, 0.003742475471245576), (3945, 0.006993556578019312), (3946, 0.06652855357287224), (3947, 0.04239179361911852), (3948, 0.0), (3949, 0.00985780661616831), (3950, 0.0), (3951, 0.010650597050340695), (3952, 0.002992092578885889), (3953, 0.002430252934317609), (3954, 0.00830970625290699), (3955, 0.03919103432031253), (3956, 0.008494692949918057), (3957, 0.011526665763642932), (3958, 0.015079730098606203), (3959, 0.019609205277768743), (3960, 0.007814764648921483), (3961, 0.03232549382453168), (3962, 0.0028340615044994168), (3963, 0.0), (3964, 0.0), (3965, 0.0), (3966, 0.004245379860110405), (3967, 0.0028992242942690073), (3968, 0.0), (3969, 0.0), (3970, 0.0042969426008548535), (3971, 0.0), (3972, 0.0), (3973, 0.04171801464878734), (3974, 0.006572315701656773), (3975, 0.005774416739813284), (3976, 0.01718990954156005), (3977, 0.0), (3978, 0.02110868015406798), (3979, 0.0), (3980, 0.0), (3981, 0.0), (3982, 0.0), (3983, 0.034687959572388315), (3984, 0.010447654884899104), (3985, 0.0), (3986, 0.002285986881004434), (3987, 0.0026138479307094985), (3988, 0.0), (3989, 0.003873304795267256), (3990, 0.0034305306652077645), (3991, 0.0), (3992, 0.010988923329810756), (3993, 0.010600364474213302), (3994, 0.0), (3995, 0.004746475775849836), (3996, 0.0), (3997, 0.0048132646424818935), (3998, 0.006327356447851754), (3999, 0.01176404405510698), (4000, 0.014148517371406058), (4001, 0.00664913314793431), (4002, 0.003083730890264961), (4003, 0.0), (4004, 0.029699039913165023), (4005, 0.0357710608985545), (4006, 0.0), (4007, 0.018063263463979982), (4008, 0.006732715092813086), (4009, 0.0060289324103730965), (4010, 0.0), (4011, 0.002407727485626387), (4012, 0.017864236300757747), (4013, 0.007379486841134582), (4014, 0.002641018709064529), (4015, 0.0021201301570878896), (4016, 0.02085355288886132), (4017, 0.003371540238663054), (4018, 0.0), (4019, 0.003318737811007297), (4020, 0.0024284291256303644), (4021, 0.0), (4022, 0.0), (4023, 0.04271202599488768), (4024, 0.0027126088489250566), (4025, 0.009297632903035525), (4026, 0.0), (4027, 0.0), (4028, 0.01821513232257391), (4029, 0.0), (4030, 0.003075434534281245), (4031, 0.0), (4032, 0.010408716679938358), (4033, 0.00997798738932117), (4034, 0.0), (4035, 0.03145996251064064), (4036, 0.002455984581185874), (4037, 0.0), (4038, 0.007403502821281254), (4039, 0.0044021960978494765), (4040, 0.0), (4041, 0.0), (4042, 0.0027821300851763554), (4043, 0.0049524324103748804), (4044, 0.0043764719421352195), (4045, 0.007126259298321895), (4046, 0.007515475534097111), (4047, 0.005794823849119077), (4048, 0.01061722351450862), (4049, 0.0025055928244838432), (4050, 0.022237089515894454), (4051, 0.0028603672253420657), (4052, 0.009607568502180834), (4053, 0.024813047638873847), (4054, 0.002561163717326256), (4055, 0.005842965945019063), (4056, 0.0025893315847398527), (4057, 0.005830949731487853), (4058, 0.0), (4059, 0.002436762564244574), (4060, 0.009105212638332697), (4061, 0.006768779719039119), (4062, 0.05768015368897283), (4063, 0.0), (4064, 0.04075332637715712), (4065, 0.0), (4066, 0.002249219128147288), (4067, 0.0), (4068, 0.013847508495003453), (4069, 0.002409998907377785), (4070, 0.0), (4071, 0.004350035658872479), (4072, 0.0), (4073, 0.0), (4074, 0.002201543536812796), (4075, 0.0029266753731100967), (4076, 0.0047715952939979805), (4077, 0.0070189984986376176), (4078, 0.0), (4079, 0.0026782294684636835), (4080, 0.002388921771905081), (4081, 0.017831072696438605), (4082, 0.0035357773641515274), (4083, 0.0025940100017255593), (4084, 0.0), (4085, 0.002378361504026965), (4086, 0.0), (4087, 0.0027533965814778155), (4088, 0.0186692779919288), (4089, 0.007113070945238665), (4090, 0.0048060998493764835), (4091, 0.004813799743169654), (4092, 0.00795505726484059), (4093, 0.007127290370252063), (4094, 0.007322769305822548), (4095, 0.011957006395274436), (4096, 0.009823722832041557), (4097, 0.0), (4098, 0.007710193521250306), (4099, 0.006424122264280912), (4100, 0.0), (4101, 0.002768170998394331), (4102, 0.00326707116593808), (4103, 0.004580493549499003), (4104, 0.025903200045864935), (4105, 0.008051418970325401), (4106, 0.010038871393282143), (4107, 0.003140949941566913), (4108, 0.0), (4109, 0.0), (4110, 0.006065899766040678), (4111, 0.002666310784341699), (4112, 0.0), (4113, 0.00273621477834636), (4114, 0.0), (4115, 0.0), (4116, 0.015397998517418913), (4117, 0.0029017295594643317), (4118, 0.00788793967935114), (4119, 0.004854394567587921), (4120, 0.005026485024253074), (4121, 0.013037861834111897), (4122, 0.008624048687363751), (4123, 0.014795190133703881), (4124, 0.013442218000637704), (4125, 0.0), (4126, 0.00294548022248858), (4127, 0.0), (4128, 0.025256602461245434), (4129, 0.002496166878951347), (4130, 0.002783859044790575), (4131, 0.0), (4132, 0.0026725657784336153), (4133, 0.007645544727638915), (4134, 0.015366762320992045), (4135, 0.0024950840861809476), (4136, 0.0026383520322435195), (4137, 0.038682992976225024), (4138, 0.00271714489422185), (4139, 0.002469574429870756), (4140, 0.0027712639830919285), (4141, 0.026611462181100193), (4142, 0.0031123395170084608), (4143, 0.0022689009905389065), (4144, 0.0), (4145, 0.0029066124247829157), (4146, 0.0), (4147, 0.0029504140726809474), (4148, 0.011295432490239381), (4149, 0.01836843699783174), (4150, 0.0), (4151, 0.0021711949507533432), (4152, 0.03334177297492511), (4153, 0.0), (4154, 0.006693393385438478), (4155, 0.002344585377198643), (4156, 0.018724633270378533), (4157, 0.0), (4158, 0.00941935755942116), (4159, 0.0), (4160, 0.0027300868226885567), (4161, 0.002702106212637885), (4162, 0.005225792380641313), (4163, 0.008517679201381386), (4164, 0.010385481146683678), (4165, 0.035178951358593676), (4166, 0.0), (4167, 0.0), (4168, 0.0), (4169, 0.0026137101441134126), (4170, 0.0), (4171, 0.001779553779106045), (4172, 0.003472566042016427), (4173, 0.0), (4174, 0.002325321560250032), (4175, 0.0026589006974822513), (4176, 0.020886862769339914), (4177, 0.029586752145092154), (4178, 0.01429697303891634), (4179, 0.0), (4180, 0.0), (4181, 0.0), (4182, 0.006991765868014732), (4183, 0.0024568950535465896), (4184, 0.0), (4185, 0.0), (4186, 0.0), (4187, 0.01033788877318924), (4188, 0.0), (4189, 0.019918370056075628), (4190, 0.0), (4191, 0.0), (4192, 0.00909961799093406), (4193, 0.0042114922191340025), (4194, 0.0), (4195, 0.032505800299370335), (4196, 0.007077627243028092), (4197, 0.002432377572989992), (4198, 0.0), (4199, 0.0), (4200, 0.0021770366934592625), (4201, 0.0), (4202, 0.003536048125611052), (4203, 0.018147907149465247), (4204, 0.0), (4205, 0.008287222753402395), (4206, 0.002416644059037098), (4207, 0.0), (4208, 0.00595137576132696), (4209, 0.0029766199588885578), (4210, 0.00643722894032611), (4211, 0.00469760569000846), (4212, 0.0), (4213, 0.00243344701397184), (4214, 0.0), (4215, 0.0), (4216, 0.01121096178370547), (4217, 0.006173106805255898), (4218, 0.0), (4219, 0.005991201868353305), (4220, 0.0022781099150129503), (4221, 0.003226171464707832), (4222, 0.003397175072600574), (4223, 0.0), (4224, 0.0), (4225, 0.002613741676440242), (4226, 0.0069817335435581555), (4227, 0.012274128698807372), (4228, 0.0024681004811373144), (4229, 0.0), (4230, 0.003167754635258387), (4231, 0.014873700371406654), (4232, 0.008298257375715727), (4233, 0.007431534706149273), (4234, 0.0), (4235, 0.011153703465471168), (4236, 0.006217126807725531), (4237, 0.0), (4238, 0.0), (4239, 0.0), (4240, 0.004923732740642494), (4241, 0.0), (4242, 0.02651249515186756), (4243, 0.0029805980576181066), (4244, 0.016695589454608688), (4245, 0.002755652215501118), (4246, 0.01567579493618267), (4247, 0.002205255942119655), (4248, 0.00460748536215254), (4249, 0.0072197424185785316), (4250, 0.0), (4251, 0.004576426275714391), (4252, 0.029445254676971736), (4253, 0.0), (4254, 0.0024509462897582177), (4255, 0.013415655510484435), (4256, 0.0), (4257, 0.00840397738020608), (4258, 0.0), (4259, 0.0026985212685189204), (4260, 0.0), (4261, 0.005125733779488566), (4262, 0.002607938470857281), (4263, 0.002698893156657318), (4264, 0.00443897575753565), (4265, 0.012120733349843925), (4266, 0.002498774354466463), (4267, 0.002872448742838261), (4268, 0.04921990423686463), (4269, 0.002855841586082515), (4270, 0.0), (4271, 0.0), (4272, 0.006135318799632577), (4273, 0.0026147518588199013), (4274, 0.004259795012937118), (4275, 0.004818610814515964), (4276, 0.0), (4277, 0.0023140400810927643), (4278, 0.0), (4279, 0.0), (4280, 0.0029748777298959795), (4281, 0.02291166129443472), (4282, 0.00660283386858769), (4283, 0.025498197730957826), (4284, 0.0069450667271711685), (4285, 0.005326538424117756), (4286, 0.0025949602949922558), (4287, 0.0025651194723643905), (4288, 0.01703508123830888), (4289, 0.007424503535890979), (4290, 0.004074706420462105), (4291, 0.0), (4292, 0.004299990535958066), (4293, 0.010794225075334264), (4294, 0.0), (4295, 0.0028774318044667664), (4296, 0.0022472756467895208), (4297, 0.0), (4298, 0.0031514168678392455), (4299, 0.0066821933122891905), (4300, 0.0), (4301, 0.0018947804216166212), (4302, 0.0), (4303, 0.006362018861254912), (4304, 0.002434177280480159), (4305, 0.0), (4306, 0.0030970289882459646), (4307, 0.004934012259947623), (4308, 0.0028206478929047717), (4309, 0.006887918684979065), (4310, 0.004402589741634677), (4311, 0.0020959459913934904), (4312, 0.004847833048978867), (4313, 0.0), (4314, 0.015503623873338566), (4315, 0.0), (4316, 0.0), (4317, 0.0), (4318, 0.0026224243969588286), (4319, 0.0), (4320, 0.002467050492833286), (4321, 0.016739474667761774), (4322, 0.0042267133409336745), (4323, 0.0), (4324, 0.0), (4325, 0.010601602424340616), (4326, 0.002521752132038171), (4327, 0.0), (4328, 0.004229295096207968), (4329, 0.0), (4330, 0.0027077032605094978), (4331, 0.005626601076823177), (4332, 0.0), (4333, 0.0028964315766595483), (4334, 0.0025544905226162953), (4335, 0.007842880773792358), (4336, 0.009023845532926116), (4337, 0.011699039259175054), (4338, 0.0), (4339, 0.004240868158537351), (4340, 0.002581322816615519), (4341, 0.0), (4342, 0.0059894226382645075), (4343, 0.0022217710917047705), (4344, 0.01148898271811187), (4345, 0.0024564927315881054), (4346, 0.0), (4347, 0.0), (4348, 0.0022906210438006164), (4349, 0.017893152298834997), (4350, 0.002284187849040974), (4351, 0.00705360282438041), (4352, 0.0), (4353, 0.0), (4354, 0.0026214761795812546), (4355, 0.002707753722234489), (4356, 0.0023870792001146955), (4357, 0.002647926971884357), (4358, 0.0), (4359, 0.0022891724243693638), (4360, 0.004461033513496743), (4361, 0.002642688865505858), (4362, 0.0374032736033525), (4363, 0.0027171927015176216), (4364, 0.0), (4365, 0.004083501957686875), (4366, 0.010258112052942418), (4367, 0.006764395586252766), (4368, 0.0028493456473634754), (4369, 0.0028642739174977155), (4370, 0.0), (4371, 0.009628466372831695), (4372, 0.0), (4373, 0.004895475974462224), (4374, 0.013082207328027869), (4375, 0.059291333568622616), (4376, 0.004687923528590883), (4377, 0.004721340745950988), (4378, 0.07968356427551673), (4379, 0.0146743277254009), (4380, 0.018731061141286108), (4381, 0.002407437109080841), (4382, 0.019549696077587164), (4383, 0.004584503895487702), (4384, 0.004967173521379665), (4385, 0.005565160648279475), (4386, 0.002272474873526388), (4387, 0.01354634909967891), (4388, 0.006424586701519825), (4389, 0.059722389841642236), (4390, 0.00732640347733254), (4391, 0.002539665425907619), (4392, 0.004731968656432613), (4393, 0.0), (4394, 0.0024381625987156667), (4395, 0.022048412273514555), (4396, 0.002729800399791626), (4397, 0.002847396895733995), (4398, 0.057663653083767405), (4399, 0.016872261924688138), (4400, 0.003184254276557177), (4401, 0.002708236637950436), (4402, 0.03019088445882897), (4403, 0.017039516925211606), (4404, 0.0), (4405, 0.0), (4406, 0.0), (4407, 0.0032495991484845447), (4408, 0.0), (4409, 0.002443143568403629), (4410, 0.0), (4411, 0.002177541590781117), (4412, 0.008197669820510825), (4413, 0.0), (4414, 0.0), (4415, 0.0), (4416, 0.0029798373417764964), (4417, 0.0), (4418, 0.003192025235621408), (4419, 0.002698945634050239), (4420, 0.0026127202457654555), (4421, 0.0), (4422, 0.0025920544903193397), (4423, 0.0034219152016516027), (4424, 0.0), (4425, 0.0), (4426, 0.004060110369151491), (4427, 0.002589304679798322), (4428, 0.0024713455082142417), (4429, 0.0022144797704825867), (4430, 0.007298051307766885), (4431, 0.007572317926702866), (4432, 0.006035015143439465), (4433, 0.0), (4434, 0.0), (4435, 0.009942659595784607), (4436, 0.01920993686125186), (4437, 0.0), (4438, 0.004390609957087922), (4439, 0.0), (4440, 0.01662443422046722), (4441, 0.00418146324427371), (4442, 0.009198742014582924), (4443, 0.03702376277279613), (4444, 0.009461625699004097), (4445, 0.0018850852622917602), (4446, 0.002587809020387235), (4447, 0.0), (4448, 0.002713340269008052), (4449, 0.0), (4450, 0.026978548377076025), (4451, 0.0), (4452, 0.03711000116353372), (4453, 0.0), (4454, 0.0), (4455, 0.0), (4456, 0.046448312101672364), (4457, 0.0), (4458, 0.003166468609339521), (4459, 0.006017015204352962), (4460, 0.0), (4461, 0.0025488639261014986), (4462, 0.005006321665592726), (4463, 0.0), (4464, 0.005976284336294137), (4465, 0.010600631141743224), (4466, 0.02015225625928699), (4467, 0.00655365820009566), (4468, 0.004022377775130293), (4469, 0.011892125732488344), (4470, 0.0074223909523108735), (4471, 0.0027520803071014862), (4472, 0.0023854835979242096), (4473, 0.0023222383083036638), (4474, 0.014533146665878795), (4475, 0.013233510317942444), (4476, 0.0022190231828670528), (4477, 0.01139794461970155), (4478, 0.0), (4479, 0.002343210231777882), (4480, 0.0), (4481, 0.011073172311130475), (4482, 0.01489678440040443), (4483, 0.0), (4484, 0.0032251332831080876), (4485, 0.0), (4486, 0.013741134845685706), (4487, 0.0024679829554560026), (4488, 0.04032411231865102), (4489, 0.002682551172236265), (4490, 0.00881736480606747), (4491, 0.0), (4492, 0.019120662756654905), (4493, 0.0), (4494, 0.007921540554335579), (4495, 0.0026667213951672777), (4496, 0.0), (4497, 0.0026740595688470635), (4498, 0.0), (4499, 0.0), (4500, 0.0), (4501, 0.0026040444013633907), (4502, 0.008834236442229053), (4503, 0.013877714386996162), (4504, 0.017511927054613435), (4505, 0.0026426173790623964), (4506, 0.0), (4507, 0.0028190805819887674), (4508, 0.0), (4509, 0.0), (4510, 0.012149480950615802), (4511, 0.008645554907770798), (4512, 0.012740170497934206), (4513, 0.003887402563063214), (4514, 0.005411390126903475), (4515, 0.004932032736709987), (4516, 0.002818339011755581), (4517, 0.00735057149013996), (4518, 0.0052192992924035555), (4519, 0.0), (4520, 0.0025732921436821886), (4521, 0.003130919441712327), (4522, 0.008040680774938939), (4523, 0.006662162424245038), (4524, 0.013286815639541314), (4525, 0.0), (4526, 0.0), (4527, 0.005273415815308414), (4528, 0.0027322263640137297), (4529, 0.003332216856576501), (4530, 0.0024697413597727447), (4531, 0.015124244096842935), (4532, 0.0), (4533, 0.033888930420782934), (4534, 0.02157205386534905), (4535, 0.002826983286446314), (4536, 0.0023975466944080627), (4537, 0.006016635317844505), (4538, 0.0), (4539, 0.0), (4540, 0.002709268039756807), (4541, 0.0), (4542, 0.0), (4543, 0.011297766397923847), (4544, 0.0032124620443790253), (4545, 0.0027122106110259885), (4546, 0.00952532213783519), (4547, 0.0), (4548, 0.0286685145337138), (4549, 0.0), (4550, 0.002458120635761743), (4551, 0.010038263327324428), (4552, 0.004583098868241813), (4553, 0.010745129844258256), (4554, 0.023976399447767346), (4555, 0.0037893476916677883), (4556, 0.0), (4557, 0.007311858716967004), (4558, 0.0), (4559, 0.0), (4560, 0.0), (4561, 0.0), (4562, 0.0), (4563, 0.0025263864646684095), (4564, 0.006227398195654015), (4565, 0.0), (4566, 0.00259242496037408), (4567, 0.002477785615667391), (4568, 0.0), (4569, 0.0), (4570, 0.0), (4571, 0.004000927874921274), (4572, 0.0031002005649095016), (4573, 0.0025320207293149993), (4574, 0.002618557360973454), (4575, 0.0028467251922797564), (4576, 0.01288998935412524), (4577, 0.0), (4578, 0.0), (4579, 0.007627978752648869), (4580, 0.0), (4581, 0.006997430645571752), (4582, 0.00430454251225046), (4583, 0.015423309706569079), (4584, 0.0030300008944546446), (4585, 0.004259437849761366), (4586, 0.004819781716902698), (4587, 0.004289899354387998), (4588, 0.04027155873934509), (4589, 0.002955189161572657), (4590, 0.029792426598583478), (4591, 0.006653824591235893), (4592, 0.0), (4593, 0.00793527986440913), (4594, 0.033626873570452964), (4595, 0.0049514376469844325), (4596, 0.011097903970503007), (4597, 0.0), (4598, 0.0020491185478241827), (4599, 0.0), (4600, 0.0), (4601, 0.007464533846867705), (4602, 0.032211061407842655), (4603, 0.008630616790474999), (4604, 0.002498236980139087), (4605, 0.009787154882622802), (4606, 0.0031894721930810547), (4607, 0.003722889550709403), (4608, 0.02356406385265603), (4609, 0.0), (4610, 0.013353122610622522), (4611, 0.003228463175151022), (4612, 0.00903949713272166), (4613, 0.0), (4614, 0.09576477743175288), (4615, 0.0), (4616, 0.0023399032328203038), (4617, 0.012923000044154073), (4618, 0.0), (4619, 0.01131358074022817), (4620, 0.0022812047987471403), (4621, 0.004910794204632051), (4622, 0.0), (4623, 0.011214804655720324), (4624, 0.007782890938489578), (4625, 0.002727146359638582), (4626, 0.002084281645141073), (4627, 0.016112932307662947), (4628, 0.0), (4629, 0.0073132468359156134), (4630, 0.004848896781163565), (4631, 0.0), (4632, 0.0029456485433580547), (4633, 0.0029177309099099624), (4634, 0.002329395149702331), (4635, 0.0), (4636, 0.002160393380751018), (4637, 0.01731028035528056), (4638, 0.002316173937702102), (4639, 0.00479228309906411), (4640, 0.0024869183955750526), (4641, 0.002409642671034728), (4642, 0.005331665671665616), (4643, 0.002591525682723933), (4644, 0.0), (4645, 0.0), (4646, 0.006165073041218397), (4647, 0.0), (4648, 0.0), (4649, 0.008328199172273516), (4650, 0.002813749972091532), (4651, 0.0), (4652, 0.007278632644791573), (4653, 0.005381057362133114), (4654, 0.0), (4655, 0.0), (4656, 0.007527815786470668), (4657, 0.0027185566136094974), (4658, 0.01946217497444358), (4659, 0.0), (4660, 0.008872693276401417), (4661, 0.0062222841007500435), (4662, 0.0), (4663, 0.007008073821775855), (4664, 0.004152757508992938), (4665, 0.00447100460936882), (4666, 0.006123846524919385), (4667, 0.0), (4668, 0.030165143538096996), (4669, 0.01514179747286475), (4670, 0.0069449939595806155), (4671, 0.0), (4672, 0.0), (4673, 0.013576235167775235), (4674, 0.0056452707433079915), (4675, 0.0), (4676, 0.0), (4677, 0.00723896034165368), (4678, 0.0046101347769744875), (4679, 0.01938013136774827), (4680, 0.0027633813220946765), (4681, 0.0), (4682, 0.049111108755663366), (4683, 0.0), (4684, 0.027282788869543904), (4685, 0.009315803057159639), (4686, 0.002549714313712752), (4687, 0.002482096499178695), (4688, 0.0), (4689, 0.0452621931103438), (4690, 0.0), (4691, 0.006261136883937807), (4692, 0.0029805818061295363), (4693, 0.0025386790475359854), (4694, 0.0029834398212903925), (4695, 0.01142173093061551), (4696, 0.0032731601247532904), (4697, 0.004241241737735881), (4698, 0.0055934004040777), (4699, 0.007947693646618273), (4700, 0.0), (4701, 0.02650746113877698), (4702, 0.0), (4703, 0.03270375930718777), (4704, 0.00328013017862229), (4705, 0.0036383995382222303), (4706, 0.0027808377547779805), (4707, 0.00813732980721796), (4708, 0.004513422859594452), (4709, 0.015371007138108368), (4710, 0.008879492571549533), (4711, 0.0), (4712, 0.0022973177828806667), (4713, 0.0028906054179546605), (4714, 0.0), (4715, 0.007315497643184619), (4716, 0.0), (4717, 0.0030128005877540177), (4718, 0.0027803667252343255), (4719, 0.0048733373687917855), (4720, 0.0), (4721, 0.03825506320004314), (4722, 0.017894915569278583), (4723, 0.003072127143776536), (4724, 0.017251476310079842), (4725, 0.0), (4726, 0.005770713096665288), (4727, 0.0334577619515975), (4728, 0.0), (4729, 0.0024272861590506874), (4730, 0.0), (4731, 0.0260830367673243), (4732, 0.0026819513642506168), (4733, 0.0060934805976975625), (4734, 0.0027237308065110933), (4735, 0.01649607951399043), (4736, 0.0), (4737, 0.0), (4738, 0.006344234557777786), (4739, 0.03278286290046544), (4740, 0.0), (4741, 0.0), (4742, 0.0), (4743, 0.002423038094512748), (4744, 0.002075139809451613), (4745, 0.0), (4746, 0.005259927516987637), (4747, 0.01319181441012609), (4748, 0.007822259805881075), (4749, 0.0033212821977332127), (4750, 0.0), (4751, 0.0), (4752, 0.0017655759132846798), (4753, 0.0029673329930565116), (4754, 0.0), (4755, 0.0), (4756, 0.0025865192799787067), (4757, 0.00759976307329044), (4758, 0.0), (4759, 0.0)]\n"
          ]
        }
      ]
    },
    {
      "cell_type": "code",
      "source": [
        "len(Recommendation_score)"
      ],
      "metadata": {
        "colab": {
          "base_uri": "https://localhost:8080/"
        },
        "id": "rdtBrxveKEX0",
        "outputId": "9ad341b3-ab2b-49ce-d9f4-6c65e4d630e4"
      },
      "execution_count": 36,
      "outputs": [
        {
          "output_type": "execute_result",
          "data": {
            "text/plain": [
              "4760"
            ]
          },
          "metadata": {},
          "execution_count": 36
        }
      ]
    },
    {
      "cell_type": "code",
      "source": [
        "Sorted_Similar_Movies=sorted(Recommendation_score,key=lambda x:x[1],reverse=True)\n",
        "print(Sorted_Similar_Movies)"
      ],
      "metadata": {
        "colab": {
          "base_uri": "https://localhost:8080/"
        },
        "id": "fdoBYOJQKSHX",
        "outputId": "b91c4be0-4b6b-4ece-ed19-a68223e16a47"
      },
      "execution_count": 37,
      "outputs": [
        {
          "output_type": "stream",
          "name": "stdout",
          "text": [
            "[(2692, 1.0), (3779, 0.1004189043672533), (2903, 0.09891288955160887), (4614, 0.09576477743175288), (45, 0.0894333484344668), (1070, 0.08787372554949129), (1383, 0.08491514985743707), (110, 0.08277552055286828), (1994, 0.08236531892956404), (628, 0.08023464923548537), (4378, 0.07968356427551673), (2558, 0.07931432904760063), (3053, 0.0785863823174711), (1341, 0.07840715943762944), (1977, 0.07380796841677682), (1982, 0.07296326103267076), (3248, 0.0725705975464518), (3480, 0.07174701175717337), (2538, 0.06930078133828171), (62, 0.06758881039794745), (1886, 0.06654789532636615), (3946, 0.06652855357287224), (254, 0.06413001851575605), (590, 0.06342678736919788), (675, 0.0627740228967499), (2112, 0.06173427838941106), (3385, 0.06131891295630673), (1118, 0.0608773794722163), (2318, 0.06085493979599863), (3450, 0.06079797210285015), (84, 0.060417957275282284), (1134, 0.05998491310645999), (4389, 0.059722389841642236), (4375, 0.059291333568622616), (1021, 0.05922789190644089), (4062, 0.05768015368897283), (4398, 0.057663653083767405), (2358, 0.057527251071370716), (1243, 0.05681665865101783), (3728, 0.056404902514065346), (3334, 0.05617404996238095), (1809, 0.0531802027957356), (137, 0.052843166734000406), (292, 0.052775333665030275), (2944, 0.052426107334838844), (3655, 0.05203976145802257), (3360, 0.05200208887346555), (2026, 0.051994785038800354), (227, 0.05155948305711804), (877, 0.051261183454739755), (873, 0.05106370652384551), (1148, 0.05100680740316369), (2133, 0.05079738094192621), (479, 0.05066206685260863), (2191, 0.050507005982343166), (1030, 0.04994603264716896), (519, 0.04970489046047756), (4268, 0.04921990423686463), (213, 0.04915848327772146), (4682, 0.049111108755663366), (2214, 0.0489598151155597), (2630, 0.048920749406561236), (2294, 0.048791151118870835), (3203, 0.04850087857465479), (2417, 0.048304006468957925), (3395, 0.04792314623734547), (2579, 0.04792194347198584), (1878, 0.04743121851555925), (2550, 0.0472128569129471), (3753, 0.04689499578354946), (2374, 0.046576131135465576), (4456, 0.046448312101672364), (3294, 0.04630257375278785), (2653, 0.04620706324311604), (904, 0.04612818794004458), (3552, 0.04604561756567805), (4689, 0.0452621931103438), (2248, 0.04521392531497389), (1023, 0.04509262705503412), (412, 0.04466712459473409), (3091, 0.044500503756739036), (438, 0.044479271423757044), (328, 0.0442329863461182), (2893, 0.04421402756232944), (637, 0.0440978538995266), (3023, 0.04403627944518356), (67, 0.04391220548585186), (3518, 0.043878326880784906), (2694, 0.04382164501808528), (3408, 0.04381665928408011), (1393, 0.04377204406829433), (3793, 0.043743583775322725), (2530, 0.04362988055522482), (1292, 0.04337067146353868), (360, 0.04325687346658426), (1850, 0.04320958935028725), (615, 0.043168400844538164), (161, 0.04300182351480505), (682, 0.04298502447305148), (1821, 0.04298267315758403), (408, 0.042910862539640895), (1248, 0.04281278990040787), (1358, 0.04271250977183866), (4023, 0.04271202599488768), (3276, 0.042579813281461376), (1647, 0.04248018567092994), (1369, 0.04246558360291883), (1675, 0.042410256265901336), (3947, 0.04239179361911852), (3973, 0.04171801464878734), (3249, 0.04161107775077587), (1506, 0.04160152304578062), (2012, 0.04156114958620627), (3427, 0.04142748846004893), (210, 0.041210207819818566), (1871, 0.04111632601204665), (89, 0.04102333102784439), (172, 0.04091049405476816), (4064, 0.04075332637715712), (185, 0.040716981466383174), (2321, 0.04071687472621634), (1320, 0.0406224850785363), (3209, 0.040586885864976795), (632, 0.04050494506718688), (2846, 0.04050189206954291), (4488, 0.04032411231865102), (4588, 0.04027155873934509), (3652, 0.04014186185174227), (44, 0.040091588900028126), (1527, 0.03975668326707688), (2155, 0.03971230201066897), (2869, 0.03962526119083493), (3955, 0.03919103432031253), (1024, 0.03877726552023314), (4137, 0.038682992976225024), (3867, 0.03866797061318592), (788, 0.03866009418099919), (3362, 0.03849660243019226), (126, 0.03832811486483792), (4721, 0.03825506320004314), (2859, 0.03813846496048515), (2187, 0.03812007606001266), (108, 0.03779805315888909), (1241, 0.03779376406606479), (774, 0.03741030597224273), (3486, 0.03740664068683328), (4362, 0.0374032736033525), (2540, 0.037368553543220155), (1676, 0.03736575030634083), (3511, 0.03729520787569445), (2622, 0.03725774138679285), (1085, 0.037118184817255886), (4452, 0.03711000116353372), (4443, 0.03702376277279613), (2308, 0.036993470962715734), (2716, 0.03692704410852274), (2212, 0.03665017360106909), (3498, 0.03643713454977883), (2371, 0.0362887782630649), (2868, 0.036260784991717476), (1311, 0.0359181475611303), (540, 0.03591526860547968), (3280, 0.03589999300733301), (2316, 0.03583278521610861), (4005, 0.0357710608985545), (2375, 0.03572751990711922), (911, 0.03571995009314801), (710, 0.035619938592377345), (694, 0.03560868049992388), (1389, 0.03547754768086437), (1146, 0.0353176594463662), (1568, 0.03529362549434248), (4165, 0.035178951358593676), (2082, 0.035173718434275573), (1991, 0.03513232959466426), (3430, 0.03506815341440636), (2365, 0.03504624908772676), (578, 0.03503023699270231), (3127, 0.035023722863292125), (3045, 0.034957685424309604), (2981, 0.03485991794165003), (3470, 0.0348187752482587), (3463, 0.03475172118012758), (1379, 0.034751178462085794), (3983, 0.034687959572388315), (1063, 0.03463861861477573), (138, 0.034600070309277246), (830, 0.034572799758238563), (3004, 0.03454353503705758), (3315, 0.03429148514819828), (3731, 0.03421676672589122), (1272, 0.03420992494075838), (818, 0.03418838899640982), (721, 0.033975147279024814), (3351, 0.03389828121300946), (4533, 0.033888930420782934), (174, 0.03387122007435982), (3255, 0.03382152266727488), (2123, 0.03376595758737519), (1702, 0.033744042277050315), (3102, 0.03367797294260362), (4594, 0.033626873570452964), (4727, 0.0334577619515975), (4152, 0.03334177297492511), (282, 0.03321227496761213), (3556, 0.0331519099584447), (1195, 0.03313325941270816), (1837, 0.03302997905738842), (2706, 0.03288079468358266), (935, 0.0328746428046643), (4739, 0.03278286290046544), (1367, 0.03278267949215216), (2147, 0.03277183856011216), (4703, 0.03270375930718777), (2122, 0.03267103293550485), (1885, 0.03255960311475041), (2723, 0.03252845063026029), (4195, 0.032505800299370335), (424, 0.03244599500011237), (3961, 0.03232549382453168), (166, 0.03225629608855914), (3656, 0.0322115306994248), (4602, 0.032211061407842655), (1464, 0.0321009960230716), (3850, 0.032049382782716816), (2413, 0.03203216816939647), (250, 0.03201840232409845), (761, 0.03199927475786667), (2751, 0.03186323787529347), (2807, 0.03173636996825454), (3377, 0.03163332300948634), (334, 0.03161758221165767), (4035, 0.03145996251064064), (812, 0.031444758065796455), (3146, 0.031420766472313184), (2517, 0.031379602158481124), (387, 0.03132915133207459), (3313, 0.031327631124572715), (1398, 0.031310881453229106), (618, 0.031224996562528237), (2100, 0.031215924305604822), (1868, 0.031201324954451562), (1976, 0.03115185847276146), (864, 0.0311078315278092), (3376, 0.03090714750629374), (1068, 0.030872072140590855), (903, 0.030851447467931236), (3720, 0.03073939954299408), (109, 0.030729280184882565), (2621, 0.030693285684413974), (2782, 0.030608426844402688), (3157, 0.030580155809667747), (65, 0.030564157244762743), (1750, 0.03048947388306349), (1795, 0.030466240675850825), (2198, 0.0302591164940334), (4402, 0.03019088445882897), (2710, 0.030169946409065826), (4668, 0.030165143538096996), (1405, 0.030054141184120267), (179, 0.030004827954331032), (2443, 0.03000222887657618), (2023, 0.029966456358390445), (1482, 0.029879348497847333), (1648, 0.029864613938053702), (1173, 0.02981484784584914), (4590, 0.029792426598583478), (3137, 0.029783161128459336), (2014, 0.02974042211627168), (430, 0.02972169676730771), (3488, 0.029711844237535808), (4004, 0.029699039913165023), (4177, 0.029586752145092154), (1363, 0.029569994190920008), (3572, 0.029527625434161583), (593, 0.029466514037571844), (4252, 0.029445254676971736), (176, 0.02937909384831056), (421, 0.029340718536074718), (629, 0.029326291947302657), (2114, 0.029251934922269636), (3017, 0.029161888705026583), (3597, 0.029132335457960956), (112, 0.02907223942193072), (1046, 0.029013790404374594), (2887, 0.028991748925115923), (2971, 0.028951962394088947), (1095, 0.0289166333528517), (1137, 0.028907260657866436), (530, 0.028826964033720422), (1043, 0.028817197322040675), (3156, 0.028753518419766554), (3420, 0.028731226390514383), (4548, 0.0286685145337138), (3751, 0.028647950768483768), (284, 0.028636306576785897), (240, 0.028499185899430027), (1788, 0.028488137216498836), (2102, 0.028480303571778293), (1990, 0.028473539385406022), (465, 0.02845439693276298), (2876, 0.02843940320654868), (2481, 0.02842957782430929), (2791, 0.02839957557586463), (3904, 0.02835520760576539), (2908, 0.028351801392454454), (3574, 0.028252492563340937), (2487, 0.028222338247372802), (2687, 0.02819080894415279), (2037, 0.028137214331044616), (2013, 0.027959275933571302), (976, 0.027828010702185237), (2221, 0.02782309137722574), (193, 0.027800556332136673), (952, 0.027785401551169382), (1059, 0.027767744111551286), (836, 0.027636698723623062), (1749, 0.02762621413382487), (384, 0.027587830292467218), (3260, 0.027578487432825736), (2920, 0.02748806577227754), (3871, 0.02748609983657474), (3852, 0.027362263569449635), (25, 0.02731659916468413), (4684, 0.027282788869543904), (371, 0.027106368856177974), (1970, 0.02702501779205404), (4450, 0.026978548377076025), (2467, 0.026958869623581124), (1162, 0.026942563311426585), (459, 0.026921342341023387), (1999, 0.026856041949025456), (2020, 0.026827914437007837), (3344, 0.026660975831696215), (670, 0.026660403949339384), (1845, 0.026638222415192245), (4141, 0.026611462181100193), (4242, 0.02651249515186756), (4701, 0.02650746113877698), (1720, 0.02650363790714341), (1500, 0.026479550498934502), (2762, 0.026434022643288015), (3428, 0.026336988684576925), (3167, 0.02622427512172517), (4731, 0.0260830367673243), (2154, 0.025928640115921445), (3559, 0.025905255912031237), (4104, 0.025903200045864935), (1847, 0.02570179383705807), (3285, 0.025663020021232812), (885, 0.025651599276238325), (3447, 0.025572343323225343), (1763, 0.025546410849723443), (381, 0.025523829547181232), (4283, 0.025498197730957826), (3154, 0.025496743327332573), (3684, 0.025489026435211178), (3835, 0.025487641217613773), (3868, 0.02547218493076191), (824, 0.025383862054803433), (3010, 0.025366792118734254), (832, 0.025328292006128864), (1314, 0.025273830824501374), (4128, 0.025256602461245434), (1186, 0.024926937345975966), (3466, 0.02490035246755913), (4053, 0.024813047638873847), (2011, 0.024723081518256224), (2718, 0.024683205711498138), (1351, 0.024666895140275667), (124, 0.024612481641688916), (967, 0.024495773891943493), (3801, 0.024413915693881075), (917, 0.0243838268935285), (1544, 0.02431988133966221), (2449, 0.02429592751914058), (3692, 0.024279171430735713), (116, 0.024253383916713812), (3711, 0.02420196968680796), (269, 0.02419831674139249), (942, 0.024154373188531593), (398, 0.02409926990869377), (2157, 0.024032585626130958), (1283, 0.02399881652917551), (4554, 0.023976399447767346), (3913, 0.02394404951315303), (2484, 0.023829744355940506), (345, 0.02378054180980122), (2689, 0.02366980851901353), (1397, 0.023624986444321615), (3810, 0.02361397589106186), (4608, 0.02356406385265603), (672, 0.02348439549664771), (2638, 0.023480103922779272), (1757, 0.023415529595977726), (2560, 0.023356320095134372), (1585, 0.023281151848655687), (3153, 0.023267995349843393), (2649, 0.023128290776985857), (175, 0.023056305142418666), (706, 0.022980864175220297), (4281, 0.02291166129443472), (1412, 0.022907233835541437), (3446, 0.02284334622237851), (515, 0.022821695074041908), (1865, 0.022805767782277383), (1997, 0.022802701679034827), (1362, 0.022744944116333897), (1935, 0.02257492399449046), (3083, 0.022544482234742085), (1141, 0.02242451201197409), (68, 0.022391835284926092), (88, 0.022388764603869266), (2647, 0.022353001736469893), (1505, 0.022312369183991605), (3839, 0.022253890611369728), (4050, 0.022237089515894454), (691, 0.022205809661197923), (261, 0.02212356616554494), (2040, 0.02208317360156796), (2096, 0.022065162247636896), (15, 0.022048460811046076), (4395, 0.022048412273514555), (1003, 0.022022769963476324), (383, 0.022015920185945666), (3345, 0.021915803625770062), (1515, 0.021832183997133624), (3923, 0.021818110104990737), (613, 0.021773823870669423), (3095, 0.021767468624689642), (3319, 0.021752600360333104), (4534, 0.02157205386534905), (2646, 0.021567133698835474), (3433, 0.021550126453495813), (1492, 0.021476095045147962), (1015, 0.02143333553013641), (1652, 0.021354105761407022), (442, 0.021349475913136927), (3778, 0.021210900730943172), (3483, 0.02110972469268387), (3978, 0.02110868015406798), (1861, 0.02108227469807379), (2767, 0.021049123458752143), (1942, 0.02101528322770845), (2668, 0.020979583388588515), (2440, 0.020960660549909943), (1996, 0.02093039210564325), (1270, 0.020923889394795673), (1671, 0.020888334399889154), (4176, 0.020886862769339914), (1985, 0.020876193800126397), (3471, 0.020868072137770532), (3222, 0.02086374689727494), (4016, 0.02085355288886132), (455, 0.020842971538654675), (1817, 0.020841268128456655), (2598, 0.02081498704020872), (3553, 0.020735852656591246), (3927, 0.02066256083412266), (3492, 0.02057279459958986), (2210, 0.02055489907061698), (1017, 0.020494946804567902), (2841, 0.020489782624711524), (1033, 0.02044406823323115), (1471, 0.020427849703090584), (1629, 0.020426488296884347), (2362, 0.02039149888501519), (3384, 0.02038999506971359), (2760, 0.020368847690290057), (763, 0.020364228521900538), (2808, 0.020223301583729425), (1678, 0.02021152935839816), (3665, 0.02020672439842171), (2055, 0.02020348418771134), (2301, 0.020166001502517107), (3469, 0.020153206951368473), (4466, 0.02015225625928699), (2018, 0.020066208283497543), (779, 0.019970577361004667), (870, 0.019943980397245417), (330, 0.01992721733605442), (4189, 0.019918370056075628), (2174, 0.019910252579318322), (1261, 0.019842013053659326), (2582, 0.01981081145373607), (3508, 0.019776403508108414), (1838, 0.019745917892875307), (947, 0.019739837854487033), (1132, 0.019724227398980713), (2867, 0.019724174238394638), (1927, 0.019723198314732827), (858, 0.019721175035781816), (1257, 0.01971472123199832), (3352, 0.019654312072857442), (3959, 0.019609205277768743), (2524, 0.019575024586540736), (4382, 0.019549696077587164), (2768, 0.01952997303854368), (3504, 0.01948509986446477), (1385, 0.019466518826036363), (643, 0.019464577979471317), (4658, 0.01946217497444358), (4679, 0.01938013136774827), (1510, 0.019370315798860133), (3144, 0.019268595957204496), (2995, 0.019235252679316722), (4436, 0.01920993686125186), (3857, 0.0192041394617584), (3934, 0.01918713335809672), (1052, 0.019184706339674014), (2932, 0.019166712769034155), (2618, 0.019165724252153623), (4492, 0.019120662756654905), (566, 0.019091769024995958), (2469, 0.019081370124374965), (204, 0.01893359608047298), (2607, 0.018929409920304334), (1707, 0.018913580284437275), (1721, 0.01888793405371441), (329, 0.018827031392534076), (1872, 0.018735433561569724), (4380, 0.018731061141286108), (4156, 0.018724633270378533), (4088, 0.0186692779919288), (1202, 0.01863727790275546), (2650, 0.01858457219239629), (199, 0.018572371312778956), (2368, 0.018567588120697878), (553, 0.018547690175395152), (463, 0.018541756836973698), (33, 0.018491753062069377), (46, 0.018456837231475638), (3853, 0.018419142360181214), (2645, 0.018416637140125574), (669, 0.018382279871906597), (3284, 0.018372629413262013), (4149, 0.01836843699783174), (145, 0.018348208761238022), (3403, 0.018336855551139772), (83, 0.018292054401778238), (3111, 0.01828006405038354), (4028, 0.01821513232257391), (657, 0.018211831006120123), (1386, 0.01815961245706075), (4203, 0.018147907149465247), (3036, 0.018117113099821437), (768, 0.018100475697552944), (3000, 0.018095052952174125), (2237, 0.018092638113223227), (4007, 0.018063263463979982), (160, 0.01804924780153312), (364, 0.01803714902331189), (968, 0.018023537578034918), (1384, 0.01800804572747054), (2745, 0.017980074027070064), (147, 0.017978572542317182), (2513, 0.017954771739401406), (1759, 0.01790263103609993), (4722, 0.017894915569278583), (4349, 0.017893152298834997), (4012, 0.017864236300757747), (1443, 0.01784658931215335), (2276, 0.017832823044041157), (4081, 0.017831072696438605), (2795, 0.017778837541321847), (1843, 0.017751088780747704), (2167, 0.017742861018785534), (757, 0.017733985108397052), (3875, 0.01772943602986879), (1074, 0.017689131325180223), (1175, 0.01768865291787822), (3416, 0.017679949888687266), (1365, 0.0176626915183616), (2823, 0.01765126560830412), (1112, 0.017611557484133636), (1226, 0.017610292702567636), (106, 0.017596945747077344), (808, 0.017577936853901407), (222, 0.017541373027989787), (3828, 0.017529124527311823), (123, 0.017520752942896223), (4504, 0.017511927054613435), (796, 0.01748565353450838), (3097, 0.017483827585344777), (2035, 0.017433338520421712), (3766, 0.01739968836487783), (1274, 0.01739414990423778), (1245, 0.017381787111684782), (4637, 0.01731028035528056), (2070, 0.017268028274342557), (61, 0.017267095698541176), (4724, 0.017251476310079842), (2885, 0.01723431477808862), (3976, 0.01718990954156005), (2553, 0.017138398861595544), (3275, 0.017111475060042052), (144, 0.01709560564243726), (3528, 0.017091238619140886), (3129, 0.01708438876026026), (3279, 0.01704956631545712), (409, 0.017044939673269817), (342, 0.017040508781736477), (4403, 0.017039516925211606), (4288, 0.01703508123830888), (203, 0.0169827266904853), (1129, 0.016962271940812818), (3085, 0.01692585909403319), (776, 0.016897689987854375), (3675, 0.01688061014455798), (4399, 0.016872261924688138), (3019, 0.016853930262077002), (1064, 0.016763451329366907), (1609, 0.016763236307368024), (1572, 0.016743077910180978), (4321, 0.016739474667761774), (1403, 0.016731584770746988), (2110, 0.016729908929230562), (4244, 0.016695589454608688), (1579, 0.01668702705806687), (2149, 0.016649755507225843), (4440, 0.01662443422046722), (2347, 0.016601892072343048), (1493, 0.016601461428644285), (3213, 0.01656046372619785), (2119, 0.016557181787847538), (1377, 0.016531033223450307), (916, 0.01650771386349597), (677, 0.016504368344638833), (4735, 0.01649607951399043), (173, 0.016494922093982758), (218, 0.016482759319217406), (2406, 0.01644465705704544), (209, 0.016433370939887827), (638, 0.016416893289085032), (2712, 0.016407414406430083), (3098, 0.01639644103244675), (2742, 0.01637735347511858), (2258, 0.01634729254866808), (2229, 0.016332461529556433), (3226, 0.016307697208589704), (937, 0.01628975129601639), (3462, 0.01626264340478009), (2654, 0.016256386526790182), (1216, 0.0161933842375999), (511, 0.016181169720828135), (433, 0.016128527532567542), (3883, 0.016118918187671874), (4627, 0.016112932307662947), (1254, 0.016072432886395403), (860, 0.016061815829463328), (3228, 0.016058933398104772), (2161, 0.016038989206415378), (280, 0.01599166827478355), (3012, 0.015961635094996738), (1417, 0.015959903279082654), (795, 0.01589633175441997), (1361, 0.015894281425605453), (2353, 0.01589369892876549), (458, 0.015874813261223617), (2917, 0.015869764987352805), (1045, 0.015851720304289524), (21, 0.015850080091854183), (929, 0.01583664433214313), (1184, 0.01583538655449071), (1445, 0.01582727872809558), (551, 0.01582440553444184), (3640, 0.015810482625040416), (2275, 0.015758355675369096), (853, 0.01574246868047874), (794, 0.015736012130693693), (1774, 0.015732198970319317), (1115, 0.01571105217139423), (876, 0.01570850672357599), (701, 0.01570512456996922), (4246, 0.01567579493618267), (533, 0.01564788739734601), (1275, 0.015637719894047664), (1512, 0.015611456519023695), (1325, 0.015573468969043509), (3895, 0.015523139375670701), (4314, 0.015503623873338566), (1018, 0.015487257033605234), (3541, 0.015463397933713739), (48, 0.015460830719988067), (586, 0.015448859804369807), (1716, 0.015446327533073668), (3043, 0.015439097313502041), (296, 0.01543215425062538), (1523, 0.01543113105439085), (85, 0.015426487459346832), (4583, 0.015423309706569079), (4116, 0.015397998517418913), (867, 0.015385143320413124), (4709, 0.015371007138108368), (3661, 0.015370949162388601), (4134, 0.015366762320992045), (1880, 0.015364476607557237), (2290, 0.015360377188342824), (1119, 0.015358994687324583), (287, 0.015357468867770816), (3375, 0.015339998011270454), (3694, 0.01531524491810815), (3407, 0.015265363037541294), (343, 0.015253508390333168), (692, 0.015243786433603551), (3299, 0.015236627325921057), (481, 0.015221026398788213), (3862, 0.015167801885212554), (3713, 0.015149652351999153), (4669, 0.01514179747286475), (40, 0.015133114712349837), (4531, 0.015124244096842935), (762, 0.015121605107075591), (208, 0.015111256805305555), (3958, 0.015079730098606203), (3306, 0.015079414846775038), (787, 0.015078128761111951), (1906, 0.0150627732520359), (437, 0.015057287026248279), (1224, 0.01505171631525606), (450, 0.015029925669593255), (896, 0.015029740331728726), (673, 0.015015783808193892), (2298, 0.015002778688456246), (3580, 0.014985411660481349), (2376, 0.014971799733329178), (358, 0.014964947652467721), (2639, 0.014947613149244079), (1897, 0.01493840825133367), (534, 0.014937861867137147), (2777, 0.014930306238971406), (888, 0.014926220453168439), (1687, 0.014917662101164969), (51, 0.014910154931794956), (1741, 0.014899349932550874), (4482, 0.01489678440040443), (374, 0.014882704644474914), (4231, 0.014873700371406654), (3699, 0.014869434440460547), (3437, 0.014833234681835727), (2522, 0.014823597144395302), (429, 0.014821052510383645), (3295, 0.014798923326566658), (4123, 0.014795190133703881), (3558, 0.01478956259319773), (3210, 0.014777339578987048), (1278, 0.014764921489052325), (2196, 0.014764147855945074), (2053, 0.014755505537412172), (584, 0.014748545409940037), (620, 0.014741730201058742), (3421, 0.014740622925645923), (3777, 0.014726184547116947), (2996, 0.014708579393553418), (3253, 0.01470435461825789), (2919, 0.014702448291706045), (3797, 0.014698895757308105), (2254, 0.014679429612266152), (4379, 0.0146743277254009), (3086, 0.014663757959999812), (3642, 0.014661468316051229), (2334, 0.014660931556220514), (1853, 0.014611965249164003), (2644, 0.014589695108427217), (986, 0.014573645101277368), (652, 0.014573557445713158), (2931, 0.014568695039023437), (543, 0.01455164433335116), (4474, 0.014533146665878795), (879, 0.01453204151394945), (1290, 0.014511558165073062), (2027, 0.014459298798744457), (2910, 0.01445921744841255), (622, 0.01445803323099361), (3374, 0.014401372757021417), (1682, 0.01438981281301741), (1895, 0.014378696344791907), (502, 0.014375426878112437), (874, 0.014337694006144874), (1335, 0.014337162678189398), (1983, 0.014327289004385454), (3670, 0.014310733495453584), (87, 0.014298636030493833), (4178, 0.01429697303891634), (447, 0.014290486823450374), (470, 0.01427827338679314), (1919, 0.014269654029936766), (510, 0.01422571160569555), (1509, 0.014211375981495581), (1152, 0.014188091852509932), (3807, 0.01418754433403293), (899, 0.014181384198671477), (1967, 0.01418044968837651), (1232, 0.014179641611168456), (43, 0.014156538283057137), (1740, 0.014153278659577292), (2988, 0.014148821178001056), (4000, 0.014148517371406058), (482, 0.01413453146316913), (895, 0.01412366622536615), (1114, 0.014107574161157727), (1413, 0.014092431007137755), (2939, 0.01407475153720835), (1331, 0.014052746949093982), (2295, 0.014039657510554589), (252, 0.014034793967868985), (2695, 0.01402861644700552), (251, 0.014020160787473514), (2961, 0.014001572353548049), (957, 0.013988315936489096), (370, 0.01397545801170606), (1252, 0.013955013212686593), (2784, 0.013949294739144033), (181, 0.013940145180356805), (3356, 0.013925584448670456), (1876, 0.01390606502092267), (4503, 0.013877714386996162), (1779, 0.013877661200740094), (2815, 0.013855224935426812), (1035, 0.013852208230398046), (4068, 0.013847508495003453), (1058, 0.013846088112583161), (1116, 0.013820889827975181), (2024, 0.013808203367748198), (2366, 0.013800068255044193), (1337, 0.01377143614903701), (3535, 0.013746613009594403), (3741, 0.013745194022805246), (4486, 0.013741134845685706), (934, 0.013725792608770439), (406, 0.013702768817195985), (988, 0.013701689719652367), (1461, 0.013698950245196918), (1483, 0.013693880002855232), (799, 0.013689346656944011), (1192, 0.013681041313308015), (842, 0.013667300080387232), (317, 0.013650074733745797), (775, 0.013631331249548018), (3861, 0.013621436748170443), (760, 0.013605903129662101), (2632, 0.01360068351263444), (1621, 0.01359327252453507), (2727, 0.01359317033322395), (142, 0.013589946323626943), (4673, 0.013576235167775235), (3708, 0.013575980350369141), (989, 0.013574995669251747), (2216, 0.013559388995104843), (1343, 0.013556694617246942), (13, 0.013553123548772212), (4387, 0.01354634909967891), (2468, 0.013543921046530245), (1401, 0.013534877319540652), (1945, 0.013523051367452844), (7, 0.013472957302182793), (547, 0.013449734467616487), (4124, 0.013442218000637704), (3328, 0.013439807485552534), (4255, 0.013415655510484435), (75, 0.013413711565518321), (545, 0.013400725410393128), (1796, 0.013395766062108379), (676, 0.013395150890194836), (1481, 0.013384267729020793), (1478, 0.013371998828029062), (276, 0.013370638058274686), (2045, 0.013368219809771138), (3819, 0.013362239844852382), (4610, 0.013353122610622522), (1317, 0.013351787956274622), (1667, 0.013328164988545124), (878, 0.01331277053232241), (1465, 0.013305524973519282), (52, 0.013291169109668814), (2805, 0.013288761458092272), (4524, 0.013286815639541314), (2008, 0.013268887209018402), (496, 0.01325715947884128), (3630, 0.013252676791000279), (866, 0.013247254890140121), (3660, 0.013245576626910496), (1128, 0.013235723294655841), (4475, 0.013233510317942444), (2460, 0.013229309401286636), (332, 0.013201181853958108), (4747, 0.01319181441012609), (3750, 0.013180167790190662), (1183, 0.013179994108933547), (1360, 0.013164085758439095), (753, 0.013138301779303344), (3370, 0.013135703533403854), (231, 0.013134253397849637), (18, 0.013130844540995976), (1802, 0.013125812420455964), (125, 0.013110666277742697), (1665, 0.013109869329788689), (236, 0.013101350712836145), (3312, 0.013087314792934863), (1815, 0.01308717720247338), (4374, 0.013082207328027869), (1680, 0.013071659818679273), (4121, 0.013037861834111897), (814, 0.013036856170434397), (2121, 0.01300352393892307), (2177, 0.013002059501412954), (689, 0.012992941692449966), (2224, 0.012980862659370849), (1591, 0.0129782696712025), (829, 0.01294548984621857), (3854, 0.01293709997609402), (2969, 0.012935257440110589), (1107, 0.012933594222337697), (4617, 0.012923000044154073), (1986, 0.012920973132828356), (1713, 0.012912076247318615), (207, 0.012910645803324034), (905, 0.01290439009298779), (3119, 0.012899244936630841), (4576, 0.01288998935412524), (356, 0.012877484929448292), (2486, 0.012841541024391645), (1864, 0.01283682104286829), (1000, 0.01279951309460646), (1519, 0.012771884726440027), (1739, 0.012766741768988874), (1595, 0.012765503084420102), (1239, 0.012760437766368028), (1255, 0.012758660845054923), (833, 0.012750453615310858), (4512, 0.012740170497934206), (1342, 0.012727256084547339), (2066, 0.012717324693802148), (900, 0.012713428670828905), (604, 0.012692988534175208), (1220, 0.012683769457105282), (906, 0.012674482060902301), (2383, 0.01264901500492812), (3318, 0.012621247803171434), (2771, 0.012537922730171373), (742, 0.01252081905046631), (1005, 0.0125196762698737), (2000, 0.012518171127970337), (3110, 0.012498938689400697), (678, 0.01249557046279845), (1681, 0.012488959825086968), (527, 0.012483704468160266), (1752, 0.012472470707352992), (2803, 0.012472393587280958), (1376, 0.012462521278460249), (963, 0.012458067241012269), (1293, 0.012425030702296813), (1237, 0.012417706091636033), (2978, 0.01240748285224831), (149, 0.012392149443463497), (609, 0.012389458139453238), (2602, 0.012362212791017919), (3637, 0.012356362695575324), (667, 0.012303510858314924), (407, 0.012278224756626639), (4227, 0.012274128698807372), (2780, 0.012263399970825116), (2052, 0.012259669000912316), (537, 0.012250255390004407), (653, 0.012246816885193195), (1432, 0.012241785453970732), (3768, 0.012235158899005397), (1567, 0.012232711851079527), (3659, 0.012228265384400444), (2235, 0.012223351340823193), (2963, 0.012221802360131047), (875, 0.012213752997734218), (2568, 0.012197381021958628), (1654, 0.012196522768255402), (936, 0.012162987766684046), (1988, 0.012161650848918286), (4510, 0.012149480950615802), (1934, 0.012143494751602837), (1799, 0.012143201040140415), (70, 0.012129337820517288), (1104, 0.012127129601924195), (4265, 0.012120733349843925), (635, 0.012115135573492124), (3076, 0.01211049090558483), (190, 0.012109683533857576), (2874, 0.012100957091210026), (1009, 0.012065715963396346), (2412, 0.012046293772556099), (733, 0.012041541575916687), (664, 0.012040694569411384), (418, 0.0120292354745721), (1832, 0.01202856020498405), (3849, 0.01198945508298905), (2447, 0.011988933644563481), (1787, 0.011983063864034733), (4095, 0.011957006395274436), (2913, 0.011951850691844708), (654, 0.011950522319139043), (201, 0.011950010462628818), (1812, 0.011935292281505788), (2759, 0.011929501251675786), (3507, 0.011904984833508114), (341, 0.011902654046867031), (3108, 0.011901629496401531), (4469, 0.011892125732488344), (918, 0.011882081414854001), (2474, 0.011877197169726104), (1949, 0.011867931568284192), (1310, 0.011866112415810022), (928, 0.011860805012584477), (648, 0.011854809737522266), (3325, 0.011853834609963256), (800, 0.011836294547910903), (1099, 0.011833121171337438), (2005, 0.011828559522751065), (732, 0.011822903645656732), (1185, 0.011818583188194311), (3387, 0.011818560572585433), (2617, 0.011813568398776987), (3065, 0.011806629588723274), (931, 0.01178569821793981), (3999, 0.01176404405510698), (1157, 0.011726497776177324), (560, 0.011725701934982822), (244, 0.011713909835168611), (452, 0.01170843076894533), (82, 0.011705477794905817), (1047, 0.011702015968862113), (4337, 0.011699039259175054), (1264, 0.011694726567109282), (1542, 0.011691118272044687), (684, 0.011687148224632963), (2788, 0.011657715539130338), (2284, 0.011654854107803512), (1436, 0.011653053471820073), (1419, 0.011621407242875843), (1870, 0.011619459304224507), (1215, 0.011614837581760924), (2145, 0.011608777497697802), (2697, 0.011598196058275157), (3317, 0.01159070904737363), (825, 0.011583068320359591), (130, 0.01157467506353748), (3957, 0.011526665763642932), (1194, 0.011525031823177614), (1714, 0.011519201062302696), (2336, 0.011512425523687834), (1455, 0.01151000431659591), (4344, 0.01148898271811187), (1958, 0.011487795261031808), (86, 0.011478138421653562), (3747, 0.011477660119893594), (1053, 0.011445294966758463), (4695, 0.01142173093061551), (1266, 0.011401486317684261), (4477, 0.01139794461970155), (1249, 0.011382442427368505), (1407, 0.011370055376834503), (2925, 0.011335279867932486), (4619, 0.01131358074022817), (1303, 0.011307152943114136), (4543, 0.011297766397923847), (4148, 0.011295432490239381), (2306, 0.011283260659297772), (719, 0.01127737799610053), (809, 0.011272031483328348), (2918, 0.01127068786325347), (523, 0.011257501239935536), (538, 0.01124582848361661), (3118, 0.011245808946829462), (3756, 0.011235812682278256), (2421, 0.011232964818630998), (313, 0.011231439463958697), (1090, 0.011229847228218291), (72, 0.011229507485794071), (2280, 0.011229024787747299), (1989, 0.011218530067061687), (4623, 0.011214804655720324), (1761, 0.011214289505356375), (4216, 0.01121096178370547), (1406, 0.011196381382153538), (2057, 0.0111859019537174), (1019, 0.011184670446226043), (2688, 0.011175525536451573), (2178, 0.011166799831392137), (3582, 0.011157790913621821), (1396, 0.011156293625279323), (1230, 0.01115549015644618), (4235, 0.011153703465471168), (1873, 0.011113521433801506), (1262, 0.011109689560635924), (1937, 0.011104994926246118), (4596, 0.011097903970503007), (790, 0.011086673653766798), (2429, 0.011085775368938289), (2206, 0.01107947182919047), (4481, 0.011073172311130475), (1302, 0.011070163304127615), (532, 0.011024531336312218), (2464, 0.011009976755287703), (1773, 0.010993051373312118), (3992, 0.010988923329810756), (1420, 0.010981321903736626), (1789, 0.010977613812756916), (500, 0.010947538552388718), (1655, 0.010945762993983187), (915, 0.010913237327761323), (827, 0.010904459337929254), (1957, 0.010879111428293595), (57, 0.01087822033935686), (1551, 0.010874552635300266), (1852, 0.010872447966831993), (273, 0.010872145560393079), (274, 0.010869878844771478), (1012, 0.01085803454527766), (2162, 0.010852768305249278), (3465, 0.010851822622632764), (2625, 0.010845953075614858), (2093, 0.01083898500978429), (402, 0.010824161939212314), (3794, 0.01081468130896792), (3240, 0.010811219930312331), (3232, 0.010805151773726065), (4293, 0.010794225075334264), (321, 0.010792516829477409), (2871, 0.01076569743771116), (4553, 0.010745129844258256), (1061, 0.010738381536871327), (1630, 0.010737920073235128), (304, 0.010736585207040534), (1992, 0.010730877026190171), (281, 0.010730385732286303), (322, 0.010726723268225418), (2480, 0.010679125244327115), (1054, 0.010671556358679482), (1259, 0.010671064098610284), (2346, 0.010654306544891957), (3951, 0.010650597050340695), (4048, 0.01061722351450862), (555, 0.010610086123107102), (291, 0.01060651070207971), (4325, 0.010601602424340616), (4465, 0.010600631141743224), (3993, 0.010600364474213302), (3070, 0.01059818228301343), (949, 0.010594404183395686), (3775, 0.010591260725466853), (2097, 0.01056048946435537), (1696, 0.010557500882673224), (170, 0.010547388332606872), (501, 0.010539478862104039), (271, 0.01053920625094525), (1236, 0.010516599451032348), (1754, 0.01051635194626771), (3094, 0.010499600418105244), (3099, 0.010493453596210598), (2849, 0.010489373283052899), (2062, 0.010481810332280964), (3373, 0.010479738721864685), (683, 0.01046393949486613), (3423, 0.010461385042635522), (3984, 0.010447654884899104), (3860, 0.010437259264815998), (3426, 0.01041374738609047), (417, 0.010411839624771057), (4032, 0.010408716679938358), (47, 0.010390515617480361), (4164, 0.010385481146683678), (801, 0.010378593961823307), (1092, 0.010365479817599726), (266, 0.010353673139592973), (4187, 0.01033788877318924), (695, 0.010335115462329274), (2769, 0.010333813914554959), (2992, 0.010323888915205349), (1662, 0.01031242051973737), (1858, 0.01030334073550313), (148, 0.010301903662792175), (2094, 0.01029813445486896), (2680, 0.010295657609026884), (2505, 0.010293709888652643), (206, 0.010287102663008271), (3524, 0.010285679284137669), (4366, 0.010258112052942418), (3924, 0.010254251826149115), (2403, 0.010250933625520129), (1874, 0.010246918746079723), (468, 0.01024567842178347), (1723, 0.010230228901779045), (3903, 0.010220885353458036), (2016, 0.010205636505798952), (2546, 0.01020513490968418), (542, 0.010194592683103281), (1923, 0.010189634167994099), (1736, 0.010162265673375914), (2051, 0.01013151933513302), (1694, 0.01013122149317076), (847, 0.010128487359933677), (2049, 0.010127741630863545), (333, 0.010126036360939441), (99, 0.010121743120890165), (354, 0.010094628041801706), (485, 0.01008375752483449), (2936, 0.010081951640288384), (2740, 0.010075048650420911), (1348, 0.010070727243858262), (1513, 0.010067053277131142), (792, 0.010060159908178545), (2116, 0.010059729632626276), (4106, 0.010038871393282143), (4551, 0.010038263327324428), (1658, 0.010015317631787368), (2209, 0.009998356749006692), (327, 0.009984849762466157), (1234, 0.00998419675194789), (2739, 0.009980947360803518), (4033, 0.00997798738932117), (1712, 0.009971347466461456), (544, 0.009954306695597152), (4435, 0.009942659595784607), (2126, 0.0099244728864772), (1727, 0.009918901689764299), (2436, 0.009884063373143206), (3949, 0.00985780661616831), (120, 0.009854589730389569), (2915, 0.009830425584627238), (2929, 0.009827941708933401), (4096, 0.009823722832041557), (1339, 0.009802159248805838), (3674, 0.009798132369106103), (1798, 0.009793539996570256), (1418, 0.009791907104002535), (3142, 0.009787396038453933), (4605, 0.009787154882622802), (737, 0.009751973795519456), (2074, 0.009738312148758681), (216, 0.009734174302062727), (715, 0.009713533291248059), (970, 0.009712044162784077), (2418, 0.009709910918883492), (483, 0.00969106477659238), (1708, 0.009689811396506045), (3382, 0.009686282929088292), (0, 0.009685118552504299), (994, 0.00967223549474335), (621, 0.009652651578274612), (1922, 0.00964826342118052), (979, 0.009638786628319327), (3822, 0.009631563446125717), (4371, 0.009628466372831695), (2489, 0.009627700905719848), (243, 0.009621131882552321), (270, 0.009618945912797416), (3297, 0.009616998709510107), (3888, 0.009613482823580693), (3635, 0.009612549996278379), (1781, 0.009611223150670568), (4052, 0.009607568502180834), (2820, 0.009592219102833062), (1300, 0.009585681081700942), (3155, 0.00957687561978946), (3679, 0.009568018374863187), (1440, 0.009526585897905355), (4546, 0.00952532213783519), (1951, 0.009524701701891106), (2934, 0.00952405618095137), (3919, 0.009513801747397561), (5, 0.009513202811339534), (3218, 0.009510008791908409), (1685, 0.009501497929527335), (1334, 0.009488010754242084), (2655, 0.009487827773236927), (3264, 0.009470403148223169), (1338, 0.009467924890395458), (472, 0.009462544962398445), (4444, 0.009461625699004097), (3612, 0.009458001044268066), (1359, 0.00944741820494088), (2633, 0.009445186314603424), (2080, 0.009435812662681727), (806, 0.00943259094313872), (4158, 0.00941935755942116), (2545, 0.009417595475268839), (1124, 0.009413227877578072), (2303, 0.00940763130831223), (894, 0.009397942185155866), (2964, 0.009388746759937793), (1442, 0.009387612755313444), (3215, 0.009379752208115027), (1619, 0.009371076565403796), (2565, 0.009360743540149355), (3599, 0.009355850499425371), (1475, 0.009352664208176282), (1006, 0.009331874030017829), (3596, 0.009325544710058916), (105, 0.009321863764725104), (4685, 0.009315803057159639), (288, 0.009307574283896515), (2601, 0.00930745636340146), (2277, 0.00930182158329754), (4025, 0.009297632903035525), (2250, 0.009296181326525158), (1160, 0.009290547803678526), (2197, 0.009277044159025936), (1182, 0.009264795220804208), (2798, 0.009260007120092615), (435, 0.009253289965337665), (782, 0.009245373001248775), (2789, 0.00924139850071617), (1438, 0.00923657874189179), (2752, 0.009225567096932391), (2255, 0.009223708132206845), (3643, 0.009215197634850774), (2886, 0.009215045674634081), (78, 0.009210872428483629), (2494, 0.009206648464086297), (1382, 0.009204590579001224), (1688, 0.00920326088263327), (4442, 0.009198742014582924), (3386, 0.009188115046240751), (844, 0.009177271884837378), (2977, 0.009177066089786589), (1048, 0.009160392873244036), (1279, 0.009159316721713395), (2512, 0.009151086946821345), (1494, 0.009147137352193864), (2029, 0.00913211926674436), (3536, 0.00912449805976048), (396, 0.009119643433031288), (2144, 0.009117888872229935), (631, 0.009112698667010644), (2279, 0.009107766709229905), (4060, 0.009105212638332697), (4192, 0.00909961799093406), (3171, 0.009085994249224828), (3293, 0.009084518894958557), (3346, 0.00908186852806803), (3689, 0.009081215906590487), (668, 0.009076608143101407), (817, 0.009065704434028144), (2640, 0.00906089835842945), (1948, 0.009057800776110795), (3733, 0.009052018268448227), (4612, 0.00903949713272166), (2744, 0.009033313895654451), (2075, 0.009033296606763129), (921, 0.009031681692618447), (828, 0.009030393865093748), (1936, 0.00902746350030886), (4336, 0.009023845532926116), (1075, 0.009012548369474044), (2812, 0.009012050878991958), (182, 0.009011067638287488), (697, 0.009007652835501229), (1860, 0.008994235584542156), (2948, 0.00898677802482884), (897, 0.008974238916108074), (2831, 0.00897372198889106), (1077, 0.008967446656915255), (464, 0.008951303831217436), (1620, 0.008951135921813251), (353, 0.008948481358615262), (2109, 0.008938809611967065), (19, 0.008932821174632174), (1020, 0.00892998707845), (434, 0.008925814583541209), (939, 0.008923213613380677), (2600, 0.008921893209694035), (2463, 0.008920631348165486), (1582, 0.008919718497826107), (1854, 0.008918034579248649), (850, 0.008915854294240693), (2879, 0.008914188686087093), (2193, 0.008890490556513078), (346, 0.008883434681573942), (4710, 0.008879492571549533), (4660, 0.008872693276401417), (2363, 0.008857285972937971), (3067, 0.008852181698049308), (4502, 0.008834236442229053), (1612, 0.008830678424599038), (2228, 0.008830613025236817), (1087, 0.008826400634071488), (96, 0.008820216603756321), (4490, 0.00881736480606747), (446, 0.008815932753151842), (111, 0.008807782356296943), (1807, 0.008807678772862001), (2309, 0.008805482158244015), (79, 0.008804126458511577), (2980, 0.008794076330386261), (2698, 0.008776074209290673), (1776, 0.008775468550353896), (3237, 0.008775153653407064), (2572, 0.008757894836553605), (2087, 0.008744179552702387), (651, 0.00872026994829405), (104, 0.008718029806351555), (3046, 0.008710535046444971), (3667, 0.008703386578091043), (3941, 0.008702283910827363), (2103, 0.008694313402037891), (1710, 0.008687295182524368), (197, 0.008686284660234713), (3151, 0.008684896093359162), (2778, 0.008682902577223414), (1730, 0.008678750456215663), (3120, 0.008674646185250465), (1900, 0.00866176159317368), (1429, 0.008657847120755416), (3784, 0.008654446135790252), (948, 0.008650513676023704), (4511, 0.008645554907770798), (29, 0.008638305937052757), (558, 0.00863590335912273), (3267, 0.008632152135225668), (164, 0.008631297307353883), (4603, 0.008630616790474999), (4122, 0.008624048687363751), (1446, 0.008619805935052047), (3638, 0.008608537928868789), (3123, 0.008603357207161412), (1701, 0.008602536371999673), (3521, 0.008595155376217809), (966, 0.008594687545946042), (2077, 0.008572698088492156), (962, 0.008571150981690583), (1793, 0.00856657910947647), (119, 0.008556769569195516), (851, 0.008556462614475983), (2473, 0.00855369263435176), (1096, 0.008546426966760492), (1276, 0.008532924868810961), (4163, 0.008517679201381386), (838, 0.008511867056712655), (3956, 0.008494692949918057), (3399, 0.00849065296680624), (3826, 0.008484533723569259), (3246, 0.008482411527114415), (3418, 0.008450942230814053), (2065, 0.008440579944981492), (2143, 0.008430353951214522), (285, 0.008424423330011543), (2264, 0.008407448049985897), (2581, 0.008406699744379815), (4257, 0.00840397738020608), (449, 0.008397329928883595), (2188, 0.008350542265740701), (3901, 0.0083490515530839), (1971, 0.008343056758535732), (1387, 0.008331887525504723), (4649, 0.008328199172273516), (1514, 0.008311693184509503), (436, 0.008311575691881136), (3954, 0.00830970625290699), (1206, 0.008307636372469148), (307, 0.008298616842809987), (4232, 0.008298257375715727), (734, 0.008297846343862353), (4205, 0.008287222753402395), (816, 0.008270121640143388), (2089, 0.00826175011803318), (2265, 0.00825958262457534), (1050, 0.008249404185915948), (766, 0.008231221955220396), (2428, 0.008230931685233688), (2459, 0.008227544250949109), (1308, 0.008225809429432955), (461, 0.008216368633033173), (32, 0.008202379021599805), (4412, 0.008197669820510825), (1538, 0.00817831675677181), (2236, 0.008172546440923623), (1498, 0.008164693112431818), (1650, 0.0081537698922212), (1540, 0.008147876261398353), (4707, 0.00813732980721796), (1875, 0.008131918177099302), (3453, 0.008119841040151706), (1477, 0.008113096101484508), (428, 0.008091820850540443), (2427, 0.00808877900260511), (1489, 0.008087328571685771), (3329, 0.008083434743388322), (2635, 0.008082265004369723), (3389, 0.008081984024527731), (1920, 0.008066426880886659), (2285, 0.008064486914916073), (2881, 0.008060167577794425), (1690, 0.008053657530220271), (4105, 0.008051418970325401), (3829, 0.008050688582338615), (4522, 0.008040680774938939), (368, 0.008031220123105243), (183, 0.008016664825829254), (1539, 0.008013225954175222), (2076, 0.008002768715427131), (3767, 0.007998280848020706), (1312, 0.007997913063833897), (3899, 0.007992955904342552), (1833, 0.007992915705950005), (107, 0.007972490550685156), (3680, 0.007963123559849374), (1762, 0.007959971163184476), (3032, 0.007959506648950804), (1507, 0.007958718304850345), (4092, 0.00795505726484059), (3880, 0.007952732839225762), (4699, 0.007947693646618273), (1764, 0.007944130762765619), (2587, 0.007941765219790044), (1078, 0.007941318544626845), (4593, 0.00793527986440913), (705, 0.0079331496302902), (4494, 0.007921540554335579), (1136, 0.00792137088683443), (2942, 0.007909519997482444), (443, 0.007900149457003264), (3579, 0.007896312870020574), (4118, 0.00788793967935114), (1968, 0.007883324924294447), (2840, 0.007881430456005699), (597, 0.007880730029003935), (445, 0.007871636287204086), (2158, 0.007868518920143324), (1806, 0.007856974969278953), (1924, 0.00784717297009295), (4335, 0.007842880773792358), (143, 0.007839841410188416), (38, 0.007824579074047714), (4748, 0.007822259805881075), (139, 0.007816572151723987), (3960, 0.007814764648921483), (3634, 0.007814586472387102), (2975, 0.0078035077898112835), (2933, 0.007799962339041384), (1553, 0.007798950346938914), (3196, 0.00778766804097078), (242, 0.007783114532743824), (4624, 0.007782890938489578), (2854, 0.0077762587996804584), (60, 0.007773353984352142), (3409, 0.0077724543745745535), (403, 0.007768016112767902), (716, 0.007750387477314179), (3618, 0.007735035076802601), (2555, 0.007730509716660722), (3096, 0.007713880939245946), (4098, 0.007710193521250306), (1371, 0.007702109430421628), (350, 0.007698559111363228), (2304, 0.007697878626996585), (1866, 0.007690666088233062), (1674, 0.00768657335969711), (3645, 0.007673623047981511), (3, 0.007670272634909097), (1960, 0.007669740716852124), (385, 0.007666385170551959), (3192, 0.007660725695195336), (924, 0.007653505202374988), (729, 0.0076530414354056015), (3256, 0.007648680208026298), (4133, 0.007645544727638915), (688, 0.0076400634740236804), (2348, 0.007631845251122664), (4579, 0.007627978752648869), (2603, 0.007625505961829673), (1790, 0.007622307839581804), (3780, 0.007616839029986895), (1260, 0.007613953899213837), (3704, 0.00761063586941089), (162, 0.007608962643590931), (4757, 0.00759976307329044), (582, 0.007595685771140521), (2994, 0.007575443759842066), (2211, 0.007575389309714333), (4431, 0.007572317926702866), (493, 0.007554529730682772), (3821, 0.007553720853050279), (1705, 0.007545386365800411), (2714, 0.0075441897408553725), (63, 0.007537688511082084), (1174, 0.007535900088119334), (1188, 0.00753469660667633), (1037, 0.007531499842148348), (10, 0.007529141246749657), (1743, 0.007528624749633644), (4656, 0.007527815786470668), (256, 0.007516508484252592), (441, 0.0075157416852848465), (4046, 0.007515475534097111), (3771, 0.007496976796480583), (2477, 0.007494564743252328), (1014, 0.007491854359903702), (3456, 0.007487798300427071), (991, 0.007485212422867845), (180, 0.007482860329618681), (3501, 0.007479375589297033), (3259, 0.007479368434864328), (1225, 0.00746777713576478), (4601, 0.007464533846867705), (2985, 0.007439754478716591), (2563, 0.007439105534577915), (3349, 0.007438417913487543), (4233, 0.007431534706149273), (1950, 0.007429457531692538), (4289, 0.007424503535890979), (616, 0.007424471538547464), (3586, 0.007424382882474422), (4470, 0.0074223909523108735), (2104, 0.007419334654628252), (3112, 0.007419005957767368), (1571, 0.007417442308401455), (1454, 0.0074167715572462795), (728, 0.007414732134465713), (1537, 0.00741444602130212), (1229, 0.007412335694025587), (224, 0.0074096255408381845), (843, 0.00740675480184505), (2088, 0.007403940119543231), (4038, 0.007403502821281254), (930, 0.007403080156892753), (3623, 0.007398671876235309), (1918, 0.0073954301929947865), (1735, 0.007391013495094501), (2519, 0.00737990870073218), (4013, 0.007379486841134582), (2091, 0.007377510254930964), (34, 0.007370195205825132), (1069, 0.007365741078520182), (606, 0.007361157552333785), (1388, 0.007356658250389522), (3035, 0.007354239537362109), (255, 0.007353529786575379), (4517, 0.00735057149013996), (3905, 0.0073438632344283265), (474, 0.007341739696467582), (1400, 0.007341075545186211), (743, 0.007337799098715158), (1071, 0.007336340700424831), (580, 0.007331612532329539), (1282, 0.007327394349322455), (4390, 0.00732640347733254), (4094, 0.007322769305822548), (3516, 0.007320182816623325), (4715, 0.007315497643184619), (1083, 0.007314454347682587), (4629, 0.0073132468359156134), (4557, 0.007311858716967004), (2510, 0.007311425164949184), (1140, 0.007308835964032215), (2339, 0.0072994060545230645), (4430, 0.007298051307766885), (113, 0.007296389853274008), (2844, 0.0072913203457045245), (845, 0.007282558059569307), (4652, 0.007278632644791573), (1902, 0.007275636214145871), (3514, 0.007273480984910907), (1125, 0.007273308641639247), (3245, 0.0072721996018070174), (3653, 0.007268047530873154), (1643, 0.007263633192749525), (1770, 0.007261727919650254), (2344, 0.00725692868952312), (3303, 0.007249494362684774), (156, 0.007248914991978616), (4677, 0.00723896034165368), (2873, 0.007232981371724691), (3666, 0.007231217600813745), (4249, 0.0072197424185785316), (1223, 0.007218854461511045), (309, 0.007214883942559068), (3410, 0.00721339239255823), (3233, 0.007210871160092136), (1484, 0.007207229864966545), (238, 0.007203660445642068), (159, 0.007197934096631945), (1144, 0.007185523880142215), (660, 0.0071840084907768414), (2843, 0.007176624071080199), (1931, 0.00716663091960624), (509, 0.007165973122181871), (3464, 0.0071585320137962935), (3125, 0.007154604626853149), (636, 0.007152638609064682), (3008, 0.007151291422075825), (980, 0.007146293529189078), (3152, 0.007138315580433783), (2101, 0.0071357291194854905), (3039, 0.007134172393081776), (3227, 0.007131737760446056), (4093, 0.007127290370252063), (4045, 0.007126259298321895), (644, 0.007124653505428459), (3018, 0.007120695241996818), (696, 0.007120072698640451), (4089, 0.007113070945238665), (3571, 0.007106778560499889), (908, 0.007098501427935786), (2606, 0.007095039326276737), (3727, 0.007086632033649792), (3330, 0.007085746086318056), (3436, 0.007084961781641201), (4196, 0.007077627243028092), (1179, 0.007074937077975504), (1536, 0.007067595760065198), (2444, 0.007061805602821888), (4351, 0.00705360282438041), (1504, 0.007049276652574296), (1747, 0.007033209628928373), (3435, 0.007029769896503521), (869, 0.007028166485931589), (1653, 0.007022575024962027), (769, 0.007022316179016875), (3515, 0.007021666240488452), (4077, 0.0070189984986376176), (2061, 0.007015768630825693), (1486, 0.0070086034391257605), (4663, 0.007008073821775855), (1191, 0.007000141489534331), (4581, 0.006997430645571752), (3945, 0.006993556578019312), (4182, 0.006991765868014732), (3570, 0.006987834189771826), (4226, 0.0069817335435581555), (3624, 0.0069776954443082325), (340, 0.0069694102265291874), (1583, 0.006965117260763737), (1472, 0.0069608344391832964), (1138, 0.006953093450961041), (4284, 0.0069450667271711685), (4670, 0.0069449939595806155), (42, 0.006931157563091087), (1841, 0.00693012444857574), (1488, 0.006928808591476396), (386, 0.006926116496824812), (1330, 0.006923319384383544), (81, 0.006922400731788677), (3122, 0.006911806629846852), (539, 0.006907805127517611), (494, 0.006906459576482478), (4309, 0.006887918684979065), (50, 0.0068856027940172905), (1718, 0.006870455719541511), (750, 0.006867738349160076), (727, 0.006864348487441703), (3316, 0.006855762791116204), (3195, 0.006854652504112395), (2244, 0.006850950252363942), (3452, 0.00684876292421714), (923, 0.0068484969427190815), (363, 0.0068476027059861735), (3531, 0.006836685543344326), (3487, 0.0068245325098860166), (2825, 0.006822839886384959), (1737, 0.006822395948331611), (1123, 0.006816052146563613), (232, 0.006808425394902936), (2069, 0.006804424117293876), (2708, 0.006794066331657432), (503, 0.006790541219415916), (3734, 0.006780206784278057), (3457, 0.006778689079093274), (4061, 0.006768779719039119), (4367, 0.006764395586252766), (3499, 0.006761752006600084), (1811, 0.006759268053233623), (1421, 0.0067583203094702515), (217, 0.006754509629133636), (3696, 0.006753765483359537), (880, 0.0067504752474204215), (1044, 0.00674253774659044), (301, 0.006735473455273486), (2897, 0.006732843031326671), (4008, 0.006732715092813086), (2496, 0.006732695023762452), (1231, 0.006720258357602899), (2816, 0.006720075374017966), (748, 0.006705775161042627), (752, 0.006699943460878323), (413, 0.006697036585171722), (4154, 0.006693393385438478), (778, 0.00669153655498803), (422, 0.006689401044114671), (3648, 0.006683840835484952), (1177, 0.006683135460365074), (2184, 0.0066823688128646395), (4299, 0.0066821933122891905), (868, 0.006680561167045828), (3185, 0.0066751515597002565), (1172, 0.0066745154365611195), (3149, 0.006673187317026032), (2726, 0.00666340307192269), (4523, 0.006662162424245038), (31, 0.0066569021687998406), (4591, 0.006653824591235893), (4001, 0.00664913314793431), (1819, 0.006639324286257388), (2691, 0.006636331901611017), (1738, 0.006632224981233828), (1911, 0.0066282881754698994), (641, 0.006618946525355684), (1892, 0.006618069478414527), (4282, 0.00660283386858769), (1001, 0.006596444763894912), (3594, 0.006592054467977794), (1608, 0.006591388765489524), (2732, 0.006591051104865938), (1250, 0.006586294418654617), (1041, 0.006585840588015047), (3460, 0.006578759959628384), (600, 0.006573882033612544), (3974, 0.006572315701656773), (1375, 0.006567155225939524), (2899, 0.006562878921743771), (4467, 0.00655365820009566), (131, 0.006553236919362198), (2324, 0.006548677190068766), (3265, 0.006540432881223299), (1065, 0.006539587019569739), (671, 0.006537451875108336), (608, 0.006534791886495525), (1094, 0.006531414601826677), (1306, 0.006520949604535209), (1908, 0.006520401538506131), (3342, 0.006516409192271698), (56, 0.006516374689009895), (1973, 0.006516327267198215), (311, 0.0065117925346508876), (3632, 0.006508922363505478), (3841, 0.0065081651978984596), (3458, 0.006505261459712), (3910, 0.006501743999516769), (2962, 0.006492380676387276), (581, 0.0064907092582585126), (367, 0.006490644546172246), (200, 0.0064891377152117465), (1345, 0.006486334794093093), (1555, 0.006483882700579587), (821, 0.006483496919909946), (2424, 0.006482595373489489), (1433, 0.006479459518305321), (3033, 0.006476933965616197), (996, 0.006454327597645272), (1462, 0.006451459737097074), (1501, 0.006450759738679647), (1644, 0.006450752519909307), (1238, 0.006447773065103326), (1526, 0.00644405136092138), (863, 0.0064389982781220155), (4210, 0.00643722894032611), (3288, 0.0064352257356179035), (4388, 0.006424586701519825), (4099, 0.006424122264280912), (2056, 0.006418630587503517), (2335, 0.006418149492291962), (834, 0.006408021775217458), (1627, 0.0064074895912551305), (744, 0.006404744762856515), (3066, 0.006401333716941786), (3926, 0.006400805863842068), (1076, 0.006400653060738916), (563, 0.006399591920427427), (910, 0.0063989931804519645), (2160, 0.006397378594190101), (3842, 0.006393796650940349), (3876, 0.006391506937273023), (1849, 0.006386438464792689), (2503, 0.0063809501455077055), (283, 0.006379230879774319), (1111, 0.006378756241618323), (122, 0.0063737519592866766), (1987, 0.00637267217293613), (745, 0.006367640678727135), (4303, 0.006362018861254912), (4738, 0.006344234557777786), (1760, 0.0063422042514525954), (1374, 0.006341788686023758), (2031, 0.0063415387530488965), (1867, 0.006336169632439574), (758, 0.006329398949597737), (3998, 0.006327356447851754), (3705, 0.006324301965582319), (1692, 0.006316163351816513), (1329, 0.0063126478093589655), (981, 0.006309038831722883), (1816, 0.006303027774185254), (1913, 0.006302976908288042), (3566, 0.0063025531972383374), (2724, 0.0062996593897103464), (22, 0.006293500525743161), (1448, 0.006292737256699172), (3474, 0.006290098842347588), (230, 0.006283147537727249), (1964, 0.006280296070038024), (1552, 0.006277463396290437), (2239, 0.006270564938940496), (2580, 0.006262392880016121), (4691, 0.006261136883937807), (804, 0.006259665732712309), (940, 0.006238491932163438), (2388, 0.0062371695997816765), (2202, 0.006232378605243948), (4564, 0.006227398195654015), (4661, 0.0062222841007500435), (497, 0.0062192551459895485), (4236, 0.006217126807725531), (1425, 0.006216750668423885), (3309, 0.006214270158344321), (1213, 0.006208854814224914), (263, 0.006197676758385619), (958, 0.00618217048086798), (1797, 0.006179500658012454), (4217, 0.006173106805255898), (521, 0.006168048282635245), (300, 0.006165551377464617), (4646, 0.006165073041218397), (2833, 0.006162284993408052), (617, 0.006152930704525973), (642, 0.006145807769752808), (3715, 0.00613899145272873), (2095, 0.006137154591681011), (4272, 0.006135318799632577), (1414, 0.006133025222547682), (4666, 0.006123846524919385), (835, 0.006115584335418649), (248, 0.0061122657589808855), (1307, 0.006094463190887664), (4733, 0.0060934805976975625), (16, 0.0060833267363911495), (9, 0.006082209556582112), (1327, 0.006079589189525798), (3864, 0.00607035297351089), (2175, 0.006068305980591025), (3721, 0.006066441230629011), (1267, 0.0060661785362292045), (4110, 0.006065899766040678), (568, 0.006064151132565288), (1664, 0.006063068817918512), (3331, 0.006040603676850649), (4432, 0.006035015143439465), (4009, 0.0060289324103730965), (35, 0.006021577821165703), (3114, 0.006021471791184233), (861, 0.006020988485025068), (4459, 0.006017015204352962), (4537, 0.006016635317844505), (3909, 0.006014408941192319), (1818, 0.005993590305054311), (2355, 0.005991622407849431), (4219, 0.005991201868353305), (4342, 0.0059894226382645075), (2205, 0.005989086393703199), (2291, 0.00598256912464729), (4464, 0.005976284336294137), (1746, 0.0059641901973814665), (4208, 0.00595137576132696), (862, 0.005926355905827645), (1356, 0.005923883324103868), (1903, 0.005921663212740096), (2935, 0.005908771297394665), (3658, 0.005904993808574682), (3244, 0.0058911639658833035), (1939, 0.005882502351465804), (1214, 0.005877920830396246), (3825, 0.005876807967773565), (2203, 0.005871973967310322), (3865, 0.0058471679161856025), (4055, 0.005842965945019063), (4057, 0.005830949731487853), (1981, 0.005827812219594651), (2058, 0.005827619944746909), (1715, 0.005821255205920279), (2185, 0.00581669850417153), (583, 0.005815349575066464), (4047, 0.005794823849119077), (2328, 0.005791350878991577), (1684, 0.005789074668683081), (3752, 0.005787851720844302), (3975, 0.005774416739813284), (4726, 0.005770713096665288), (3598, 0.00576861765725053), (2439, 0.005768120800716462), (2426, 0.005757895871082971), (3049, 0.005755811765388554), (3748, 0.005755545382787161), (1316, 0.005748725179865351), (2156, 0.005734951633317339), (1344, 0.005703955634799966), (3509, 0.005650848564290345), (4674, 0.0056452707433079915), (277, 0.0056341056215985594), (4331, 0.005626601076823177), (3942, 0.005617710356570203), (1863, 0.005613369663688148), (953, 0.005613229690795181), (3844, 0.005601362084218443), (4698, 0.0055934004040777), (4385, 0.005565160648279475), (3502, 0.005555774490875396), (3448, 0.0055517642670282275), (3391, 0.005542707498149626), (2098, 0.005498069138169692), (177, 0.0054887355214647176), (2113, 0.005476295171163432), (3588, 0.005461246569765427), (3744, 0.005425897061264153), (4514, 0.005411390126903475), (1453, 0.005406090093842752), (3168, 0.0053982412585716335), (3164, 0.005395773834209918), (4653, 0.005381057362133114), (571, 0.005380517774091739), (2567, 0.005379744524924312), (369, 0.005358919605469194), (2665, 0.005351428332067511), (4642, 0.005331665671665616), (4285, 0.005326538424117756), (1941, 0.005318065321754522), (69, 0.005288039953863797), (562, 0.005284628200244935), (3940, 0.005283408012569511), (2614, 0.005275715993213551), (4527, 0.005273415815308414), (1381, 0.005270235548959356), (2273, 0.005269920054572103), (2700, 0.005261624560216462), (4746, 0.005259927516987637), (1695, 0.005247052033090054), (831, 0.005239627446394638), (4162, 0.005225792380641313), (4518, 0.0052192992924035555), (477, 0.005213948259066861), (1940, 0.005206223405785286), (2683, 0.005205944146242559), (2809, 0.005195391710086715), (2022, 0.005186877449424449), (3263, 0.0051734306121425854), (2476, 0.005167713852939884), (3440, 0.005165583482008496), (512, 0.005162856324979899), (1332, 0.005140270206060174), (855, 0.005139279245944283), (168, 0.005134093243258287), (4261, 0.005125733779488566), (3022, 0.005120852537362076), (425, 0.005117713138278122), (1962, 0.005116333367021341), (1158, 0.00511217272870794), (2774, 0.005109681107479492), (2576, 0.005109398751136128), (380, 0.005086743185639192), (3117, 0.005083138855829187), (3468, 0.005081192057166512), (2231, 0.005080507530514871), (3802, 0.00507284730332561), (666, 0.005062459725270418), (1724, 0.00505910897079247), (687, 0.005045519451527477), (2733, 0.005042414524178204), (4120, 0.005026485024253074), (3584, 0.005018740594725926), (4462, 0.005006321665592726), (514, 0.00499924835767759), (2181, 0.004998203876355528), (128, 0.004986212116111351), (2314, 0.004982879177166601), (6, 0.004973378099534145), (4384, 0.004967173521379665), (1952, 0.0049612731151849965), (3787, 0.004959705548472119), (2599, 0.004957569633009878), (3180, 0.004954725789353405), (1614, 0.004952474574658026), (4043, 0.0049524324103748804), (4595, 0.0049514376469844325), (2960, 0.004950562588842827), (3205, 0.004939512044645289), (1661, 0.0049369395649154655), (4307, 0.004934012259947623), (4515, 0.004932032736709987), (1280, 0.004928641049621426), (2252, 0.0049253597712364885), (4240, 0.004923732740642494), (3404, 0.0049226630795239845), (919, 0.004921916013640612), (1167, 0.004919974885322631), (1829, 0.004919032041803479), (3163, 0.004918604370283686), (802, 0.0049178415136553275), (3897, 0.004913648502211168), (1391, 0.004911396540206313), (4621, 0.004910794204632051), (1554, 0.004901339023285959), (4373, 0.004895475974462224), (102, 0.004893191142024071), (3774, 0.004884348053110267), (2819, 0.004884237255713573), (1452, 0.00487806417717373), (992, 0.004876122487944489), (4719, 0.0048733373687917855), (550, 0.004864795353160317), (2626, 0.004860611409464634), (3158, 0.004857030141081344), (303, 0.004855487491565106), (2947, 0.00485493851525974), (4119, 0.004854394567587921), (595, 0.004849346576183486), (4630, 0.004848896781163565), (1904, 0.004848685053565851), (4312, 0.004847833048978867), (2084, 0.00484761232029309), (3438, 0.004829650653019284), (414, 0.004828649450710747), (1791, 0.004823717450807524), (1732, 0.0048220562808423155), (3782, 0.004820129157220631), (4586, 0.004819781716902698), (155, 0.004818690608101118), (4275, 0.004818610814515964), (2959, 0.004816895176291577), (3191, 0.004816692506817753), (513, 0.004816573197868288), (3938, 0.004814875789451849), (4091, 0.004813799743169654), (3997, 0.0048132646424818935), (1659, 0.004813075732790179), (2136, 0.004810428407580439), (1449, 0.004808628212148173), (4090, 0.0048060998493764835), (1531, 0.004799866005510317), (1575, 0.004798088629325843), (3907, 0.004797641013217696), (891, 0.004796943987898999), (4639, 0.00479228309906411), (3604, 0.004788656595227303), (561, 0.004788195720962108), (1150, 0.004777602768882242), (3451, 0.004775471998695122), (4076, 0.0047715952939979805), (336, 0.004769486120663316), (2949, 0.004769450051106672), (2015, 0.004768535480462129), (2506, 0.004761954051865486), (220, 0.004753681704397244), (3576, 0.004746697054349306), (3995, 0.004746475775849836), (2044, 0.0047444298292027235), (3710, 0.004740760813401627), (2790, 0.00473483534445076), (2283, 0.004732594234961588), (4392, 0.004731968656432613), (239, 0.0047316725021226405), (1975, 0.004731276152809949), (3134, 0.004728952707499729), (3398, 0.0047258550441731835), (4377, 0.004721340745950988), (3513, 0.004719123588188925), (2208, 0.004718012014338683), (2064, 0.004716651324268866), (118, 0.0047118825352340495), (1901, 0.004706972211461613), (1930, 0.004702599021510764), (2330, 0.0046985555481786935), (1380, 0.004697626949069538), (4211, 0.00469760569000846), (3833, 0.004695191994726697), (4376, 0.004687923528590883), (420, 0.004686615473545591), (189, 0.00468468930147372), (3908, 0.004684108817176564), (765, 0.004684104428481416), (95, 0.0046793293671237865), (320, 0.004677002958876556), (1587, 0.004666218225555381), (3124, 0.004665671634453006), (3131, 0.004665378551548551), (1859, 0.004654977307393646), (3815, 0.004653596935343215), (902, 0.004650775513224243), (793, 0.004637273804200751), (1588, 0.004633597252009685), (2130, 0.004631893579238595), (1502, 0.004630680101686587), (1469, 0.004630625452128152), (1998, 0.004628274999328725), (3932, 0.004628021938125874), (1435, 0.004622093118592685), (1426, 0.004620772001177405), (3443, 0.004617569460259768), (1622, 0.004610644643227725), (4678, 0.0046101347769744875), (4248, 0.00460748536215254), (2278, 0.004603830117718809), (3005, 0.004600997990997084), (3179, 0.004599599530866304), (685, 0.004596473648160172), (849, 0.00459638997465277), (1881, 0.004595495551195479), (3769, 0.00459086434787733), (27, 0.004587308988574309), (2246, 0.004586909434349628), (2991, 0.0045859519672226835), (1573, 0.004584921474065399), (4383, 0.004584503895487702), (4552, 0.004583098868241813), (375, 0.00458159343443318), (4103, 0.004580493549499003), (4251, 0.004576426275714391), (2501, 0.004573282253464841), (3602, 0.004572992079522903), (811, 0.004557581179270039), (3814, 0.00454624223261328), (633, 0.004543317388101146), (347, 0.004543123771260581), (90, 0.004537779237234977), (1993, 0.004537314131361234), (3555, 0.004533591264963676), (1127, 0.004526106255479), (233, 0.004524274762791096), (3520, 0.004518350752110436), (3432, 0.004516138954116411), (634, 0.004513804401290006), (4708, 0.004513422859594452), (1857, 0.004511797789796792), (30, 0.004508927189037362), (93, 0.004508312926251565), (3583, 0.004507884295662938), (1933, 0.004505504179429761), (467, 0.0044929771018108015), (1566, 0.00449197907829215), (460, 0.004490014118452053), (927, 0.004487933359190545), (39, 0.004487282372211756), (4665, 0.00447100460936882), (389, 0.004464718648678341), (4360, 0.004461033513496743), (3881, 0.0044607204187192195), (135, 0.004450716422394488), (260, 0.004444203720986237), (619, 0.004444199015959099), (1635, 0.0044426019994112005), (1431, 0.004442474690904882), (4264, 0.00443897575753565), (1633, 0.004438499723653861), (3100, 0.004438119094062016), (3605, 0.004433884320931387), (3136, 0.004431716497771959), (2232, 0.004428375570032442), (1846, 0.004422550529872596), (2787, 0.004418147202288187), (3126, 0.004415879860422608), (2847, 0.0044133918956768365), (241, 0.004411296527174166), (451, 0.004407749657605924), (3367, 0.00440736941562802), (152, 0.004406365062267375), (315, 0.004403178988184737), (4310, 0.004402589741634677), (4039, 0.0044021960978494765), (3161, 0.004398585433162329), (305, 0.004397944052289228), (1211, 0.00439576281176006), (1953, 0.004395530258619798), (4438, 0.004390609957087922), (3886, 0.004383192408840991), (3011, 0.0043768251525178915), (4044, 0.0043764719421352195), (1181, 0.004375803151354041), (310, 0.004368727168693522), (1623, 0.004357608562432266), (3823, 0.004354575047819055), (1207, 0.00435154471370812), (4071, 0.004350035658872479), (2432, 0.0043448878743617666), (3664, 0.0043391414550157095), (2245, 0.004329220850184756), (1082, 0.004317574998089769), (4582, 0.00430454251225046), (2711, 0.004300783132201707), (4292, 0.004299990535958066), (3970, 0.0042969426008548535), (4587, 0.004289899354387998), (2442, 0.004288682871266363), (690, 0.004284957975396247), (1632, 0.004282718669239176), (1451, 0.004281531444798603), (1154, 0.004280705717111755), (661, 0.004274748527280239), (2139, 0.0042716443380786855), (3723, 0.004267101215092368), (3338, 0.0042613487382564055), (4274, 0.004259795012937118), (4585, 0.004259437849761366), (2660, 0.004258019049130699), (2736, 0.004254282900410734), (3133, 0.004250519909667687), (1347, 0.004248569265748642), (3079, 0.0042477167159250245), (974, 0.004247556469495457), (3966, 0.004245379860110405), (1428, 0.004242474254178376), (3788, 0.004242196316693492), (4697, 0.004241241737735881), (4339, 0.004240868158537351), (3824, 0.004239597129965523), (94, 0.004231235070494862), (4328, 0.004229295096207968), (4322, 0.0042267133409336745), (1631, 0.00422599252346238), (611, 0.00422423369990471), (1562, 0.004223748864263591), (1430, 0.004219881497695586), (4193, 0.0042114922191340025), (3361, 0.004205721790350612), (316, 0.004196590965688012), (559, 0.004182006870114259), (4441, 0.00418146324427371), (306, 0.004177889329213263), (397, 0.004176339066947837), (1840, 0.004171663567888985), (3135, 0.004170375454148407), (3534, 0.004167733094178784), (1914, 0.004166688270317727), (1197, 0.004162757785302337), (893, 0.004157001351858446), (4664, 0.004152757508992938), (323, 0.004151162144654795), (1784, 0.004149661844722802), (2682, 0.004141997105689122), (810, 0.004135838123175828), (2984, 0.00413425665763355), (3495, 0.004113861672086802), (3143, 0.004107742112159696), (426, 0.0041028211201025126), (1480, 0.004100069135898336), (898, 0.00409734898579614), (1699, 0.004095423890946754), (997, 0.004088730145521397), (4365, 0.004083501957686875), (1753, 0.004079426297399061), (1590, 0.004078205078282286), (4290, 0.004074706420462105), (932, 0.004071550936257597), (1281, 0.004070323571115689), (3247, 0.00406813213505085), (4426, 0.004060110369151491), (1546, 0.004059785527483774), (1772, 0.004055148604654991), (191, 0.0040509303281978494), (625, 0.004048799989955261), (187, 0.004046481972442361), (80, 0.00403915799362928), (3160, 0.004027068830529639), (1458, 0.004025360225690853), (4468, 0.004022377775130293), (803, 0.004018414380681527), (290, 0.0040045910782950745), (756, 0.004002849824576708), (4571, 0.004000927874921274), (3776, 0.003942095281100705), (640, 0.003938904745253898), (3512, 0.003928541519770293), (1559, 0.003916142423093152), (1120, 0.003911338865324226), (3178, 0.003894349384129648), (1925, 0.0038902379760711253), (3619, 0.0038874947375103883), (4513, 0.003887402563063214), (1910, 0.0038868715037521434), (295, 0.003882020044835017), (3339, 0.0038802138646243465), (2757, 0.003877541138887153), (3806, 0.0038751789447396524), (3989, 0.003873304795267256), (2541, 0.0038709313094083373), (1309, 0.0038692931611696087), (3484, 0.0038611305105945375), (234, 0.003855934876744684), (314, 0.0038508233097255084), (76, 0.0038471943377540365), (3672, 0.0038366509696771793), (639, 0.0038342251608908294), (1530, 0.003825707446969215), (3405, 0.0038210985436983457), (2801, 0.003805875781964463), (723, 0.0038005937802053935), (4555, 0.0037893476916677883), (2326, 0.00376638523961244), (3944, 0.003742475471245576), (469, 0.0037328264746000735), (2573, 0.003730830211689006), (4607, 0.003722889550709403), (1164, 0.0037167134706912425), (2678, 0.0037138612939976363), (1576, 0.0037100549104328905), (738, 0.0036907002368606772), (2299, 0.003668017351964852), (1395, 0.0036659328996290156), (2529, 0.003664765993408894), (2998, 0.0036561010139095464), (289, 0.003653852869363775), (4705, 0.0036383995382222303), (3925, 0.003630384138301821), (294, 0.003614783294919244), (2078, 0.0036039496899812175), (3523, 0.0035902285607288874), (2490, 0.0035889430097797116), (3051, 0.0035877680777245116), (2764, 0.003582071642336573), (3257, 0.0035677651504987273), (2858, 0.0035561108544923414), (2989, 0.0035531739189500916), (3291, 0.0035515132980061094), (3040, 0.003537352518363322), (4202, 0.003536048125611052), (2379, 0.0035360115237304335), (735, 0.0035358122695626553), (4082, 0.0035357773641515274), (2189, 0.003530347662625693), (2937, 0.0035246380750820717), (2870, 0.0035046960795211825), (2137, 0.003501869573736058), (2251, 0.0034890460198772188), (4172, 0.003472566042016427), (2404, 0.0034650039455253355), (3055, 0.003462551152391302), (2349, 0.0034624276453660394), (2722, 0.0034600662764237102), (2643, 0.003454673297067522), (3139, 0.003453823566770669), (3030, 0.003453820031631574), (2775, 0.0034465712527843957), (2883, 0.0034424567717868133), (3042, 0.0034377664336558366), (3990, 0.0034305306652077645), (4423, 0.0034219152016516027), (77, 0.0034177425975633825), (3166, 0.0034134988400311354), (4222, 0.003397175072600574), (1145, 0.003396817382166695), (2392, 0.003396807415268301), (2731, 0.0033871818677737977), (2923, 0.0033855052691256606), (2861, 0.0033823152914800054), (2628, 0.0033805115537749388), (2537, 0.0033720236133870235), (4017, 0.003371540238663054), (627, 0.003364866450384506), (2832, 0.0033646022360825137), (2310, 0.0033508654680252546), (1210, 0.003346782026366456), (2889, 0.00334447696517923), (3159, 0.003344326319237093), (3479, 0.003343478594407414), (2407, 0.00333708697531013), (4529, 0.003332216856576501), (3262, 0.0033239103806965292), (1153, 0.0033218464531827537), (4749, 0.0033212821977332127), (4019, 0.003318737811007297), (3052, 0.003303745963718412), (2901, 0.0032968306468491673), (2559, 0.003296583395427228), (526, 0.003295722606619713), (4704, 0.00328013017862229), (3128, 0.0032788503342034724), (4696, 0.0032731601247532904), (2350, 0.003269619727856108), (2415, 0.0032689888793907946), (4102, 0.00326707116593808), (2257, 0.003262228433772516), (3892, 0.0032561579654353905), (3322, 0.0032520033862404596), (3922, 0.003251324795153612), (4407, 0.0032495991484845447), (3762, 0.0032424862191449437), (3848, 0.0032400739360117416), (3561, 0.0032398252358608053), (3429, 0.0032390053952991893), (3878, 0.003231750995812691), (2199, 0.0032310840047781956), (4611, 0.003228463175151022), (3292, 0.0032270533595094362), (4221, 0.003226171464707832), (4484, 0.0032251332831080876), (3939, 0.00322474474713366), (4544, 0.0032124620443790253), (3354, 0.003211134205825832), (3219, 0.003202709149063242), (2423, 0.003202443741132569), (2286, 0.0032024045693369754), (2425, 0.003201570735492452), (2673, 0.003192236941250349), (4418, 0.003192025235621408), (4606, 0.0031894721930810547), (2993, 0.0031869851969376574), (889, 0.003185846235798388), (4400, 0.003184254276557177), (475, 0.0031836097770697727), (3015, 0.0031830049502666502), (2838, 0.003176687340496581), (4230, 0.003167754635258387), (4458, 0.003166468609339521), (1711, 0.003155006212920666), (3140, 0.0031516593960353033), (4298, 0.0031514168678392455), (4107, 0.003140949941566913), (3687, 0.003137149660421339), (3396, 0.003135598315282181), (2448, 0.0031350723176980008), (4521, 0.003130919441712327), (3081, 0.003128544937962571), (4142, 0.0031123395170084608), (3874, 0.003108241488601644), (4572, 0.0031002005649095016), (4306, 0.0030970289882459646), (3544, 0.0030938367483217726), (1121, 0.003092815191839007), (3537, 0.003088223421068476), (3074, 0.003088030952561245), (2966, 0.003087655572256383), (1593, 0.003086312316015781), (2454, 0.0030858396455987498), (4002, 0.003083730890264961), (3282, 0.0030820492585914685), (3020, 0.003081909974575289), (4030, 0.003075434534281245), (4723, 0.003072127143776536), (2438, 0.0030716584283066537), (2957, 0.0030713772670646704), (3613, 0.0030707792281627175), (1208, 0.0030686966009692766), (3832, 0.0030662027095533497), (2797, 0.0030647831588327882), (3620, 0.003062202066618028), (2557, 0.003053538574456087), (3363, 0.0030526486469020925), (2834, 0.0030518348921884284), (3031, 0.0030487004526119285), (3239, 0.0030482685513461417), (2266, 0.0030469401615933426), (3577, 0.003045987165986822), (2544, 0.003043676472866456), (3357, 0.0030363258348034415), (3419, 0.0030330754757724814), (4584, 0.0030300008944546446), (3358, 0.003025673266329466), (2488, 0.003022386896491768), (3763, 0.0030216415886118587), (326, 0.0030193512472260083), (2786, 0.0030179430144930204), (2848, 0.0030177551821065998), (4717, 0.0030128005877540177), (2890, 0.003007466684219933), (3302, 0.002999269229365532), (3072, 0.002998982691923138), (777, 0.002998527559889828), (3952, 0.002992092578885889), (2895, 0.002988382660680712), (4694, 0.0029834398212903925), (4243, 0.0029805980576181066), (4692, 0.0029805818061295363), (4416, 0.0029798373417764964), (489, 0.002977792470381249), (3729, 0.002976897360023097), (4209, 0.0029766199588885578), (2738, 0.0029760590860170174), (3359, 0.002974988243375915), (4280, 0.0029748777298959795), (1049, 0.002974268936449576), (3616, 0.0029734347813254306), (4753, 0.0029673329930565116), (2872, 0.002957270342679467), (2772, 0.0029558120073150495), (3621, 0.0029555279149353817), (2707, 0.0029552553027870506), (4589, 0.002955189161572657), (1169, 0.002951967965127161), (3296, 0.002950756310644515), (4147, 0.0029504140726809474), (3206, 0.002947649658734263), (1637, 0.0029470426285150703), (4632, 0.0029456485433580547), (4126, 0.00294548022248858), (2434, 0.0029440578677144024), (2613, 0.0029401310087227572), (518, 0.002940012101797779), (2987, 0.002939974927920968), (1547, 0.002937902985598741), (2570, 0.0029339507097757333), (3772, 0.0029335850138595557), (2378, 0.0029304258907106645), (4075, 0.0029266753731100967), (1748, 0.0029245512447202983), (448, 0.002923740744738381), (1947, 0.0029198377904883395), (3866, 0.002918539449217299), (823, 0.0029181471607806504), (3413, 0.002917994844640712), (2142, 0.002917754784090053), (4633, 0.0029177309099099624), (3355, 0.0029171663806680593), (2437, 0.0029162225696917005), (3540, 0.0029145603137562953), (2857, 0.0029141522802423685), (2986, 0.00291081097231334), (2619, 0.00291047652818312), (2696, 0.0029095468465851074), (614, 0.0029093792794910476), (3935, 0.0029076508382330584), (4145, 0.0029066124247829157), (3165, 0.0029065896307322973), (2914, 0.002905450905485822), (3754, 0.002905082471347042), (1187, 0.0029039874738993336), (985, 0.002903200404750827), (4117, 0.0029017295594643317), (3307, 0.0028995878874737407), (3967, 0.0028992242942690073), (3884, 0.0028986045149774035), (2269, 0.002897373163552609), (431, 0.0028972459201676436), (2535, 0.0028971152957560165), (3364, 0.0028968591625311577), (4333, 0.0028964315766595483), (3274, 0.002895035915516905), (2478, 0.0028906164065950635), (4713, 0.0028906054179546605), (3337, 0.002889780448110164), (2320, 0.0028885114094830498), (1497, 0.002885093044436917), (1792, 0.002880385581160234), (3745, 0.0028802589309821986), (3911, 0.0028786566347151635), (4295, 0.0028774318044667664), (4267, 0.002872448742838261), (3308, 0.002872338974232725), (3719, 0.002869604170023845), (3258, 0.0028655043113118583), (4369, 0.0028642739174977155), (3651, 0.0028618462193274953), (4051, 0.0028603672253420657), (2411, 0.0028594794147834357), (4269, 0.002855841586082515), (1656, 0.0028546659081524067), (478, 0.002851438977185432), (922, 0.0028514012817142977), (813, 0.0028501607534573876), (4368, 0.0028493456473634754), (2623, 0.0028488552196697116), (3560, 0.0028476642174706727), (4397, 0.002847396895733995), (4575, 0.0028467251922797564), (2108, 0.002845932205170825), (2134, 0.0028354591799016203), (925, 0.002834462647318659), (3962, 0.0028340615044994168), (2702, 0.002829203157172843), (3062, 0.0028277379403328523), (1168, 0.0028270890956098365), (4535, 0.002826983286446314), (2302, 0.0028260064186277824), (857, 0.0028254285597321227), (2974, 0.002825347802067924), (3148, 0.002825087697694047), (3003, 0.0028249386796800452), (2916, 0.0028220681695240012), (3497, 0.002821485934187904), (2924, 0.0028214307849170196), (4308, 0.0028206478929047717), (576, 0.002819922678949342), (4507, 0.0028190805819887674), (4516, 0.002818339011755581), (2475, 0.002818188052496172), (1887, 0.002817208629889942), (3044, 0.0028171779727254763), (1909, 0.00281715358132053), (3590, 0.0028145080499206126), (4650, 0.002813749972091532), (596, 0.002813180549116321), (3026, 0.0028120073246344947), (999, 0.002810439886557082), (3064, 0.002808255146581124), (2400, 0.0028030826937032755), (3186, 0.0028028163646990887), (3425, 0.002802405896067016), (3506, 0.0028020001504307605), (739, 0.00280120099292799), (2585, 0.002800146639604098), (2720, 0.0027994117276225654), (1499, 0.0027958971425489387), (3737, 0.0027955572959839094), (2705, 0.002794889771860521), (2748, 0.0027936652300577514), (3804, 0.002793414190466611), (2356, 0.00279109340442308), (2223, 0.002790197261157394), (3714, 0.002789665559380174), (3007, 0.0027875139050302705), (4130, 0.002783859044790575), (3116, 0.0027822875856723384), (4042, 0.0027821300851763554), (1109, 0.0027817480388762305), (4706, 0.0027808377547779805), (4718, 0.0027803667252343255), (419, 0.002780247439172328), (3414, 0.0027798532956241177), (2796, 0.002776404502080621), (3611, 0.002774941889557649), (998, 0.002774083179184153), (2629, 0.0027720090158234044), (4140, 0.0027712639830919285), (3639, 0.002771213189591417), (2884, 0.0027698644003657596), (3234, 0.0027688683062116457), (1862, 0.0027682138230461567), (4101, 0.002768170998394331), (1890, 0.002766975417239835), (2410, 0.002766485784333984), (235, 0.0027652845376401575), (4680, 0.0027633813220946765), (3417, 0.0027611323729187175), (3877, 0.0027598211328861283), (1580, 0.002759486277208791), (791, 0.002759230419085739), (3434, 0.002759110039713041), (508, 0.0027587339915060233), (1349, 0.002758070406089513), (2288, 0.002756335270251483), (3037, 0.002756215985286734), (4245, 0.002755652215501118), (308, 0.0027541305605716902), (587, 0.002753648067957513), (4087, 0.0027533965814778155), (4471, 0.0027520803071014862), (3893, 0.002751797653432556), (1594, 0.002750457998547632), (476, 0.0027489827419268625), (1848, 0.0027467287057392786), (3230, 0.0027464078810288763), (1905, 0.0027458059382866463), (3601, 0.0027428815193805637), (2888, 0.002741707770653662), (2664, 0.0027392798566919807), (4113, 0.00273621477834636), (1959, 0.00273448855713614), (3187, 0.002733841567748517), (4528, 0.0027322263640137297), (623, 0.002731298547646892), (1733, 0.0027311702768579873), (2561, 0.0027310330323859476), (2260, 0.002730698839881936), (2390, 0.002730592496960497), (4160, 0.0027300868226885567), (4396, 0.002729800399791626), (253, 0.0027297366166527796), (3587, 0.002727860902362269), (4625, 0.002727146359638582), (2755, 0.0027266332403278826), (8, 0.002726507207392384), (887, 0.002724431612874216), (4734, 0.0027237308065110933), (1805, 0.002721918045971117), (3770, 0.002719158283278852), (3273, 0.0027188989920455564), (12, 0.0027187713712405128), (4657, 0.0027185566136094974), (499, 0.002718374936823285), (4363, 0.0027171927015176216), (4138, 0.00271714489422185), (2830, 0.002715555731232037), (2592, 0.002713427077963012), (4448, 0.002713340269008052), (4024, 0.0027126088489250566), (4545, 0.0027122106110259885), (3889, 0.0027116985340909926), (1474, 0.0027116195516705514), (3183, 0.0027111059960724456), (3593, 0.0027110981531749735), (3813, 0.002709913853766461), (4540, 0.002709268039756807), (4401, 0.002708236637950436), (3198, 0.0027080109573840144), (4355, 0.002707753722234489), (4330, 0.0027077032605094978), (2176, 0.0027070322276886954), (2776, 0.0027059247043826388), (3677, 0.0027041859790694713), (2595, 0.002703065325661762), (3406, 0.0027030442381398077), (4161, 0.002702106212637885), (3749, 0.002701208306556276), (3013, 0.0027011986420318146), (2159, 0.002699487846510707), (2624, 0.002699339073846318), (41, 0.0026993325293615984), (4419, 0.002698945634050239), (4263, 0.002698893156657318), (4259, 0.0026985212685189204), (3636, 0.002696791812690796), (318, 0.002696532318884487), (1995, 0.002696284888591167), (3235, 0.0026957678193407024), (1907, 0.002694601237881532), (2293, 0.0026941718128700234), (3915, 0.0026922747178909174), (1409, 0.002691128095543891), (1518, 0.002690227235666137), (2391, 0.002689419879750236), (3271, 0.0026882202273308974), (2230, 0.002687973475475104), (3269, 0.0026868851358107545), (2970, 0.0026867182085866933), (3873, 0.0026850120693060055), (444, 0.0026833195007801), (4489, 0.002682551172236265), (4732, 0.0026819513642506168), (3781, 0.002680497010808861), (4079, 0.0026782294684636835), (612, 0.00267807325958485), (1479, 0.0026779329723887815), (4497, 0.0026740595688470635), (4132, 0.0026725657784336153), (3845, 0.0026712903741789944), (1294, 0.0026707956632841413), (2361, 0.0026705705944307144), (3527, 0.0026680366883144314), (3757, 0.002667988433137551), (4495, 0.0026667213951672777), (4111, 0.002666310784341699), (262, 0.00266529902761948), (2882, 0.002665190366914531), (2190, 0.00266503185912143), (2531, 0.002663972090977491), (74, 0.002663665293856188), (826, 0.0026616103583191105), (3101, 0.002661318522498808), (2151, 0.0026603607095346273), (1007, 0.002660224854414057), (4175, 0.0026589006974822513), (2863, 0.002658114907089307), (1765, 0.002656371108003545), (872, 0.002655398186414058), (2507, 0.002654830422747274), (2821, 0.0026548108582434456), (680, 0.0026538025624584247), (456, 0.0026519393785533873), (1893, 0.0026506490798831905), (1896, 0.0026506484521481074), (3920, 0.002648236360634975), (2394, 0.002648188275197931), (4357, 0.002647926971884357), (1851, 0.0026478416729082033), (2926, 0.0026463703327227043), (3678, 0.0026442570958467183), (890, 0.0026427075087408973), (4361, 0.002642688865505858), (4505, 0.0026426173790623964), (1916, 0.0026419996761719994), (1670, 0.002641426145526825), (1822, 0.002641079083907621), (4014, 0.002641018709064529), (865, 0.00264087595618072), (4136, 0.0026383520322435195), (2953, 0.0026360715327515207), (395, 0.002635310757610157), (3084, 0.002634484052962842), (564, 0.002633556983756854), (3326, 0.002633279034027616), (3372, 0.00263211460232624), (2661, 0.0026320967649198124), (192, 0.002628532513246422), (3496, 0.0026271458021652214), (3224, 0.0026262887250087744), (2911, 0.0026254419782530563), (1324, 0.0026252375530291276), (3449, 0.002624721289922993), (2609, 0.002624376336210105), (1516, 0.00262335700565013), (4318, 0.0026224243969588286), (4354, 0.0026214761795812546), (3075, 0.002620793045211378), (4574, 0.002618557360973454), (884, 0.0026179113618545655), (848, 0.0026176876894213907), (23, 0.0026158386466628284), (2105, 0.0026153583837936023), (4273, 0.0026147518588199013), (3987, 0.0026138479307094985), (4225, 0.002613741676440242), (4169, 0.0026137101441134126), (4420, 0.0026127202457654555), (933, 0.0026119656795363664), (1683, 0.002610856439233531), (1463, 0.0026085838087145), (4262, 0.002607938470857281), (2495, 0.002607441203996808), (2067, 0.002607000093626872), (2610, 0.002606990752650879), (20, 0.00260696570741931), (3314, 0.0026069158433189186), (1703, 0.002606690562656305), (3902, 0.0026065846007997185), (783, 0.0026042774657560486), (4501, 0.0026040444013633907), (1364, 0.0026035007857067136), (2894, 0.002603321940324614), (1439, 0.0026021410719628815), (717, 0.002602136493470619), (3184, 0.0026013636901752527), (2289, 0.0026007661874671746), (1350, 0.002599591064936617), (3290, 0.0025987345226402923), (246, 0.0025976109815613315), (2554, 0.002597546466233854), (4, 0.0025970828323022906), (2940, 0.0025966122275591984), (2419, 0.002595214479456186), (4286, 0.0025949602949922558), (2242, 0.002594182116179942), (4083, 0.0025940100017255593), (2878, 0.002592612025859269), (2292, 0.0025924593383220905), (4566, 0.00259242496037408), (4422, 0.0025920544903193397), (4643, 0.002591525682723933), (3493, 0.002591240975890268), (3388, 0.002590926190414286), (3654, 0.002589773443320511), (4056, 0.0025893315847398527), (4427, 0.002589304679798322), (2319, 0.0025890529955561858), (3016, 0.0025887181962632334), (4446, 0.002587809020387235), (3283, 0.002587558805879405), (3241, 0.0025875267977228263), (2900, 0.002586675989707233), (4756, 0.0025865192799787067), (2148, 0.0025854911292660125), (1570, 0.0025839050698100974), (1660, 0.0025838749571534874), (3225, 0.0025826120580119717), (2725, 0.002581584602199033), (1946, 0.0025813638665906804), (4340, 0.002581322816615519), (66, 0.0025803228555922233), (987, 0.0025790484748486756), (3765, 0.0025776771622297847), (1286, 0.0025773584543275444), (1402, 0.002576776450524832), (2746, 0.002576112233774329), (3242, 0.0025756534970552505), (2943, 0.0025754601640484488), (4520, 0.0025732921436821886), (2783, 0.002571953795572987), (2386, 0.002570678040336535), (871, 0.0025699754375641272), (2393, 0.002569158251263325), (3353, 0.002568861930946085), (1122, 0.0025674517257062946), (11, 0.00256621394092231), (588, 0.0025655299392094676), (3526, 0.002565124685267597), (4287, 0.0025651194723643905), (2946, 0.002564569135609555), (3182, 0.002564151174651316), (2048, 0.002563272530176042), (2072, 0.0025630168655279154), (3113, 0.0025619730804178295), (4054, 0.002561163717326256), (579, 0.0025611454821303065), (2387, 0.0025560699850471873), (3551, 0.002555238382297161), (4334, 0.0025544905226162953), (3565, 0.0025537987127672904), (3707, 0.002551388579639256), (178, 0.002549770205523924), (4686, 0.002549714313712752), (4461, 0.0025488639261014986), (3882, 0.002547508284138503), (2405, 0.002547328969895781), (2083, 0.0025459740071798504), (3289, 0.002545861038717455), (2492, 0.0025443564996224855), (3093, 0.0025440246920165723), (71, 0.002541920432558263), (4391, 0.002539665425907619), (3542, 0.0025393995575196185), (2370, 0.002538810618051804), (4693, 0.0025386790475359854), (504, 0.00253672390264748), (3491, 0.002536534648616148), (1722, 0.002536390604582343), (2792, 0.002536070152289833), (3478, 0.002535828343777064), (378, 0.0025354804382351276), (211, 0.0025334883815589476), (1645, 0.0025326195804644914), (4573, 0.0025320207293149993), (2466, 0.0025318009301039633), (2652, 0.002531429976333882), (1717, 0.0025305720939944763), (3216, 0.0025302146014680818), (3792, 0.0025298994982082706), (1176, 0.002527667024667149), (3564, 0.002527045544013104), (1533, 0.002526897011373619), (226, 0.002526850392476424), (3214, 0.0025267533696353116), (3827, 0.00252652232247773), (4563, 0.0025263864646684095), (3809, 0.002526003361303217), (1110, 0.0025242602696550907), (115, 0.002523643038001454), (2396, 0.0025229891318450832), (4326, 0.002521752132038171), (1355, 0.0025217254310177266), (3673, 0.0025212438276541937), (3348, 0.0025198396112343447), (1831, 0.0025198035660535982), (2385, 0.0025178054138147604), (2904, 0.002517355299878539), (3917, 0.002516770740343716), (169, 0.0025166097039342338), (1410, 0.002514671069453625), (3445, 0.0025143216317844567), (969, 0.0025125286338374235), (3150, 0.002511949504218747), (2073, 0.0025113428988668956), (3341, 0.002509504771972715), (2416, 0.0025092248373865386), (2853, 0.002508972120392871), (755, 0.0025087015254814707), (2533, 0.0025086318089628298), (3701, 0.0025085014547302628), (2401, 0.002508497416687939), (2169, 0.0025084529854716062), (749, 0.002507898955782101), (198, 0.002506007056764043), (1163, 0.002505735230575074), (1411, 0.0025056607820476457), (4049, 0.0025055928244838432), (3517, 0.0025055484524429033), (2972, 0.0025049414865856924), (3647, 0.0025022990258463385), (1476, 0.0025014093374631), (2268, 0.0025010777537632137), (4266, 0.002498774354466463), (2340, 0.002498497975762898), (4604, 0.002498236980139087), (3174, 0.0024966477463032343), (4129, 0.002496166878951347), (4135, 0.0024950840861809476), (377, 0.002495047558172399), (1768, 0.0024942847572323452), (2192, 0.0024934543461189815), (993, 0.0024922096879103637), (1072, 0.0024919995293289712), (2313, 0.0024915402343257823), (2422, 0.002489576530245997), (1102, 0.002489365506919136), (3799, 0.0024887983317784805), (2999, 0.0024874477718382767), (4640, 0.0024869183955750526), (1378, 0.0024859435419385275), (3335, 0.0024853444840675478), (1319, 0.002485054178733576), (3811, 0.002483944412690285), (4687, 0.002482096499178695), (4567, 0.002477785615667391), (1313, 0.002476018084068738), (3500, 0.002475589897744809), (1131, 0.0024739490242837317), (3900, 0.00247391905880592), (400, 0.002473817374229217), (1574, 0.0024726484864093937), (4428, 0.0024713455082142417), (4530, 0.0024697413597727447), (4139, 0.002469574429870756), (4228, 0.0024681004811373144), (4487, 0.0024679829554560026), (1693, 0.0024676692145342645), (693, 0.0024674989699216073), (4320, 0.002467050492833286), (3173, 0.002466472206616082), (2651, 0.002466292728819306), (114, 0.002466242326071613), (1170, 0.0024659860922609258), (2802, 0.00246457327340028), (1304, 0.0024641540025710446), (2354, 0.0024631647151954874), (157, 0.0024615475026026606), (1969, 0.0024600182350046932), (1598, 0.0024595236137767785), (2173, 0.002458129742722075), (4550, 0.002458120635761743), (1100, 0.0024574515890349183), (2060, 0.002457131779693421), (2945, 0.0024569981217899576), (4183, 0.0024568950535465896), (3402, 0.0024566705932916265), (4345, 0.0024564927315881054), (4036, 0.002455984581185874), (2226, 0.002455290467860898), (1706, 0.0024547138274004835), (2397, 0.0024542900143923376), (2912, 0.0024532744573365064), (3606, 0.002452970928901976), (1298, 0.002452587164632196), (3641, 0.002452551000450671), (2111, 0.0024518371978854924), (4254, 0.0024509462897582177), (490, 0.00245086983933322), (2571, 0.0024493092374602977), (487, 0.0024473079189168377), (247, 0.002445839649422243), (3268, 0.002445719437140387), (973, 0.0024455187918948165), (2430, 0.0024440716006480048), (4409, 0.002443143568403629), (646, 0.0024424969600128615), (2195, 0.002442250642625977), (1882, 0.002442053081902171), (2569, 0.002441755842821012), (1634, 0.0024417475078074673), (3477, 0.002440733964337127), (1204, 0.0024406340807422108), (522, 0.002440509117145426), (2826, 0.0024401968917704335), (2779, 0.002439056712214059), (959, 0.002438694527866548), (4394, 0.0024381625987156667), (3381, 0.00243804276312531), (4059, 0.002436762564244574), (507, 0.002436143824666543), (3898, 0.0024350724406707867), (3706, 0.00243503918666372), (4304, 0.002434177280480159), (4213, 0.00243344701397184), (3615, 0.002433303820554095), (2965, 0.0024332731716818923), (2909, 0.0024329364893382307), (349, 0.0024326776322007053), (3441, 0.00243241720952548), (4197, 0.002432377572989992), (3953, 0.002430252934317609), (1027, 0.0024288355824767668), (1026, 0.002428777363435763), (4020, 0.0024284291256303644), (3739, 0.00242824373109966), (3170, 0.0024280443589876095), (4729, 0.0024272861590506874), (3557, 0.0024270515379498665), (3691, 0.0024266986937305163), (2317, 0.0024262507158462794), (3890, 0.0024259012987385776), (348, 0.0024254153416712735), (698, 0.0024238441818282552), (883, 0.0024233923549150625), (4743, 0.002423038094512748), (26, 0.0024229738827267993), (1666, 0.0024228457276725263), (373, 0.002422371127475624), (1422, 0.0024218593715013897), (98, 0.0024207803659473436), (2131, 0.002420385382149203), (466, 0.002418346075131612), (4206, 0.002416644059037098), (1284, 0.0024156746695523745), (2593, 0.0024141850933641408), (2642, 0.002413658211110072), (1247, 0.0024122596501514296), (2068, 0.0024118796475470247), (1663, 0.002410111872101144), (3906, 0.0024100641202036495), (4069, 0.002409998907377785), (4641, 0.002409642671034728), (1891, 0.0024091749159744834), (541, 0.0024081473056545444), (1060, 0.002407892593314438), (4011, 0.002407727485626387), (4381, 0.002407437109080841), (1597, 0.0024040945929799384), (2997, 0.0024033282447765993), (1408, 0.0024030325019482545), (2461, 0.0024029723386565244), (1117, 0.0024011522567157894), (1617, 0.0023993994989448112), (1813, 0.0023989139789597942), (2612, 0.0023986532309804094), (127, 0.0023983688315152903), (4536, 0.0023975466944080627), (854, 0.0023974570538517434), (2117, 0.0023971401135879566), (1032, 0.002396476228561683), (759, 0.002396055201682398), (3069, 0.0023951651104255523), (1921, 0.0023944937913142083), (3646, 0.0023939348556545202), (1742, 0.002393063474544143), (1550, 0.0023914968423510144), (1782, 0.0023909998969307168), (2765, 0.002390965255411299), (3298, 0.002390559243256213), (2402, 0.0023904681810502917), (2528, 0.0023895804000572825), (4080, 0.002388921771905081), (941, 0.0023884534966936793), (1416, 0.0023881403900025775), (2166, 0.0023878228674525078), (4356, 0.0023870792001146955), (3379, 0.0023861583065305485), (140, 0.0023859126919594503), (3194, 0.0023855724787583644), (4472, 0.0023854835979242096), (1084, 0.0023847455745701603), (3220, 0.0023844162703270033), (221, 0.0023843168162503234), (132, 0.0023837666766901404), (215, 0.0023833666799439124), (1002, 0.00238296620691876), (1641, 0.002382648842572427), (1628, 0.0023823599983356547), (1161, 0.002382159411434351), (1744, 0.0023802481232810158), (4085, 0.002378361504026965), (2446, 0.002377936998232751), (598, 0.002377825990790981), (731, 0.002377776117025015), (471, 0.0023719080935472345), (3050, 0.0023713988436342426), (2907, 0.0023700752868678365), (3390, 0.0023698726777624593), (2679, 0.0023697573799393843), (1404, 0.002367407828444657), (3014, 0.002366850883045034), (473, 0.0023659265310962295), (2892, 0.0023647631168643487), (2634, 0.002363485549565458), (907, 0.002363331356996263), (3725, 0.0023633218483889587), (1877, 0.0023618801207745117), (167, 0.002361343111176686), (325, 0.002360954595726365), (1558, 0.002360885570461829), (505, 0.002360506581660963), (3412, 0.0023604772659031187), (2728, 0.002358088979295633), (2004, 0.002357777018726202), (488, 0.0023565526499132465), (1929, 0.002354425894441108), (589, 0.0023527818434843292), (2527, 0.0023525737487982484), (852, 0.0023509750168420286), (3300, 0.0023479356383700302), (388, 0.002347850604763308), (229, 0.0023473430786140055), (3503, 0.00234731644739177), (4155, 0.002344585377198643), (984, 0.0023442604717108665), (1357, 0.0023438026494723633), (4479, 0.002343210231777882), (3057, 0.0023429699688971065), (3669, 0.0023426021202060366), (3028, 0.0023415053334664335), (2552, 0.0023412997655893222), (1034, 0.002340716734902028), (655, 0.002340394557036126), (4616, 0.0023399032328203038), (2482, 0.0023392673820175564), (2674, 0.0023377361053256835), (2556, 0.0023363641096344014), (355, 0.0023362776187076315), (2099, 0.002334775083466574), (1884, 0.0023330421928954687), (121, 0.002332852576652466), (975, 0.0023327753983105087), (2735, 0.0023325363085191396), (3627, 0.0023322561146412028), (624, 0.0023314820531016283), (1642, 0.0023313765280274777), (372, 0.0023312939421590317), (659, 0.0023312929484670323), (798, 0.002330317741883671), (399, 0.0023302459722614765), (4634, 0.002329395149702331), (1372, 0.0023278375164766016), (767, 0.002327592241553886), (2141, 0.002327307642944322), (3243, 0.0023254447885566543), (4174, 0.002325321560250032), (212, 0.0023244695914917163), (2800, 0.002322801831208815), (4473, 0.0023222383083036638), (2367, 0.0023218155477704697), (1203, 0.0023217736760835685), (359, 0.002318004778099004), (2954, 0.002317803211632331), (4638, 0.002316173937702102), (1217, 0.002315221501215098), (3071, 0.0023151872644377584), (3563, 0.0023151820727332867), (2862, 0.0023146548398164987), (4277, 0.0023140400810927643), (3147, 0.00231350136736452), (1814, 0.002310786964823557), (1605, 0.0023093108504446728), (279, 0.002308849340066101), (92, 0.0023087737421295675), (136, 0.0023081996095727464), (605, 0.0023054775756161856), (1036, 0.0023049467979874083), (3369, 0.0023045517216776093), (1273, 0.002303892406540215), (886, 0.002303792812329841), (2453, 0.002302434938889602), (3863, 0.002299592797057369), (2201, 0.0022976850358296026), (4712, 0.0022973177828806667), (594, 0.0022972347346501025), (158, 0.0022962403182993788), (2741, 0.0022946278960590837), (1826, 0.0022941983256548797), (3455, 0.0022935027557745786), (2457, 0.0022934250158455714), (3278, 0.002292605392494688), (944, 0.002291891311704212), (1503, 0.0022912136206350814), (1340, 0.002290993947810608), (4348, 0.0022906210438006164), (1079, 0.0022903212259016504), (3614, 0.0022901921295183734), (4359, 0.0022891724243693638), (1434, 0.002288871959380833), (2399, 0.0022878566572179185), (154, 0.002287127079206242), (3986, 0.002285986881004434), (4350, 0.002284187849040974), (4620, 0.0022812047987471403), (3027, 0.0022809398395244704), (1209, 0.002279272200893443), (4220, 0.0022781099150129503), (1528, 0.002276828489011127), (324, 0.0022753486210311587), (1808, 0.002274914642451251), (2129, 0.0022748951458635646), (805, 0.0022745980489767754), (410, 0.0022744519220120056), (2525, 0.0022743556038786077), (4386, 0.002272474873526388), (3311, 0.0022709884238846286), (103, 0.002270407245881734), (2213, 0.0022689372254793504), (4143, 0.0022689009905389065), (1456, 0.0022682231975384094), (1827, 0.0022677535651538087), (1004, 0.0022651861010819364), (1098, 0.00226334279408574), (1427, 0.002263017403415094), (1392, 0.0022617770493232664), (3304, 0.002261199236257559), (1625, 0.0022607910491901887), (3755, 0.0022601128122483466), (268, 0.002259054557033496), (1672, 0.002258643074972398), (2163, 0.00225861323166934), (278, 0.0022570256821961305), (2845, 0.002256990226715168), (495, 0.0022568539654663935), (1543, 0.0022566633478612614), (703, 0.0022563118625894317), (3894, 0.0022558974337471838), (524, 0.0022556343927686265), (1080, 0.0022548123366580436), (3742, 0.0022513640841677032), (2747, 0.002250186744904954), (2502, 0.0022501513568797425), (4066, 0.002249219128147288), (4296, 0.0022472756467895208), (457, 0.002245604247263432), (1869, 0.002244715837549936), (647, 0.0022437756850429186), (1719, 0.002243394580045167), (1366, 0.0022422630207619425), (2287, 0.0022416304030794553), (1219, 0.002241068946432543), (416, 0.0022400308764750254), (2611, 0.0022388190166474824), (1830, 0.0022384870897567627), (815, 0.0022377581377111427), (2338, 0.0022333432691785675), (1565, 0.002230990852746242), (267, 0.002230856689229146), (2591, 0.0022304711286269545), (3327, 0.0022300002789694667), (3380, 0.002228713590220245), (184, 0.002228654963988118), (1251, 0.002226345432152265), (3795, 0.002223573027541079), (4343, 0.0022217710917047705), (1980, 0.002220128337978646), (1199, 0.0022201174666231344), (722, 0.002219364537253935), (856, 0.0022190953044771695), (4476, 0.0022190231828670528), (286, 0.0022155053738516757), (4429, 0.0022144797704825867), (2976, 0.0022128771791246754), (2721, 0.002208870766490068), (2240, 0.002207594243276768), (4247, 0.002205255942119655), (1352, 0.002204991836573249), (3336, 0.002202821262058412), (4074, 0.002201543536812796), (1423, 0.0022014833223323784), (249, 0.0022003058737122), (2743, 0.002198251145404021), (2753, 0.0021926724643857452), (165, 0.0021907469925805272), (1318, 0.0021903265309619387), (3211, 0.0021901171057960352), (480, 0.0021893737620109093), (3238, 0.0021855642911044718), (1616, 0.0021827250735221163), (1450, 0.0021820728412279364), (2270, 0.002179901955356421), (4411, 0.002177541590781117), (4200, 0.0021770366934592625), (712, 0.002175579698501654), (3569, 0.0021726916978908302), (3657, 0.00217246716712428), (2323, 0.002172401061480732), (2146, 0.0021712528906399874), (4151, 0.0021711949507533432), (3393, 0.002168557873463701), (1954, 0.002167494025342101), (4636, 0.002160393380751018), (3431, 0.0021581625745761015), (1394, 0.002158110342194703), (2520, 0.0021569027962701744), (97, 0.00215590449727805), (3252, 0.0021547703352964654), (1801, 0.002153805426158385), (2047, 0.00215167932931589), (3575, 0.0021471117540122343), (2509, 0.0021460973865313863), (357, 0.0021457123185024893), (3254, 0.0021415802181011176), (3629, 0.002139957752828448), (1301, 0.0021376216432395212), (1370, 0.0021333972159694034), (2382, 0.0021286754444430804), (3548, 0.0021284323364470902), (1943, 0.0021281893463722225), (195, 0.0021265200436143246), (951, 0.002125982431442053), (1042, 0.00212158610863344), (3200, 0.0021207755471044044), (2034, 0.0021206335668950064), (4015, 0.0021201301570878896), (3056, 0.002119529710348221), (1088, 0.0021193157973628625), (2359, 0.0021184256523409297), (1040, 0.0021171138228474064), (3668, 0.002112050062576127), (3928, 0.002107105268113096), (3855, 0.002105007987255442), (1828, 0.0021023381902480886), (194, 0.0021018186691446816), (626, 0.00210071189363187), (3347, 0.00209974410806696), (1691, 0.0020994879203472283), (2132, 0.002097903886321135), (1415, 0.0020962939405388442), (4311, 0.0020959459913934904), (707, 0.0020927763322914367), (2761, 0.002092002222334943), (2526, 0.002091759751314332), (4626, 0.002084281645141073), (2127, 0.00208372048490567), (2758, 0.0020787171777758512), (645, 0.0020768132587283107), (4744, 0.002075139809451613), (3024, 0.002074189009754417), (901, 0.00207327205707483), (2039, 0.002072549620996782), (1624, 0.0020706551934262735), (432, 0.0020662604083846116), (196, 0.002061963485675877), (1305, 0.0020562189510316274), (4598, 0.0020491185478241827), (2441, 0.0020420225125790032), (3538, 0.0020364445938134794), (453, 0.0020167127119537914), (1677, 0.002002566216158224), (2010, 0.0019899790663906246), (2766, 0.001979682743071721), (351, 0.0019767817347186075), (1277, 0.001974789565251029), (3199, 0.0019727359857717665), (3301, 0.0019621879949022376), (607, 0.0019379529548129494), (3626, 0.0019246226387087924), (4301, 0.0018947804216166212), (4445, 0.0018850852622917602), (2902, 0.0018819477857388177), (228, 0.0018608918440025943), (3546, 0.0018472253323173838), (2636, 0.0018459308661318617), (293, 0.0018086991655757066), (4171, 0.001779553779106045), (3365, 0.0017658019114221535), (4752, 0.0017655759132846798), (129, 0.00173958622052031), (24, 0.001711630486993492), (740, 0.0017049968237564798), (3608, 0.0016702497479707643), (3392, 0.001650509788306395), (1780, 0.001640194033946867), (202, 0.0016387769345018427), (2534, 0.0011362396802212483), (1, 0.0), (2, 0.0), (14, 0.0), (17, 0.0), (28, 0.0), (36, 0.0), (37, 0.0), (49, 0.0), (53, 0.0), (54, 0.0), (55, 0.0), (58, 0.0), (59, 0.0), (64, 0.0), (73, 0.0), (91, 0.0), (100, 0.0), (101, 0.0), (117, 0.0), (133, 0.0), (134, 0.0), (141, 0.0), (146, 0.0), (150, 0.0), (151, 0.0), (153, 0.0), (163, 0.0), (171, 0.0), (186, 0.0), (188, 0.0), (205, 0.0), (214, 0.0), (219, 0.0), (223, 0.0), (225, 0.0), (237, 0.0), (245, 0.0), (257, 0.0), (258, 0.0), (259, 0.0), (264, 0.0), (265, 0.0), (272, 0.0), (275, 0.0), (297, 0.0), (298, 0.0), (299, 0.0), (302, 0.0), (312, 0.0), (319, 0.0), (331, 0.0), (335, 0.0), (337, 0.0), (338, 0.0), (339, 0.0), (344, 0.0), (352, 0.0), (361, 0.0), (362, 0.0), (365, 0.0), (366, 0.0), (376, 0.0), (379, 0.0), (382, 0.0), (390, 0.0), (391, 0.0), (392, 0.0), (393, 0.0), (394, 0.0), (401, 0.0), (404, 0.0), (405, 0.0), (411, 0.0), (415, 0.0), (423, 0.0), (427, 0.0), (439, 0.0), (440, 0.0), (454, 0.0), (462, 0.0), (484, 0.0), (486, 0.0), (491, 0.0), (492, 0.0), (498, 0.0), (506, 0.0), (516, 0.0), (517, 0.0), (520, 0.0), (525, 0.0), (528, 0.0), (529, 0.0), (531, 0.0), (535, 0.0), (536, 0.0), (546, 0.0), (548, 0.0), (549, 0.0), (552, 0.0), (554, 0.0), (556, 0.0), (557, 0.0), (565, 0.0), (567, 0.0), (569, 0.0), (570, 0.0), (572, 0.0), (573, 0.0), (574, 0.0), (575, 0.0), (577, 0.0), (585, 0.0), (591, 0.0), (592, 0.0), (599, 0.0), (601, 0.0), (602, 0.0), (603, 0.0), (610, 0.0), (630, 0.0), (649, 0.0), (650, 0.0), (656, 0.0), (658, 0.0), (662, 0.0), (663, 0.0), (665, 0.0), (674, 0.0), (679, 0.0), (681, 0.0), (686, 0.0), (699, 0.0), (700, 0.0), (702, 0.0), (704, 0.0), (708, 0.0), (709, 0.0), (711, 0.0), (713, 0.0), (714, 0.0), (718, 0.0), (720, 0.0), (724, 0.0), (725, 0.0), (726, 0.0), (730, 0.0), (736, 0.0), (741, 0.0), (746, 0.0), (747, 0.0), (751, 0.0), (754, 0.0), (764, 0.0), (770, 0.0), (771, 0.0), (772, 0.0), (773, 0.0), (780, 0.0), (781, 0.0), (784, 0.0), (785, 0.0), (786, 0.0), (789, 0.0), (797, 0.0), (807, 0.0), (819, 0.0), (820, 0.0), (822, 0.0), (837, 0.0), (839, 0.0), (840, 0.0), (841, 0.0), (846, 0.0), (859, 0.0), (881, 0.0), (882, 0.0), (892, 0.0), (909, 0.0), (912, 0.0), (913, 0.0), (914, 0.0), (920, 0.0), (926, 0.0), (938, 0.0), (943, 0.0), (945, 0.0), (946, 0.0), (950, 0.0), (954, 0.0), (955, 0.0), (956, 0.0), (960, 0.0), (961, 0.0), (964, 0.0), (965, 0.0), (971, 0.0), (972, 0.0), (977, 0.0), (978, 0.0), (982, 0.0), (983, 0.0), (990, 0.0), (995, 0.0), (1008, 0.0), (1010, 0.0), (1011, 0.0), (1013, 0.0), (1016, 0.0), (1022, 0.0), (1025, 0.0), (1028, 0.0), (1029, 0.0), (1031, 0.0), (1038, 0.0), (1039, 0.0), (1051, 0.0), (1055, 0.0), (1056, 0.0), (1057, 0.0), (1062, 0.0), (1066, 0.0), (1067, 0.0), (1073, 0.0), (1081, 0.0), (1086, 0.0), (1089, 0.0), (1091, 0.0), (1093, 0.0), (1097, 0.0), (1101, 0.0), (1103, 0.0), (1105, 0.0), (1106, 0.0), (1108, 0.0), (1113, 0.0), (1126, 0.0), (1130, 0.0), (1133, 0.0), (1135, 0.0), (1139, 0.0), (1142, 0.0), (1143, 0.0), (1147, 0.0), (1149, 0.0), (1151, 0.0), (1155, 0.0), (1156, 0.0), (1159, 0.0), (1165, 0.0), (1166, 0.0), (1171, 0.0), (1178, 0.0), (1180, 0.0), (1189, 0.0), (1190, 0.0), (1193, 0.0), (1196, 0.0), (1198, 0.0), (1200, 0.0), (1201, 0.0), (1205, 0.0), (1212, 0.0), (1218, 0.0), (1221, 0.0), (1222, 0.0), (1227, 0.0), (1228, 0.0), (1233, 0.0), (1235, 0.0), (1240, 0.0), (1242, 0.0), (1244, 0.0), (1246, 0.0), (1253, 0.0), (1256, 0.0), (1258, 0.0), (1263, 0.0), (1265, 0.0), (1268, 0.0), (1269, 0.0), (1271, 0.0), (1285, 0.0), (1287, 0.0), (1288, 0.0), (1289, 0.0), (1291, 0.0), (1295, 0.0), (1296, 0.0), (1297, 0.0), (1299, 0.0), (1315, 0.0), (1321, 0.0), (1322, 0.0), (1323, 0.0), (1326, 0.0), (1328, 0.0), (1333, 0.0), (1336, 0.0), (1346, 0.0), (1353, 0.0), (1354, 0.0), (1368, 0.0), (1373, 0.0), (1390, 0.0), (1399, 0.0), (1424, 0.0), (1437, 0.0), (1441, 0.0), (1444, 0.0), (1447, 0.0), (1457, 0.0), (1459, 0.0), (1460, 0.0), (1466, 0.0), (1467, 0.0), (1468, 0.0), (1470, 0.0), (1473, 0.0), (1485, 0.0), (1487, 0.0), (1490, 0.0), (1491, 0.0), (1495, 0.0), (1496, 0.0), (1508, 0.0), (1511, 0.0), (1517, 0.0), (1520, 0.0), (1521, 0.0), (1522, 0.0), (1524, 0.0), (1525, 0.0), (1529, 0.0), (1532, 0.0), (1534, 0.0), (1535, 0.0), (1541, 0.0), (1545, 0.0), (1548, 0.0), (1549, 0.0), (1556, 0.0), (1557, 0.0), (1560, 0.0), (1561, 0.0), (1563, 0.0), (1564, 0.0), (1569, 0.0), (1577, 0.0), (1578, 0.0), (1581, 0.0), (1584, 0.0), (1586, 0.0), (1589, 0.0), (1592, 0.0), (1596, 0.0), (1599, 0.0), (1600, 0.0), (1601, 0.0), (1602, 0.0), (1603, 0.0), (1604, 0.0), (1606, 0.0), (1607, 0.0), (1610, 0.0), (1611, 0.0), (1613, 0.0), (1615, 0.0), (1618, 0.0), (1626, 0.0), (1636, 0.0), (1638, 0.0), (1639, 0.0), (1640, 0.0), (1646, 0.0), (1649, 0.0), (1651, 0.0), (1657, 0.0), (1668, 0.0), (1669, 0.0), (1673, 0.0), (1679, 0.0), (1686, 0.0), (1689, 0.0), (1697, 0.0), (1698, 0.0), (1700, 0.0), (1704, 0.0), (1709, 0.0), (1725, 0.0), (1726, 0.0), (1728, 0.0), (1729, 0.0), (1731, 0.0), (1734, 0.0), (1745, 0.0), (1751, 0.0), (1755, 0.0), (1756, 0.0), (1758, 0.0), (1766, 0.0), (1767, 0.0), (1769, 0.0), (1771, 0.0), (1775, 0.0), (1777, 0.0), (1778, 0.0), (1783, 0.0), (1785, 0.0), (1786, 0.0), (1794, 0.0), (1800, 0.0), (1803, 0.0), (1804, 0.0), (1810, 0.0), (1820, 0.0), (1823, 0.0), (1824, 0.0), (1825, 0.0), (1834, 0.0), (1835, 0.0), (1836, 0.0), (1839, 0.0), (1842, 0.0), (1844, 0.0), (1855, 0.0), (1856, 0.0), (1879, 0.0), (1883, 0.0), (1888, 0.0), (1889, 0.0), (1894, 0.0), (1898, 0.0), (1899, 0.0), (1912, 0.0), (1915, 0.0), (1917, 0.0), (1926, 0.0), (1928, 0.0), (1932, 0.0), (1938, 0.0), (1944, 0.0), (1955, 0.0), (1956, 0.0), (1961, 0.0), (1963, 0.0), (1965, 0.0), (1966, 0.0), (1972, 0.0), (1974, 0.0), (1978, 0.0), (1979, 0.0), (1984, 0.0), (2001, 0.0), (2002, 0.0), (2003, 0.0), (2006, 0.0), (2007, 0.0), (2009, 0.0), (2017, 0.0), (2019, 0.0), (2021, 0.0), (2025, 0.0), (2028, 0.0), (2030, 0.0), (2032, 0.0), (2033, 0.0), (2036, 0.0), (2038, 0.0), (2041, 0.0), (2042, 0.0), (2043, 0.0), (2046, 0.0), (2050, 0.0), (2054, 0.0), (2059, 0.0), (2063, 0.0), (2071, 0.0), (2079, 0.0), (2081, 0.0), (2085, 0.0), (2086, 0.0), (2090, 0.0), (2092, 0.0), (2106, 0.0), (2107, 0.0), (2115, 0.0), (2118, 0.0), (2120, 0.0), (2124, 0.0), (2125, 0.0), (2128, 0.0), (2135, 0.0), (2138, 0.0), (2140, 0.0), (2150, 0.0), (2152, 0.0), (2153, 0.0), (2164, 0.0), (2165, 0.0), (2168, 0.0), (2170, 0.0), (2171, 0.0), (2172, 0.0), (2179, 0.0), (2180, 0.0), (2182, 0.0), (2183, 0.0), (2186, 0.0), (2194, 0.0), (2200, 0.0), (2204, 0.0), (2207, 0.0), (2215, 0.0), (2217, 0.0), (2218, 0.0), (2219, 0.0), (2220, 0.0), (2222, 0.0), (2225, 0.0), (2227, 0.0), (2233, 0.0), (2234, 0.0), (2238, 0.0), (2241, 0.0), (2243, 0.0), (2247, 0.0), (2249, 0.0), (2253, 0.0), (2256, 0.0), (2259, 0.0), (2261, 0.0), (2262, 0.0), (2263, 0.0), (2267, 0.0), (2271, 0.0), (2272, 0.0), (2274, 0.0), (2281, 0.0), (2282, 0.0), (2296, 0.0), (2297, 0.0), (2300, 0.0), (2305, 0.0), (2307, 0.0), (2311, 0.0), (2312, 0.0), (2315, 0.0), (2322, 0.0), (2325, 0.0), (2327, 0.0), (2329, 0.0), (2331, 0.0), (2332, 0.0), (2333, 0.0), (2337, 0.0), (2341, 0.0), (2342, 0.0), (2343, 0.0), (2345, 0.0), (2351, 0.0), (2352, 0.0), (2357, 0.0), (2360, 0.0), (2364, 0.0), (2369, 0.0), (2372, 0.0), (2373, 0.0), (2377, 0.0), (2380, 0.0), (2381, 0.0), (2384, 0.0), (2389, 0.0), (2395, 0.0), (2398, 0.0), (2408, 0.0), (2409, 0.0), (2414, 0.0), (2420, 0.0), (2431, 0.0), (2433, 0.0), (2435, 0.0), (2445, 0.0), (2450, 0.0), (2451, 0.0), (2452, 0.0), (2455, 0.0), (2456, 0.0), (2458, 0.0), (2462, 0.0), (2465, 0.0), (2470, 0.0), (2471, 0.0), (2472, 0.0), (2479, 0.0), (2483, 0.0), (2485, 0.0), (2491, 0.0), (2493, 0.0), (2497, 0.0), (2498, 0.0), (2499, 0.0), (2500, 0.0), (2504, 0.0), (2508, 0.0), (2511, 0.0), (2514, 0.0), (2515, 0.0), (2516, 0.0), (2518, 0.0), (2521, 0.0), (2523, 0.0), (2532, 0.0), (2536, 0.0), (2539, 0.0), (2542, 0.0), (2543, 0.0), (2547, 0.0), (2548, 0.0), (2549, 0.0), (2551, 0.0), (2562, 0.0), (2564, 0.0), (2566, 0.0), (2574, 0.0), (2575, 0.0), (2577, 0.0), (2578, 0.0), (2583, 0.0), (2584, 0.0), (2586, 0.0), (2588, 0.0), (2589, 0.0), (2590, 0.0), (2594, 0.0), (2596, 0.0), (2597, 0.0), (2604, 0.0), (2605, 0.0), (2608, 0.0), (2615, 0.0), (2616, 0.0), (2620, 0.0), (2627, 0.0), (2631, 0.0), (2637, 0.0), (2641, 0.0), (2648, 0.0), (2656, 0.0), (2657, 0.0), (2658, 0.0), (2659, 0.0), (2662, 0.0), (2663, 0.0), (2666, 0.0), (2667, 0.0), (2669, 0.0), (2670, 0.0), (2671, 0.0), (2672, 0.0), (2675, 0.0), (2676, 0.0), (2677, 0.0), (2681, 0.0), (2684, 0.0), (2685, 0.0), (2686, 0.0), (2690, 0.0), (2693, 0.0), (2699, 0.0), (2701, 0.0), (2703, 0.0), (2704, 0.0), (2709, 0.0), (2713, 0.0), (2715, 0.0), (2717, 0.0), (2719, 0.0), (2729, 0.0), (2730, 0.0), (2734, 0.0), (2737, 0.0), (2749, 0.0), (2750, 0.0), (2754, 0.0), (2756, 0.0), (2763, 0.0), (2770, 0.0), (2773, 0.0), (2781, 0.0), (2785, 0.0), (2793, 0.0), (2794, 0.0), (2799, 0.0), (2804, 0.0), (2806, 0.0), (2810, 0.0), (2811, 0.0), (2813, 0.0), (2814, 0.0), (2817, 0.0), (2818, 0.0), (2822, 0.0), (2824, 0.0), (2827, 0.0), (2828, 0.0), (2829, 0.0), (2835, 0.0), (2836, 0.0), (2837, 0.0), (2839, 0.0), (2842, 0.0), (2850, 0.0), (2851, 0.0), (2852, 0.0), (2855, 0.0), (2856, 0.0), (2860, 0.0), (2864, 0.0), (2865, 0.0), (2866, 0.0), (2875, 0.0), (2877, 0.0), (2880, 0.0), (2891, 0.0), (2896, 0.0), (2898, 0.0), (2905, 0.0), (2906, 0.0), (2921, 0.0), (2922, 0.0), (2927, 0.0), (2928, 0.0), (2930, 0.0), (2938, 0.0), (2941, 0.0), (2950, 0.0), (2951, 0.0), (2952, 0.0), (2955, 0.0), (2956, 0.0), (2958, 0.0), (2967, 0.0), (2968, 0.0), (2973, 0.0), (2979, 0.0), (2982, 0.0), (2983, 0.0), (2990, 0.0), (3001, 0.0), (3002, 0.0), (3006, 0.0), (3009, 0.0), (3021, 0.0), (3025, 0.0), (3029, 0.0), (3034, 0.0), (3038, 0.0), (3041, 0.0), (3047, 0.0), (3048, 0.0), (3054, 0.0), (3058, 0.0), (3059, 0.0), (3060, 0.0), (3061, 0.0), (3063, 0.0), (3068, 0.0), (3073, 0.0), (3077, 0.0), (3078, 0.0), (3080, 0.0), (3082, 0.0), (3087, 0.0), (3088, 0.0), (3089, 0.0), (3090, 0.0), (3092, 0.0), (3103, 0.0), (3104, 0.0), (3105, 0.0), (3106, 0.0), (3107, 0.0), (3109, 0.0), (3115, 0.0), (3121, 0.0), (3130, 0.0), (3132, 0.0), (3138, 0.0), (3141, 0.0), (3145, 0.0), (3162, 0.0), (3169, 0.0), (3172, 0.0), (3175, 0.0), (3176, 0.0), (3177, 0.0), (3181, 0.0), (3188, 0.0), (3189, 0.0), (3190, 0.0), (3193, 0.0), (3197, 0.0), (3201, 0.0), (3202, 0.0), (3204, 0.0), (3207, 0.0), (3208, 0.0), (3212, 0.0), (3217, 0.0), (3221, 0.0), (3223, 0.0), (3229, 0.0), (3231, 0.0), (3236, 0.0), (3250, 0.0), (3251, 0.0), (3261, 0.0), (3266, 0.0), (3270, 0.0), (3272, 0.0), (3277, 0.0), (3281, 0.0), (3286, 0.0), (3287, 0.0), (3305, 0.0), (3310, 0.0), (3320, 0.0), (3321, 0.0), (3323, 0.0), (3324, 0.0), (3332, 0.0), (3333, 0.0), (3340, 0.0), (3343, 0.0), (3350, 0.0), (3366, 0.0), (3368, 0.0), (3371, 0.0), (3378, 0.0), (3383, 0.0), (3394, 0.0), (3397, 0.0), (3400, 0.0), (3401, 0.0), (3411, 0.0), (3415, 0.0), (3422, 0.0), (3424, 0.0), (3439, 0.0), (3442, 0.0), (3444, 0.0), (3454, 0.0), (3459, 0.0), (3461, 0.0), (3467, 0.0), (3472, 0.0), (3473, 0.0), (3475, 0.0), (3476, 0.0), (3481, 0.0), (3482, 0.0), (3485, 0.0), (3489, 0.0), (3490, 0.0), (3494, 0.0), (3505, 0.0), (3510, 0.0), (3519, 0.0), (3522, 0.0), (3525, 0.0), (3529, 0.0), (3530, 0.0), (3532, 0.0), (3533, 0.0), (3539, 0.0), (3543, 0.0), (3545, 0.0), (3547, 0.0), (3549, 0.0), (3550, 0.0), (3554, 0.0), (3562, 0.0), (3567, 0.0), (3568, 0.0), (3573, 0.0), (3578, 0.0), (3581, 0.0), (3585, 0.0), (3589, 0.0), (3591, 0.0), (3592, 0.0), (3595, 0.0), (3600, 0.0), (3603, 0.0), (3607, 0.0), (3609, 0.0), (3610, 0.0), (3617, 0.0), (3622, 0.0), (3625, 0.0), (3628, 0.0), (3631, 0.0), (3633, 0.0), (3644, 0.0), (3649, 0.0), (3650, 0.0), (3662, 0.0), (3663, 0.0), (3671, 0.0), (3676, 0.0), (3681, 0.0), (3682, 0.0), (3683, 0.0), (3685, 0.0), (3686, 0.0), (3688, 0.0), (3690, 0.0), (3693, 0.0), (3695, 0.0), (3697, 0.0), (3698, 0.0), (3700, 0.0), (3702, 0.0), (3703, 0.0), (3709, 0.0), (3712, 0.0), (3716, 0.0), (3717, 0.0), (3718, 0.0), (3722, 0.0), (3724, 0.0), (3726, 0.0), (3730, 0.0), (3732, 0.0), (3735, 0.0), (3736, 0.0), (3738, 0.0), (3740, 0.0), (3743, 0.0), (3746, 0.0), (3758, 0.0), (3759, 0.0), (3760, 0.0), (3761, 0.0), (3764, 0.0), (3773, 0.0), (3783, 0.0), (3785, 0.0), (3786, 0.0), (3789, 0.0), (3790, 0.0), (3791, 0.0), (3796, 0.0), (3798, 0.0), (3800, 0.0), (3803, 0.0), (3805, 0.0), (3808, 0.0), (3812, 0.0), (3816, 0.0), (3817, 0.0), (3818, 0.0), (3820, 0.0), (3830, 0.0), (3831, 0.0), (3834, 0.0), (3836, 0.0), (3837, 0.0), (3838, 0.0), (3840, 0.0), (3843, 0.0), (3846, 0.0), (3847, 0.0), (3851, 0.0), (3856, 0.0), (3858, 0.0), (3859, 0.0), (3869, 0.0), (3870, 0.0), (3872, 0.0), (3879, 0.0), (3885, 0.0), (3887, 0.0), (3891, 0.0), (3896, 0.0), (3912, 0.0), (3914, 0.0), (3916, 0.0), (3918, 0.0), (3921, 0.0), (3929, 0.0), (3930, 0.0), (3931, 0.0), (3933, 0.0), (3936, 0.0), (3937, 0.0), (3943, 0.0), (3948, 0.0), (3950, 0.0), (3963, 0.0), (3964, 0.0), (3965, 0.0), (3968, 0.0), (3969, 0.0), (3971, 0.0), (3972, 0.0), (3977, 0.0), (3979, 0.0), (3980, 0.0), (3981, 0.0), (3982, 0.0), (3985, 0.0), (3988, 0.0), (3991, 0.0), (3994, 0.0), (3996, 0.0), (4003, 0.0), (4006, 0.0), (4010, 0.0), (4018, 0.0), (4021, 0.0), (4022, 0.0), (4026, 0.0), (4027, 0.0), (4029, 0.0), (4031, 0.0), (4034, 0.0), (4037, 0.0), (4040, 0.0), (4041, 0.0), (4058, 0.0), (4063, 0.0), (4065, 0.0), (4067, 0.0), (4070, 0.0), (4072, 0.0), (4073, 0.0), (4078, 0.0), (4084, 0.0), (4086, 0.0), (4097, 0.0), (4100, 0.0), (4108, 0.0), (4109, 0.0), (4112, 0.0), (4114, 0.0), (4115, 0.0), (4125, 0.0), (4127, 0.0), (4131, 0.0), (4144, 0.0), (4146, 0.0), (4150, 0.0), (4153, 0.0), (4157, 0.0), (4159, 0.0), (4166, 0.0), (4167, 0.0), (4168, 0.0), (4170, 0.0), (4173, 0.0), (4179, 0.0), (4180, 0.0), (4181, 0.0), (4184, 0.0), (4185, 0.0), (4186, 0.0), (4188, 0.0), (4190, 0.0), (4191, 0.0), (4194, 0.0), (4198, 0.0), (4199, 0.0), (4201, 0.0), (4204, 0.0), (4207, 0.0), (4212, 0.0), (4214, 0.0), (4215, 0.0), (4218, 0.0), (4223, 0.0), (4224, 0.0), (4229, 0.0), (4234, 0.0), (4237, 0.0), (4238, 0.0), (4239, 0.0), (4241, 0.0), (4250, 0.0), (4253, 0.0), (4256, 0.0), (4258, 0.0), (4260, 0.0), (4270, 0.0), (4271, 0.0), (4276, 0.0), (4278, 0.0), (4279, 0.0), (4291, 0.0), (4294, 0.0), (4297, 0.0), (4300, 0.0), (4302, 0.0), (4305, 0.0), (4313, 0.0), (4315, 0.0), (4316, 0.0), (4317, 0.0), (4319, 0.0), (4323, 0.0), (4324, 0.0), (4327, 0.0), (4329, 0.0), (4332, 0.0), (4338, 0.0), (4341, 0.0), (4346, 0.0), (4347, 0.0), (4352, 0.0), (4353, 0.0), (4358, 0.0), (4364, 0.0), (4370, 0.0), (4372, 0.0), (4393, 0.0), (4404, 0.0), (4405, 0.0), (4406, 0.0), (4408, 0.0), (4410, 0.0), (4413, 0.0), (4414, 0.0), (4415, 0.0), (4417, 0.0), (4421, 0.0), (4424, 0.0), (4425, 0.0), (4433, 0.0), (4434, 0.0), (4437, 0.0), (4439, 0.0), (4447, 0.0), (4449, 0.0), (4451, 0.0), (4453, 0.0), (4454, 0.0), (4455, 0.0), (4457, 0.0), (4460, 0.0), (4463, 0.0), (4478, 0.0), (4480, 0.0), (4483, 0.0), (4485, 0.0), (4491, 0.0), (4493, 0.0), (4496, 0.0), (4498, 0.0), (4499, 0.0), (4500, 0.0), (4506, 0.0), (4508, 0.0), (4509, 0.0), (4519, 0.0), (4525, 0.0), (4526, 0.0), (4532, 0.0), (4538, 0.0), (4539, 0.0), (4541, 0.0), (4542, 0.0), (4547, 0.0), (4549, 0.0), (4556, 0.0), (4558, 0.0), (4559, 0.0), (4560, 0.0), (4561, 0.0), (4562, 0.0), (4565, 0.0), (4568, 0.0), (4569, 0.0), (4570, 0.0), (4577, 0.0), (4578, 0.0), (4580, 0.0), (4592, 0.0), (4597, 0.0), (4599, 0.0), (4600, 0.0), (4609, 0.0), (4613, 0.0), (4615, 0.0), (4618, 0.0), (4622, 0.0), (4628, 0.0), (4631, 0.0), (4635, 0.0), (4644, 0.0), (4645, 0.0), (4647, 0.0), (4648, 0.0), (4651, 0.0), (4654, 0.0), (4655, 0.0), (4659, 0.0), (4662, 0.0), (4667, 0.0), (4671, 0.0), (4672, 0.0), (4675, 0.0), (4676, 0.0), (4681, 0.0), (4683, 0.0), (4688, 0.0), (4690, 0.0), (4700, 0.0), (4702, 0.0), (4711, 0.0), (4714, 0.0), (4716, 0.0), (4720, 0.0), (4725, 0.0), (4728, 0.0), (4730, 0.0), (4736, 0.0), (4737, 0.0), (4740, 0.0), (4741, 0.0), (4742, 0.0), (4745, 0.0), (4750, 0.0), (4751, 0.0), (4754, 0.0), (4755, 0.0), (4758, 0.0), (4759, 0.0)]\n"
          ]
        }
      ]
    },
    {
      "cell_type": "code",
      "source": [
        "print('top 30movies suggested for you : \\n')\n",
        "i=1\n",
        "for movies in Sorted_Similar_Movies:\n",
        "  index=movies[0]\n",
        "  title_from_index=df[df.index==index]['Movie_Title'].values[0]\n",
        "  if(i<31):\n",
        "    print(i,'.',title_from_index)\n",
        "    i+=1"
      ],
      "metadata": {
        "colab": {
          "base_uri": "https://localhost:8080/"
        },
        "id": "QIdUev9qKvcz",
        "outputId": "f332f697-ee96-4c95-e4a4-aca5b2faebd1"
      },
      "execution_count": 40,
      "outputs": [
        {
          "output_type": "stream",
          "name": "stdout",
          "text": [
            "top 30movies suggested for you : \n",
            "\n",
            "1 . Niagara\n",
            "2 . My Week with Marilyn\n",
            "3 . Harry Brown\n",
            "4 . The Curse of Downers Grove\n",
            "5 . Back to the Future\n",
            "6 . Welcome to the Sticks\n",
            "7 . The Juror\n",
            "8 . Some Like It Hot\n",
            "9 . The Kentucky Fried Movie\n",
            "10 . Enough\n",
            "11 . Alice Through the Looking Glass\n",
            "12 . Eye for an Eye\n",
            "13 . Duel in the Sun\n",
            "14 . Superman III\n",
            "15 . The Misfits\n",
            "16 . Small Soldiers\n",
            "17 . Camping Sauvage\n",
            "18 . Beyond the Black Rainbow\n",
            "19 . All That Jazz\n",
            "20 . Brokeback Mountain\n",
            "21 . Tora! Tora! Tora!\n",
            "22 . The Raid\n",
            "23 . To Kill a Mockingbird\n",
            "24 . World Trade Center\n",
            "25 . Out of Time\n",
            "26 . Edge of Darkness\n",
            "27 . Source Code\n",
            "28 . Master and Commander: The Far Side of the World\n",
            "29 . Man on Wire\n",
            "30 . The Dark Knight Rises\n"
          ]
        }
      ]
    },
    {
      "cell_type": "code",
      "source": [
        "Movie_name=input('enter your favourite movie name:')\n",
        "list_of_all_titles=df['Movie_Title'].tolist()\n",
        "Find_Close_Match=difflib.get_close_matches(Movie_name,list_of_all_titles)\n",
        "Close_Match=Find_Close_Match[0]\n",
        "Index_of_Movie=df[df.Movie_Title==Close_Match]['Movie_ID'].values[0]\n",
        "Recommendation_score=list(enumerate(Similarity_score[Index_of_Movie]))\n",
        "Sorted_Similar_Movies=sorted(Recommendation_score,key=lambda x:x[1],reverse=True)\n",
        "print('top 10 movies suggested for you : \\n')\n",
        "i=1\n",
        "for movies in Sorted_Similar_Movies:\n",
        "  index=movies[0]\n",
        "  title_from_index=df[df.Movie_ID==index]['Movie_Title'].values\n",
        "  if(i<11):\n",
        "    print(i,'.',title_from_index)\n",
        "    i+=1"
      ],
      "metadata": {
        "colab": {
          "base_uri": "https://localhost:8080/"
        },
        "id": "ujKyZvmQKvhR",
        "outputId": "656b7de6-e387-44d6-9829-ed7234265c85"
      },
      "execution_count": 41,
      "outputs": [
        {
          "output_type": "stream",
          "name": "stdout",
          "text": [
            "enter your favourite movie name:avtaar\n",
            "top 10 movies suggested for you : \n",
            "\n",
            "1 . ['Avatar']\n",
            "2 . ['Act of Valor']\n",
            "3 . ['Precious']\n",
            "4 . ['The Opposite Sex']\n",
            "5 . ['Run Lola Run']\n",
            "6 . ['Jumper']\n",
            "7 . ['Elizabethtown']\n",
            "8 . ['The Godfather']\n",
            "9 . ['New Nightmare']\n",
            "10 . ['Gerry']\n"
          ]
        }
      ]
    }
  ]
}